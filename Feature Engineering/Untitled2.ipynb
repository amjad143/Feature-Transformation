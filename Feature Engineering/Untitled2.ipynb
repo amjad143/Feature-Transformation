{
 "cells": [
  {
   "cell_type": "code",
   "execution_count": null,
   "id": "fa70a5f3",
   "metadata": {},
   "outputs": [],
   "source": [
    "import pandas as pd\n",
    "import matplotlib.pyplot as plt\n",
    "import seaborn as sns\n",
    "import numpy as np\n",
    "\n",
    "from sklearn.tree import DecisionTreeClassifier\n",
    "from sklearn.metrics import accuracy_score\n",
    "from sklearn.model_selection import cross_val_score"
   ]
  },
  {
   "cell_type": "code",
   "execution_count": null,
   "id": "8d45559c",
   "metadata": {},
   "outputs": [],
   "source": [
    "train = pd.read_csv('train.csv')"
   ]
  },
  {
   "cell_type": "code",
   "execution_count": null,
   "id": "2e5494e6",
   "metadata": {},
   "outputs": [],
   "source": [
    "train.head()"
   ]
  },
  {
   "cell_type": "code",
   "execution_count": null,
   "id": "e8cabacf",
   "metadata": {},
   "outputs": [],
   "source": [
    "train.describe()"
   ]
  },
  {
   "cell_type": "code",
   "execution_count": null,
   "id": "4c748f0a",
   "metadata": {},
   "outputs": [],
   "source": [
    "train.corr()"
   ]
  },
  {
   "cell_type": "markdown",
   "id": "7d3d4220",
   "metadata": {},
   "source": [
    "* Seperating Categorical and Numerical varabels"
   ]
  },
  {
   "cell_type": "code",
   "execution_count": null,
   "id": "7653e89e",
   "metadata": {},
   "outputs": [],
   "source": [
    "train.PassengerId.isnull().sum()"
   ]
  },
  {
   "cell_type": "markdown",
   "id": "e71d72d5",
   "metadata": {},
   "source": [
    "* Removing this column"
   ]
  },
  {
   "cell_type": "code",
   "execution_count": null,
   "id": "30711016",
   "metadata": {},
   "outputs": [],
   "source": [
    "#train.Name.unique()"
   ]
  },
  {
   "cell_type": "code",
   "execution_count": null,
   "id": "d37c0572",
   "metadata": {},
   "outputs": [],
   "source": [
    "train.Pclass.value_counts()"
   ]
  },
  {
   "cell_type": "markdown",
   "id": "6751b945",
   "metadata": {},
   "source": [
    "    "
   ]
  },
  {
   "cell_type": "markdown",
   "id": "2cfa6168",
   "metadata": {},
   "source": [
    "* Its a categorical data we need to change"
   ]
  },
  {
   "cell_type": "code",
   "execution_count": null,
   "id": "fbeb6328",
   "metadata": {},
   "outputs": [],
   "source": [
    "train.SibSp.value_counts()"
   ]
  },
  {
   "cell_type": "code",
   "execution_count": null,
   "id": "50b0f6a7",
   "metadata": {},
   "outputs": [],
   "source": [
    "train.SibSp.unique()"
   ]
  },
  {
   "cell_type": "code",
   "execution_count": null,
   "id": "10cc6d33",
   "metadata": {},
   "outputs": [],
   "source": [
    "train.SibSp.value_counts()"
   ]
  },
  {
   "cell_type": "code",
   "execution_count": null,
   "id": "fb4ca444",
   "metadata": {},
   "outputs": [],
   "source": [
    "sns.histplot(train.SibSp)"
   ]
  },
  {
   "cell_type": "code",
   "execution_count": null,
   "id": "954e008e",
   "metadata": {},
   "outputs": [],
   "source": [
    "train.Parch.value_counts()"
   ]
  },
  {
   "cell_type": "code",
   "execution_count": null,
   "id": "e06f38f1",
   "metadata": {},
   "outputs": [],
   "source": [
    "train.Parch.unique()"
   ]
  },
  {
   "cell_type": "code",
   "execution_count": null,
   "id": "8ad14857",
   "metadata": {},
   "outputs": [],
   "source": [
    "train.Fare.value_counts()"
   ]
  },
  {
   "cell_type": "code",
   "execution_count": null,
   "id": "d2557688",
   "metadata": {
    "scrolled": true
   },
   "outputs": [],
   "source": [
    "train.Fare.unique()"
   ]
  },
  {
   "cell_type": "code",
   "execution_count": null,
   "id": "3d25cd36",
   "metadata": {},
   "outputs": [],
   "source": [
    "sns.histplot(train.Fare)"
   ]
  },
  {
   "cell_type": "markdown",
   "id": "fa89194a",
   "metadata": {},
   "source": [
    "# Seperating Numerical and Categorical data"
   ]
  },
  {
   "cell_type": "code",
   "execution_count": null,
   "id": "529e699e",
   "metadata": {},
   "outputs": [],
   "source": [
    "# Nuumeric values\n",
    "def_num = train[['Age','SibSp','Parch','Fare']]"
   ]
  },
  {
   "cell_type": "code",
   "execution_count": null,
   "id": "cc0dbb3c",
   "metadata": {},
   "outputs": [],
   "source": [
    "# Categorical values\n",
    "def_cat = train[['Survived','Pclass','Sex','Ticket','Cabin','Embarked']]"
   ]
  },
  {
   "cell_type": "code",
   "execution_count": null,
   "id": "8e16008d",
   "metadata": {},
   "outputs": [],
   "source": [
    "def_num.corr()"
   ]
  },
  {
   "cell_type": "code",
   "execution_count": null,
   "id": "31008bec",
   "metadata": {},
   "outputs": [],
   "source": [
    "for i in def_num.columns:\n",
    "    plt.hist(def_num[i])\n",
    "    plt.title(i)\n",
    "    plt.show()"
   ]
  },
  {
   "cell_type": "code",
   "execution_count": null,
   "id": "a35e98e7",
   "metadata": {},
   "outputs": [],
   "source": [
    "def_num.isnull().sum()"
   ]
  },
  {
   "cell_type": "code",
   "execution_count": null,
   "id": "351efe68",
   "metadata": {},
   "outputs": [],
   "source": [
    "def_num.info()"
   ]
  },
  {
   "cell_type": "markdown",
   "id": "3c058f22",
   "metadata": {},
   "source": [
    "## First checking on Continues data\n",
    "* Age and Fare"
   ]
  },
  {
   "cell_type": "code",
   "execution_count": null,
   "id": "8c20bd48",
   "metadata": {},
   "outputs": [],
   "source": [
    "train.Age.isnull().sum()"
   ]
  },
  {
   "cell_type": "code",
   "execution_count": null,
   "id": "5c27ab06",
   "metadata": {},
   "outputs": [],
   "source": [
    "sns.distplot(train.Age)"
   ]
  },
  {
   "cell_type": "code",
   "execution_count": null,
   "id": "685a10f1",
   "metadata": {},
   "outputs": [],
   "source": [
    "#pd.cut(train['Age'],10)"
   ]
  },
  {
   "cell_type": "code",
   "execution_count": null,
   "id": "765ca832",
   "metadata": {},
   "outputs": [],
   "source": [
    "sns.distplot(train.Fare.fillna(train.Fare.mean()))"
   ]
  },
  {
   "cell_type": "markdown",
   "id": "922cfc81",
   "metadata": {},
   "source": [
    "* Right Skew data"
   ]
  },
  {
   "cell_type": "code",
   "execution_count": null,
   "id": "2618cf47",
   "metadata": {},
   "outputs": [],
   "source": [
    "def_num['Age'] = def_num['Age'].fillna(def_num.Age.mean())"
   ]
  },
  {
   "cell_type": "code",
   "execution_count": null,
   "id": "b3048ba4",
   "metadata": {},
   "outputs": [],
   "source": [
    "def_num.isnull().sum()"
   ]
  },
  {
   "cell_type": "code",
   "execution_count": null,
   "id": "c41f4f5f",
   "metadata": {},
   "outputs": [],
   "source": [
    "X = def_num[['Age','Fare']]\n",
    "y = train['Survived']\n",
    "X.isnull().sum()"
   ]
  },
  {
   "cell_type": "code",
   "execution_count": null,
   "id": "d70b8ffb",
   "metadata": {},
   "outputs": [],
   "source": [
    "y.isnull().sum()"
   ]
  },
  {
   "cell_type": "code",
   "execution_count": null,
   "id": "58e2af7b",
   "metadata": {},
   "outputs": [],
   "source": [
    "from sklearn.preprocessing import KBinsDiscretizer\n",
    "from sklearn.compose import ColumnTransformer"
   ]
  },
  {
   "cell_type": "code",
   "execution_count": null,
   "id": "fdc09e55",
   "metadata": {},
   "outputs": [],
   "source": [
    "# appling on 'age' column\n",
    "kbin_age = KBinsDiscretizer(n_bins=15,encode='ordinal',strategy='quantile')\n",
    "# appling on 'fare' Column\n",
    "kbin_fare = KBinsDiscretizer(n_bins=15,encode='ordinal',strategy='quantile')\n",
    "\n",
    "\n",
    "trf = ColumnTransformer([\n",
    "    ('first',kbin_age,[0]),\n",
    "    ('second',kbin_fare,[1])\n",
    "])"
   ]
  },
  {
   "cell_type": "code",
   "execution_count": null,
   "id": "a01f3bfb",
   "metadata": {},
   "outputs": [],
   "source": [
    "# Another method to apply bins\n",
    "# Add Fare to sub dataframes\n",
    "df_bin  =  X['Fare'] \n",
    "df_bin = pd.cut(train['Fare'], bins=5) # discretised \n",
    "df_bin"
   ]
  },
  {
   "cell_type": "code",
   "execution_count": null,
   "id": "55533675",
   "metadata": {},
   "outputs": [],
   "source": [
    "# What do our Fare bins look like?\n",
    "X.Fare.value_counts()"
   ]
  },
  {
   "cell_type": "code",
   "execution_count": null,
   "id": "134c3ffe",
   "metadata": {},
   "outputs": [],
   "source": [
    "from sklearn.model_selection import train_test_split"
   ]
  },
  {
   "cell_type": "code",
   "execution_count": null,
   "id": "86b99ca2",
   "metadata": {},
   "outputs": [],
   "source": [
    "X_train,X_test,y_train,y_test = train_test_split(X,y,test_size=0.2,random_state=42)"
   ]
  },
  {
   "cell_type": "code",
   "execution_count": null,
   "id": "aebe5ceb",
   "metadata": {},
   "outputs": [],
   "source": [
    "trf.fit_transform(X_train)\n",
    "X_test_trf = trf.transform(X_test)"
   ]
  },
  {
   "cell_type": "code",
   "execution_count": null,
   "id": "93f1a313",
   "metadata": {},
   "outputs": [],
   "source": [
    "trf.named_transformers_['second'].n_bins_"
   ]
  },
  {
   "cell_type": "code",
   "execution_count": null,
   "id": "d1ac83d3",
   "metadata": {},
   "outputs": [],
   "source": [
    "trf.named_transformers_['first'].n_bins_"
   ]
  },
  {
   "cell_type": "code",
   "execution_count": null,
   "id": "25bc8c19",
   "metadata": {},
   "outputs": [],
   "source": [
    "# Range of the bins coulms\n",
    "trf.named_transformers_['first'].bin_edges_"
   ]
  },
  {
   "cell_type": "code",
   "execution_count": null,
   "id": "80f45b77",
   "metadata": {},
   "outputs": [],
   "source": [
    "# Range of the bins coulms\n",
    "trf.named_transformers_['second'].bin_edges_"
   ]
  },
  {
   "cell_type": "code",
   "execution_count": null,
   "id": "fe6a4212",
   "metadata": {},
   "outputs": [],
   "source": [
    "#df_bin['Fare'] = pd.cut(train['Fare'], bins=5) # discretised \n",
    "output_age = pd.cut(x=X_train['Age'],bins=trf.named_transformers_['first'].bin_edges_[0].tolist())\n",
    "output_fare = pd.cut(x=X_train['Fare'],bins=trf.named_transformers_['second'].bin_edges_[0].tolist())"
   ]
  },
  {
   "cell_type": "code",
   "execution_count": null,
   "id": "c30fc1b4",
   "metadata": {},
   "outputs": [],
   "source": [
    "output_age.isnull().sum()"
   ]
  },
  {
   "cell_type": "code",
   "execution_count": null,
   "id": "0c7da8b2",
   "metadata": {},
   "outputs": [],
   "source": [
    "output_fare.isnull().sum()"
   ]
  },
  {
   "cell_type": "code",
   "execution_count": null,
   "id": "7c85be37",
   "metadata": {},
   "outputs": [],
   "source": [
    "output_fare.value_counts().sum()"
   ]
  },
  {
   "cell_type": "code",
   "execution_count": null,
   "id": "e6fbae44",
   "metadata": {},
   "outputs": [],
   "source": [
    "def discretize(bins,strategy):\n",
    "    kbin_age = KBinsDiscretizer(n_bins=bins,encode='ordinal',strategy=strategy)\n",
    "    kbin_fare = KBinsDiscretizer(n_bins=bins,encode='ordinal',strategy=strategy)\n",
    "    \n",
    "    trf = ColumnTransformer([\n",
    "        ('first',kbin_age,[0]),\n",
    "        ('second',kbin_fare,[1])\n",
    "    ])\n",
    "    \n",
    "    X_trf = trf.fit_transform(X)\n",
    "    print(np.mean(cross_val_score(DecisionTreeClassifier(),X,y,cv=10,scoring='accuracy')))\n",
    "    \n",
    "    plt.figure(figsize=(14,4))\n",
    "    plt.subplot(121)\n",
    "    plt.hist(X['Age'])\n",
    "    plt.title(\"Before\")\n",
    "\n",
    "    plt.subplot(122)\n",
    "    plt.hist(X_trf[:,0],color='red')\n",
    "    plt.title(\"After\")\n",
    "\n",
    "    plt.show()\n",
    "    \n",
    "    plt.figure(figsize=(14,4))\n",
    "    plt.subplot(121)\n",
    "    plt.hist(X['Fare'])\n",
    "    plt.title(\"Before\")\n",
    "\n",
    "    plt.subplot(122)\n",
    "    plt.hist(X_trf[:,1],color='red')\n",
    "    plt.title(\"Fare\")\n",
    "\n",
    "    plt.show()    "
   ]
  },
  {
   "cell_type": "code",
   "execution_count": null,
   "id": "fbfaeca2",
   "metadata": {
    "scrolled": true
   },
   "outputs": [],
   "source": [
    "discretize(10,'quantile')"
   ]
  },
  {
   "cell_type": "code",
   "execution_count": null,
   "id": "87711a73",
   "metadata": {},
   "outputs": [],
   "source": []
  },
  {
   "cell_type": "code",
   "execution_count": null,
   "id": "fec5e539",
   "metadata": {},
   "outputs": [],
   "source": [
    "def_num"
   ]
  },
  {
   "cell_type": "code",
   "execution_count": null,
   "id": "a6f0ab1f",
   "metadata": {},
   "outputs": [],
   "source": [
    "def_num.info()"
   ]
  },
  {
   "cell_type": "code",
   "execution_count": null,
   "id": "a1d87bb5",
   "metadata": {},
   "outputs": [],
   "source": [
    "def_num['Parch'].value_counts()"
   ]
  },
  {
   "cell_type": "code",
   "execution_count": null,
   "id": "6d26427e",
   "metadata": {},
   "outputs": [],
   "source": [
    "def_num['SibSp'].value_counts()"
   ]
  },
  {
   "cell_type": "markdown",
   "id": "c7765db2",
   "metadata": {},
   "source": [
    "# Combining Parch and SibSp"
   ]
  },
  {
   "cell_type": "markdown",
   "id": "625fc51b",
   "metadata": {},
   "source": [
    "* Its a right skew data"
   ]
  },
  {
   "cell_type": "code",
   "execution_count": null,
   "id": "2bd0715c",
   "metadata": {},
   "outputs": [],
   "source": [
    "def_num['Family'] = def_num['SibSp'] + def_num['Parch'] + 1\n",
    "def_num['Family']"
   ]
  },
  {
   "cell_type": "markdown",
   "id": "32eca054",
   "metadata": {},
   "source": [
    "# Appling Bins to the data"
   ]
  },
  {
   "cell_type": "markdown",
   "id": "0fb12d25",
   "metadata": {},
   "source": [
    "* Converting Numerical data to Categorical data"
   ]
  },
  {
   "cell_type": "code",
   "execution_count": null,
   "id": "90cd5228",
   "metadata": {},
   "outputs": [],
   "source": [
    "def fam_cat(x):\n",
    "    if x == 1:\n",
    "        return 'Alone'\n",
    "    elif x > 1 and x <= 4:\n",
    "        return 'Small Family'\n",
    "    else:\n",
    "        return 'Large Family'"
   ]
  },
  {
   "cell_type": "code",
   "execution_count": null,
   "id": "32e85c8d",
   "metadata": {},
   "outputs": [],
   "source": [
    "def_num['Family'].value_counts()"
   ]
  },
  {
   "cell_type": "code",
   "execution_count": null,
   "id": "7ed2ad16",
   "metadata": {},
   "outputs": [],
   "source": []
  }
 ],
 "metadata": {
  "kernelspec": {
   "display_name": "Python 3",
   "language": "python",
   "name": "python3"
  },
  "language_info": {
   "codemirror_mode": {
    "name": "ipython",
    "version": 3
   },
   "file_extension": ".py",
   "mimetype": "text/x-python",
   "name": "python",
   "nbconvert_exporter": "python",
   "pygments_lexer": "ipython3",
   "version": "3.8.8"
  }
 },
 "nbformat": 4,
 "nbformat_minor": 5
}
