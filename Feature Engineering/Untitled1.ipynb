{
 "cells": [
  {
   "cell_type": "code",
   "execution_count": 1,
   "id": "86d22492",
   "metadata": {},
   "outputs": [],
   "source": [
    "import pandas as pd\n",
    "import seaborn as sns\n",
    "import numpy as np\n",
    "import matplotlib.pyplot as plt"
   ]
  },
  {
   "cell_type": "code",
   "execution_count": 2,
   "id": "5a2fdcad",
   "metadata": {
    "scrolled": true
   },
   "outputs": [
    {
     "data": {
      "text/html": [
       "<div>\n",
       "<style scoped>\n",
       "    .dataframe tbody tr th:only-of-type {\n",
       "        vertical-align: middle;\n",
       "    }\n",
       "\n",
       "    .dataframe tbody tr th {\n",
       "        vertical-align: top;\n",
       "    }\n",
       "\n",
       "    .dataframe thead th {\n",
       "        text-align: right;\n",
       "    }\n",
       "</style>\n",
       "<table border=\"1\" class=\"dataframe\">\n",
       "  <thead>\n",
       "    <tr style=\"text-align: right;\">\n",
       "      <th></th>\n",
       "      <th>PassengerId</th>\n",
       "      <th>Survived</th>\n",
       "      <th>Pclass</th>\n",
       "      <th>Name</th>\n",
       "      <th>Sex</th>\n",
       "      <th>Age</th>\n",
       "      <th>SibSp</th>\n",
       "      <th>Parch</th>\n",
       "      <th>Ticket</th>\n",
       "      <th>Fare</th>\n",
       "      <th>Cabin</th>\n",
       "      <th>Embarked</th>\n",
       "    </tr>\n",
       "  </thead>\n",
       "  <tbody>\n",
       "    <tr>\n",
       "      <th>0</th>\n",
       "      <td>1</td>\n",
       "      <td>0</td>\n",
       "      <td>3</td>\n",
       "      <td>Braund, Mr. Owen Harris</td>\n",
       "      <td>male</td>\n",
       "      <td>22.0</td>\n",
       "      <td>1</td>\n",
       "      <td>0</td>\n",
       "      <td>A/5 21171</td>\n",
       "      <td>7.2500</td>\n",
       "      <td>NaN</td>\n",
       "      <td>S</td>\n",
       "    </tr>\n",
       "    <tr>\n",
       "      <th>1</th>\n",
       "      <td>2</td>\n",
       "      <td>1</td>\n",
       "      <td>1</td>\n",
       "      <td>Cumings, Mrs. John Bradley (Florence Briggs Th...</td>\n",
       "      <td>female</td>\n",
       "      <td>38.0</td>\n",
       "      <td>1</td>\n",
       "      <td>0</td>\n",
       "      <td>PC 17599</td>\n",
       "      <td>71.2833</td>\n",
       "      <td>C85</td>\n",
       "      <td>C</td>\n",
       "    </tr>\n",
       "    <tr>\n",
       "      <th>2</th>\n",
       "      <td>3</td>\n",
       "      <td>1</td>\n",
       "      <td>3</td>\n",
       "      <td>Heikkinen, Miss. Laina</td>\n",
       "      <td>female</td>\n",
       "      <td>26.0</td>\n",
       "      <td>0</td>\n",
       "      <td>0</td>\n",
       "      <td>STON/O2. 3101282</td>\n",
       "      <td>7.9250</td>\n",
       "      <td>NaN</td>\n",
       "      <td>S</td>\n",
       "    </tr>\n",
       "    <tr>\n",
       "      <th>3</th>\n",
       "      <td>4</td>\n",
       "      <td>1</td>\n",
       "      <td>1</td>\n",
       "      <td>Futrelle, Mrs. Jacques Heath (Lily May Peel)</td>\n",
       "      <td>female</td>\n",
       "      <td>35.0</td>\n",
       "      <td>1</td>\n",
       "      <td>0</td>\n",
       "      <td>113803</td>\n",
       "      <td>53.1000</td>\n",
       "      <td>C123</td>\n",
       "      <td>S</td>\n",
       "    </tr>\n",
       "    <tr>\n",
       "      <th>4</th>\n",
       "      <td>5</td>\n",
       "      <td>0</td>\n",
       "      <td>3</td>\n",
       "      <td>Allen, Mr. William Henry</td>\n",
       "      <td>male</td>\n",
       "      <td>35.0</td>\n",
       "      <td>0</td>\n",
       "      <td>0</td>\n",
       "      <td>373450</td>\n",
       "      <td>8.0500</td>\n",
       "      <td>NaN</td>\n",
       "      <td>S</td>\n",
       "    </tr>\n",
       "  </tbody>\n",
       "</table>\n",
       "</div>"
      ],
      "text/plain": [
       "   PassengerId  Survived  Pclass  \\\n",
       "0            1         0       3   \n",
       "1            2         1       1   \n",
       "2            3         1       3   \n",
       "3            4         1       1   \n",
       "4            5         0       3   \n",
       "\n",
       "                                                Name     Sex   Age  SibSp  \\\n",
       "0                            Braund, Mr. Owen Harris    male  22.0      1   \n",
       "1  Cumings, Mrs. John Bradley (Florence Briggs Th...  female  38.0      1   \n",
       "2                             Heikkinen, Miss. Laina  female  26.0      0   \n",
       "3       Futrelle, Mrs. Jacques Heath (Lily May Peel)  female  35.0      1   \n",
       "4                           Allen, Mr. William Henry    male  35.0      0   \n",
       "\n",
       "   Parch            Ticket     Fare Cabin Embarked  \n",
       "0      0         A/5 21171   7.2500   NaN        S  \n",
       "1      0          PC 17599  71.2833   C85        C  \n",
       "2      0  STON/O2. 3101282   7.9250   NaN        S  \n",
       "3      0            113803  53.1000  C123        S  \n",
       "4      0            373450   8.0500   NaN        S  "
      ]
     },
     "execution_count": 2,
     "metadata": {},
     "output_type": "execute_result"
    }
   ],
   "source": [
    "train = pd.read_csv('train.csv')\n",
    "test = pd.read_csv('test.csv')\n",
    "train.head()"
   ]
  },
  {
   "cell_type": "raw",
   "id": "7eba40e6",
   "metadata": {},
   "source": [
    "test.head()"
   ]
  },
  {
   "cell_type": "raw",
   "id": "79280cab",
   "metadata": {},
   "source": [
    "test.shape"
   ]
  },
  {
   "cell_type": "code",
   "execution_count": 3,
   "id": "f7f1c03a",
   "metadata": {},
   "outputs": [
    {
     "data": {
      "text/plain": [
       "(891, 12)"
      ]
     },
     "execution_count": 3,
     "metadata": {},
     "output_type": "execute_result"
    }
   ],
   "source": [
    "train.shape"
   ]
  },
  {
   "cell_type": "code",
   "execution_count": 4,
   "id": "44677b48",
   "metadata": {},
   "outputs": [
    {
     "data": {
      "text/plain": [
       "PassengerId      0\n",
       "Survived         0\n",
       "Pclass           0\n",
       "Name             0\n",
       "Sex              0\n",
       "Age            177\n",
       "SibSp            0\n",
       "Parch            0\n",
       "Ticket           0\n",
       "Fare             0\n",
       "Cabin          687\n",
       "Embarked         2\n",
       "dtype: int64"
      ]
     },
     "execution_count": 4,
     "metadata": {},
     "output_type": "execute_result"
    }
   ],
   "source": [
    "train.isnull().sum()"
   ]
  },
  {
   "cell_type": "raw",
   "id": "024cf7d9",
   "metadata": {},
   "source": [
    "test.isnull().sum()"
   ]
  },
  {
   "cell_type": "code",
   "execution_count": 5,
   "id": "526efa28",
   "metadata": {},
   "outputs": [
    {
     "name": "stdout",
     "output_type": "stream",
     "text": [
      "<class 'pandas.core.frame.DataFrame'>\n",
      "RangeIndex: 891 entries, 0 to 890\n",
      "Data columns (total 12 columns):\n",
      " #   Column       Non-Null Count  Dtype  \n",
      "---  ------       --------------  -----  \n",
      " 0   PassengerId  891 non-null    int64  \n",
      " 1   Survived     891 non-null    int64  \n",
      " 2   Pclass       891 non-null    int64  \n",
      " 3   Name         891 non-null    object \n",
      " 4   Sex          891 non-null    object \n",
      " 5   Age          714 non-null    float64\n",
      " 6   SibSp        891 non-null    int64  \n",
      " 7   Parch        891 non-null    int64  \n",
      " 8   Ticket       891 non-null    object \n",
      " 9   Fare         891 non-null    float64\n",
      " 10  Cabin        204 non-null    object \n",
      " 11  Embarked     889 non-null    object \n",
      "dtypes: float64(2), int64(5), object(5)\n",
      "memory usage: 83.7+ KB\n"
     ]
    }
   ],
   "source": [
    "train.info()"
   ]
  },
  {
   "cell_type": "raw",
   "id": "41958fd1",
   "metadata": {},
   "source": [
    "test.info()"
   ]
  },
  {
   "cell_type": "markdown",
   "id": "7e5f83e5",
   "metadata": {},
   "source": [
    "# Accordin to data we need to add two data sets and verify"
   ]
  },
  {
   "cell_type": "raw",
   "id": "f775252b",
   "metadata": {},
   "source": [
    "train['train_test'] = 1\n",
    "test['train_test'] = 0\n",
    "\n",
    "#placing 'Survived' collumn \"Null\"\n",
    "test['Survived'] = np.NaN\n",
    "\n",
    "#addin both train and test columns\n",
    "all_data = pd.concat([train,test])\n",
    "\n",
    "all_data.head()"
   ]
  },
  {
   "cell_type": "raw",
   "id": "9a3545f1",
   "metadata": {},
   "source": [
    "all_data.shape"
   ]
  },
  {
   "cell_type": "raw",
   "id": "e62b8a8c",
   "metadata": {},
   "source": [
    "all_data.columns"
   ]
  },
  {
   "cell_type": "markdown",
   "id": "c77469c3",
   "metadata": {},
   "source": [
    "# Replacing Null values in 'Age' Column its a Contineous column\n",
    "* Here Age columnis Float"
   ]
  },
  {
   "cell_type": "code",
   "execution_count": 6,
   "id": "03ee7f93",
   "metadata": {},
   "outputs": [
    {
     "data": {
      "text/plain": [
       "177"
      ]
     },
     "execution_count": 6,
     "metadata": {},
     "output_type": "execute_result"
    }
   ],
   "source": [
    "train['Age'].isnull().sum()"
   ]
  },
  {
   "cell_type": "raw",
   "id": "c1fda342",
   "metadata": {},
   "source": [
    "test['Age'].isnull().sum()"
   ]
  },
  {
   "cell_type": "code",
   "execution_count": 7,
   "id": "d0bbcd7e",
   "metadata": {},
   "outputs": [
    {
     "data": {
      "text/plain": [
       "19.865319865319865"
      ]
     },
     "execution_count": 7,
     "metadata": {},
     "output_type": "execute_result"
    }
   ],
   "source": [
    "train['Age'].isnull().mean()*100"
   ]
  },
  {
   "cell_type": "code",
   "execution_count": 8,
   "id": "3c9bf3a4",
   "metadata": {},
   "outputs": [
    {
     "data": {
      "text/plain": [
       "20.574162679425836"
      ]
     },
     "execution_count": 8,
     "metadata": {},
     "output_type": "execute_result"
    }
   ],
   "source": [
    "test['Age'].isnull().mean()*100"
   ]
  },
  {
   "cell_type": "code",
   "execution_count": 9,
   "id": "13bac201",
   "metadata": {},
   "outputs": [
    {
     "data": {
      "text/plain": [
       "sum    21205.17\n",
       "min        0.42\n",
       "Name: Age, dtype: float64"
      ]
     },
     "execution_count": 9,
     "metadata": {},
     "output_type": "execute_result"
    }
   ],
   "source": [
    "train['Age'].agg(['sum','min'])"
   ]
  },
  {
   "cell_type": "code",
   "execution_count": 10,
   "id": "d26f2850",
   "metadata": {},
   "outputs": [],
   "source": [
    "#train.Age.rolling(window=5,min_periods=1).agg(['sum','min'])"
   ]
  },
  {
   "cell_type": "markdown",
   "id": "e7c21125",
   "metadata": {},
   "source": [
    "* Comparing to 'train_data' and 'test_data' test data have more missing value mean"
   ]
  },
  {
   "cell_type": "code",
   "execution_count": 11,
   "id": "d400ec92",
   "metadata": {},
   "outputs": [
    {
     "name": "stderr",
     "output_type": "stream",
     "text": [
      "C:\\Users\\user\\anaconda3\\lib\\site-packages\\seaborn\\distributions.py:2557: FutureWarning: `distplot` is a deprecated function and will be removed in a future version. Please adapt your code to use either `displot` (a figure-level function with similar flexibility) or `histplot` (an axes-level function for histograms).\n",
      "  warnings.warn(msg, FutureWarning)\n"
     ]
    },
    {
     "data": {
      "image/png": "[encoded data removed]",
      "text/plain": [
       "<Figure size 720x216 with 1 Axes>"
      ]
     },
     "metadata": {},
     "output_type": "display_data"
    }
   ],
   "source": [
    "plt.rcParams['figure.figsize'] = (10,3)\n",
    "plt.style.use('fivethirtyeight')\n",
    "\n",
    "\n",
    "plt.subplot(1,2,2)\n",
    "sns.distplot(train['Age'])\n",
    "plt.show()"
   ]
  },
  {
   "cell_type": "markdown",
   "id": "cf83317d",
   "metadata": {},
   "source": [
    "# 1.Replacing Mean and Medain"
   ]
  },
  {
   "cell_type": "markdown",
   "id": "b1ed643a",
   "metadata": {},
   "source": [
    "* First appling on Train dataset"
   ]
  },
  {
   "cell_type": "code",
   "execution_count": 12,
   "id": "d5645eb9",
   "metadata": {},
   "outputs": [],
   "source": [
    "X = train[['Age','Fare']]\n",
    "y = train['Survived']"
   ]
  },
  {
   "cell_type": "code",
   "execution_count": 13,
   "id": "e0da93d4",
   "metadata": {},
   "outputs": [
    {
     "data": {
      "text/html": [
       "<div>\n",
       "<style scoped>\n",
       "    .dataframe tbody tr th:only-of-type {\n",
       "        vertical-align: middle;\n",
       "    }\n",
       "\n",
       "    .dataframe tbody tr th {\n",
       "        vertical-align: top;\n",
       "    }\n",
       "\n",
       "    .dataframe thead th {\n",
       "        text-align: right;\n",
       "    }\n",
       "</style>\n",
       "<table border=\"1\" class=\"dataframe\">\n",
       "  <thead>\n",
       "    <tr style=\"text-align: right;\">\n",
       "      <th></th>\n",
       "      <th>Age</th>\n",
       "      <th>Fare</th>\n",
       "    </tr>\n",
       "  </thead>\n",
       "  <tbody>\n",
       "    <tr>\n",
       "      <th>0</th>\n",
       "      <td>22.0</td>\n",
       "      <td>7.2500</td>\n",
       "    </tr>\n",
       "    <tr>\n",
       "      <th>1</th>\n",
       "      <td>38.0</td>\n",
       "      <td>71.2833</td>\n",
       "    </tr>\n",
       "    <tr>\n",
       "      <th>2</th>\n",
       "      <td>26.0</td>\n",
       "      <td>7.9250</td>\n",
       "    </tr>\n",
       "    <tr>\n",
       "      <th>3</th>\n",
       "      <td>35.0</td>\n",
       "      <td>53.1000</td>\n",
       "    </tr>\n",
       "    <tr>\n",
       "      <th>4</th>\n",
       "      <td>35.0</td>\n",
       "      <td>8.0500</td>\n",
       "    </tr>\n",
       "  </tbody>\n",
       "</table>\n",
       "</div>"
      ],
      "text/plain": [
       "    Age     Fare\n",
       "0  22.0   7.2500\n",
       "1  38.0  71.2833\n",
       "2  26.0   7.9250\n",
       "3  35.0  53.1000\n",
       "4  35.0   8.0500"
      ]
     },
     "execution_count": 13,
     "metadata": {},
     "output_type": "execute_result"
    }
   ],
   "source": [
    "X.head()"
   ]
  },
  {
   "cell_type": "code",
   "execution_count": 14,
   "id": "f0b1f396",
   "metadata": {},
   "outputs": [
    {
     "data": {
      "text/plain": [
       "0      0\n",
       "1      1\n",
       "2      1\n",
       "3      1\n",
       "4      0\n",
       "      ..\n",
       "886    0\n",
       "887    1\n",
       "888    0\n",
       "889    1\n",
       "890    0\n",
       "Name: Survived, Length: 891, dtype: int64"
      ]
     },
     "execution_count": 14,
     "metadata": {},
     "output_type": "execute_result"
    }
   ],
   "source": [
    "y"
   ]
  },
  {
   "cell_type": "code",
   "execution_count": 15,
   "id": "b911b37c",
   "metadata": {},
   "outputs": [],
   "source": [
    "from sklearn.model_selection import train_test_split"
   ]
  },
  {
   "cell_type": "code",
   "execution_count": 16,
   "id": "3501e5ac",
   "metadata": {
    "scrolled": true
   },
   "outputs": [],
   "source": [
    "X_train,X_test,y_train,y_test = train_test_split(X,y,test_size=0.2,random_state=42)"
   ]
  },
  {
   "cell_type": "code",
   "execution_count": 17,
   "id": "fcc9421b",
   "metadata": {},
   "outputs": [
    {
     "data": {
      "text/plain": [
       "((712, 2), (179, 2))"
      ]
     },
     "execution_count": 17,
     "metadata": {},
     "output_type": "execute_result"
    }
   ],
   "source": [
    "X_train.shape, X_test.shape"
   ]
  },
  {
   "cell_type": "code",
   "execution_count": 18,
   "id": "cc8ebc16",
   "metadata": {},
   "outputs": [
    {
     "data": {
      "text/plain": [
       "Age     0.196629\n",
       "Fare    0.000000\n",
       "dtype: float64"
      ]
     },
     "execution_count": 18,
     "metadata": {},
     "output_type": "execute_result"
    }
   ],
   "source": [
    "X_train.isnull().mean()"
   ]
  },
  {
   "cell_type": "code",
   "execution_count": 19,
   "id": "f0cdb351",
   "metadata": {},
   "outputs": [
    {
     "data": {
      "text/plain": [
       "Age     0.206704\n",
       "Fare    0.000000\n",
       "dtype: float64"
      ]
     },
     "execution_count": 19,
     "metadata": {},
     "output_type": "execute_result"
    }
   ],
   "source": [
    "#Test data havin more percentage\n",
    "X_test.isnull().mean()"
   ]
  },
  {
   "cell_type": "code",
   "execution_count": 20,
   "id": "a931c72c",
   "metadata": {},
   "outputs": [],
   "source": [
    "# Creating a new columns\n",
    "mean_age = X_train['Age'].mean()\n",
    "median_age = X_train['Age'].median()"
   ]
  },
  {
   "cell_type": "code",
   "execution_count": 21,
   "id": "05dcb43d",
   "metadata": {},
   "outputs": [
    {
     "data": {
      "text/plain": [
       "29.498846153846156"
      ]
     },
     "execution_count": 21,
     "metadata": {},
     "output_type": "execute_result"
    }
   ],
   "source": [
    "mean_age"
   ]
  },
  {
   "cell_type": "code",
   "execution_count": 22,
   "id": "6deb63ae",
   "metadata": {},
   "outputs": [
    {
     "data": {
      "text/plain": [
       "28.0"
      ]
     },
     "execution_count": 22,
     "metadata": {},
     "output_type": "execute_result"
    }
   ],
   "source": [
    "median_age"
   ]
  },
  {
   "cell_type": "code",
   "execution_count": 23,
   "id": "defca9e1",
   "metadata": {},
   "outputs": [
    {
     "name": "stderr",
     "output_type": "stream",
     "text": [
      "<ipython-input-23-e42c49c78a55>:1: SettingWithCopyWarning: \n",
      "A value is trying to be set on a copy of a slice from a DataFrame.\n",
      "Try using .loc[row_indexer,col_indexer] = value instead\n",
      "\n",
      "See the caveats in the documentation: https://pandas.pydata.org/pandas-docs/stable/user_guide/indexing.html#returning-a-view-versus-a-copy\n",
      "  X_train['Age_median'] = X_train['Age'].fillna(median_age)\n",
      "<ipython-input-23-e42c49c78a55>:2: SettingWithCopyWarning: \n",
      "A value is trying to be set on a copy of a slice from a DataFrame.\n",
      "Try using .loc[row_indexer,col_indexer] = value instead\n",
      "\n",
      "See the caveats in the documentation: https://pandas.pydata.org/pandas-docs/stable/user_guide/indexing.html#returning-a-view-versus-a-copy\n",
      "  X_train['Age_mean'] = X_train['Age'].fillna(mean_age)\n"
     ]
    }
   ],
   "source": [
    "X_train['Age_median'] = X_train['Age'].fillna(median_age)\n",
    "X_train['Age_mean'] = X_train['Age'].fillna(mean_age)"
   ]
  },
  {
   "cell_type": "markdown",
   "id": "5cc736be",
   "metadata": {},
   "source": [
    "# Checking \" Variance\" of the Age Column"
   ]
  },
  {
   "cell_type": "code",
   "execution_count": 24,
   "id": "76acacd0",
   "metadata": {},
   "outputs": [
    {
     "name": "stdout",
     "output_type": "stream",
     "text": [
      "Original Age variable variance:  210.2517072477438\n",
      "\n",
      "Age Variance after median imputation:  169.20731007048096\n",
      "Age Variance after mean imputation:  168.8519336687225\n"
     ]
    }
   ],
   "source": [
    "print('Original Age variable variance: ', X_train['Age'].var())\n",
    "print()\n",
    "# replacing the 'Mean' and 'Median' values\n",
    "print('Age Variance after median imputation: ', X_train['Age_median'].var())\n",
    "print('Age Variance after mean imputation: ', X_train['Age_mean'].var())"
   ]
  },
  {
   "cell_type": "code",
   "execution_count": 25,
   "id": "8d4c107c",
   "metadata": {},
   "outputs": [],
   "source": [
    "import matplotlib.pyplot as plt"
   ]
  },
  {
   "cell_type": "code",
   "execution_count": 26,
   "id": "8509a6e4",
   "metadata": {},
   "outputs": [
    {
     "data": {
      "text/plain": [
       "<matplotlib.legend.Legend at 0x24e9dc8bd90>"
      ]
     },
     "execution_count": 26,
     "metadata": {},
     "output_type": "execute_result"
    },
    {
     "data": {
      "image/png": "[encoded data removed]",
      "text/plain": [
       "<Figure size 720x216 with 1 Axes>"
      ]
     },
     "metadata": {},
     "output_type": "display_data"
    }
   ],
   "source": [
    "fig = plt.figure()\n",
    "ax= fig.add_subplot(111)\n",
    "\n",
    "# Original variable distribution\n",
    "X_train['Age'].plot(kind = 'kde' , ax = ax)\n",
    "\n",
    "#Variable imputed with mean\n",
    "X_train['Age_mean'].plot(kind='kde',ax=ax,color = 'red')\n",
    "\n",
    "#Variable imputed with Median\n",
    "X_train['Age_median'].plot(kind='kde',ax=ax,color = 'green')\n",
    "\n",
    "# add legends\n",
    "lines, labels = ax.get_legend_handles_labels()\n",
    "ax.legend(lines, labels, loc='best')"
   ]
  },
  {
   "cell_type": "code",
   "execution_count": 27,
   "id": "20c1ed4f",
   "metadata": {},
   "outputs": [
    {
     "data": {
      "text/plain": [
       "<AxesSubplot:>"
      ]
     },
     "execution_count": 27,
     "metadata": {},
     "output_type": "execute_result"
    },
    {
     "data": {
      "image/png": "[encoded data removed]",
      "text/plain": [
       "<Figure size 720x216 with 1 Axes>"
      ]
     },
     "metadata": {},
     "output_type": "display_data"
    }
   ],
   "source": [
    "X_train[['Age','Age_mean','Age_median']].boxplot()"
   ]
  },
  {
   "cell_type": "markdown",
   "id": "b125bc4f",
   "metadata": {},
   "source": [
    "# 2.Replacing Orbitary values "
   ]
  },
  {
   "cell_type": "code",
   "execution_count": 29,
   "id": "36034ff1",
   "metadata": {},
   "outputs": [
    {
     "name": "stderr",
     "output_type": "stream",
     "text": [
      "<ipython-input-29-9c7dfee22c3c>:1: SettingWithCopyWarning: \n",
      "A value is trying to be set on a copy of a slice from a DataFrame.\n",
      "Try using .loc[row_indexer,col_indexer] = value instead\n",
      "\n",
      "See the caveats in the documentation: https://pandas.pydata.org/pandas-docs/stable/user_guide/indexing.html#returning-a-view-versus-a-copy\n",
      "  X_train['Age_99'] = X_train['Age'].fillna(99)\n",
      "<ipython-input-29-9c7dfee22c3c>:2: SettingWithCopyWarning: \n",
      "A value is trying to be set on a copy of a slice from a DataFrame.\n",
      "Try using .loc[row_indexer,col_indexer] = value instead\n",
      "\n",
      "See the caveats in the documentation: https://pandas.pydata.org/pandas-docs/stable/user_guide/indexing.html#returning-a-view-versus-a-copy\n",
      "  X_train['Age_minus1'] = X_train['Age'].fillna(-1)\n"
     ]
    }
   ],
   "source": [
    "X_train['Age_99'] = X_train['Age'].fillna(99)\n",
    "X_train['Age_minus1'] = X_train['Age'].fillna(-1)"
   ]
  },
  {
   "cell_type": "code",
   "execution_count": 30,
   "id": "8e09a28d",
   "metadata": {},
   "outputs": [
    {
     "name": "stdout",
     "output_type": "stream",
     "text": [
      "Original Age variable variance:  210.2517072477438\n",
      "\n",
      "Age Variance after median imputation:  169.20731007048096\n",
      "Age Variance after mean imputation:  168.8519336687225\n",
      "\n",
      "Age Variance after 99 wala imputation:  932.9665366701436\n",
      "Age Variance after -1 wala imputation:  315.99550362600644\n"
     ]
    }
   ],
   "source": [
    "print('Original Age variable variance: ', X_train['Age'].var())\n",
    "print()\n",
    "# replacing the 'Mean' and 'Median' values\n",
    "print('Age Variance after median imputation: ', X_train['Age_median'].var())\n",
    "print('Age Variance after mean imputation: ', X_train['Age_mean'].var())\n",
    "print()\n",
    "# replacing the Orbitary Columns\n",
    "\n",
    "print('Age Variance after 99 wala imputation: ', X_train['Age_99'].var())\n",
    "print('Age Variance after -1 wala imputation: ', X_train['Age_minus1'].var())"
   ]
  },
  {
   "cell_type": "code",
   "execution_count": 31,
   "id": "2589eda5",
   "metadata": {},
   "outputs": [
    {
     "data": {
      "text/plain": [
       "<matplotlib.legend.Legend at 0x24e9ddecaf0>"
      ]
     },
     "execution_count": 31,
     "metadata": {},
     "output_type": "execute_result"
    },
    {
     "data": {
      "image/png": "[encoded data removed]",
      "text/plain": [
       "<Figure size 720x216 with 1 Axes>"
      ]
     },
     "metadata": {},
     "output_type": "display_data"
    }
   ],
   "source": [
    "fig = plt.figure()\n",
    "ax= fig.add_subplot(111)\n",
    "\n",
    "# Original variable distribution\n",
    "X_train['Age'].plot(kind = 'kde' , ax = ax)\n",
    "\n",
    "# variable imputed with the median\n",
    "X_train['Age_99'].plot(kind='kde', ax=ax, color='black')\n",
    "\n",
    "# variable imputed with the mean\n",
    "X_train['Age_minus1'].plot(kind='kde', ax=ax, color='yellow')\n",
    "\n",
    "# add legends\n",
    "lines, labels = ax.get_legend_handles_labels()\n",
    "ax.legend(lines, labels, loc='best')"
   ]
  },
  {
   "cell_type": "code",
   "execution_count": 32,
   "id": "6f0e1de2",
   "metadata": {},
   "outputs": [
    {
     "data": {
      "text/plain": [
       "<AxesSubplot:>"
      ]
     },
     "execution_count": 32,
     "metadata": {},
     "output_type": "execute_result"
    },
    {
     "data": {
      "image/png": "[encoded data removed]",
      "text/plain": [
       "<Figure size 720x216 with 1 Axes>"
      ]
     },
     "metadata": {},
     "output_type": "display_data"
    }
   ],
   "source": [
    "X_train[['Age','Age_mean','Age_median','Age_99','Age_minus1']].boxplot()"
   ]
  },
  {
   "cell_type": "markdown",
   "id": "dd8df9c4",
   "metadata": {},
   "source": [
    "# 3.Replacing the Random Values"
   ]
  },
  {
   "cell_type": "code",
   "execution_count": 33,
   "id": "03b7ff4f",
   "metadata": {},
   "outputs": [
    {
     "name": "stderr",
     "output_type": "stream",
     "text": [
      "<ipython-input-33-486dc8508d78>:1: SettingWithCopyWarning: \n",
      "A value is trying to be set on a copy of a slice from a DataFrame.\n",
      "Try using .loc[row_indexer,col_indexer] = value instead\n",
      "\n",
      "See the caveats in the documentation: https://pandas.pydata.org/pandas-docs/stable/user_guide/indexing.html#returning-a-view-versus-a-copy\n",
      "  X_train['Age_imputed'] = X_train['Age']\n"
     ]
    }
   ],
   "source": [
    "X_train['Age_imputed'] = X_train['Age']"
   ]
  },
  {
   "cell_type": "code",
   "execution_count": 34,
   "id": "74fd77d0",
   "metadata": {},
   "outputs": [
    {
     "data": {
      "text/plain": [
       "29    NaN\n",
       "55    NaN\n",
       "533   NaN\n",
       "495   NaN\n",
       "468   NaN\n",
       "       ..\n",
       "330   NaN\n",
       "214   NaN\n",
       "466   NaN\n",
       "121   NaN\n",
       "270   NaN\n",
       "Name: Age_imputed, Length: 140, dtype: float64"
      ]
     },
     "execution_count": 34,
     "metadata": {},
     "output_type": "execute_result"
    }
   ],
   "source": [
    "# Finding Null values in the data set\n",
    "X_train['Age_imputed'][X_train['Age_imputed'].isnull()]"
   ]
  },
  {
   "cell_type": "code",
   "execution_count": 35,
   "id": "6be72a9e",
   "metadata": {},
   "outputs": [
    {
     "name": "stderr",
     "output_type": "stream",
     "text": [
      "C:\\Users\\user\\anaconda3\\lib\\site-packages\\pandas\\core\\series.py:992: SettingWithCopyWarning: \n",
      "A value is trying to be set on a copy of a slice from a DataFrame\n",
      "\n",
      "See the caveats in the documentation: https://pandas.pydata.org/pandas-docs/stable/user_guide/indexing.html#returning-a-view-versus-a-copy\n",
      "  self._where(~key, value, inplace=True)\n"
     ]
    }
   ],
   "source": [
    "# Filling Missing values with sample Orginal values\n",
    "X_train['Age_imputed'][X_train['Age_imputed'].isnull()] =X_train['Age'].dropna().sample(X_train['Age'].isnull().sum()).values\n"
   ]
  },
  {
   "cell_type": "code",
   "execution_count": 36,
   "id": "50e85050",
   "metadata": {},
   "outputs": [
    {
     "data": {
      "text/plain": [
       "array([24.  , 48.  , 33.  , 18.  , 44.  , 28.  , 28.  , 36.  , 20.  ,\n",
       "       35.  , 60.  ,  7.  , 17.  , 19.  , 26.  , 30.  ,  5.  , 18.  ,\n",
       "       45.  , 26.  , 25.  , 74.  , 60.  , 24.  , 16.  , 47.  , 28.  ,\n",
       "       24.  , 22.  , 24.  , 23.  ,  4.  ,  3.  , 21.  , 50.  , 28.  ,\n",
       "       29.  , 24.  , 36.  , 20.  ,  8.  , 64.  , 18.  , 17.  , 65.  ,\n",
       "       21.  , 25.  , 33.  , 35.  , 20.  , 43.  , 40.  , 16.  , 33.  ,\n",
       "       43.  , 25.  , 30.  , 63.  , 23.  , 44.  , 50.  , 35.  , 30.  ,\n",
       "       31.  , 36.  , 29.  , 22.  , 28.  , 18.  , 33.  , 38.  ,  9.  ,\n",
       "       25.  , 30.  , 33.  , 31.  , 28.  , 70.5 ,  9.  , 22.  , 46.  ,\n",
       "       47.  , 28.5 , 70.  ,  8.  , 25.  , 37.  , 33.  , 43.  , 39.  ,\n",
       "        0.83, 62.  , 38.  , 29.  ,  6.  ,  4.  ,  1.  , 54.  , 25.  ,\n",
       "       47.  , 40.  , 27.  , 54.  , 51.  , 19.  , 32.  ,  4.  ,  0.75,\n",
       "       45.  ,  2.  , 22.  , 40.  , 27.  , 34.5 , 36.  , 29.  , 25.  ,\n",
       "       23.  , 40.5 ,  3.  , 38.  , 42.  , 51.  , 42.  ,  2.  , 32.  ,\n",
       "       28.  , 43.  , 24.  , 44.  , 18.  , 32.  , 21.  , 27.  , 45.  ,\n",
       "        9.  , 21.  , 50.  , 22.  , 70.  ])"
      ]
     },
     "execution_count": 36,
     "metadata": {},
     "output_type": "execute_result"
    }
   ],
   "source": [
    "X_train['Age'].dropna().sample(X_train['Age'].isnull().sum()).values"
   ]
  },
  {
   "cell_type": "code",
   "execution_count": 37,
   "id": "067c8ccd",
   "metadata": {},
   "outputs": [
    {
     "data": {
      "text/plain": [
       "140"
      ]
     },
     "execution_count": 37,
     "metadata": {},
     "output_type": "execute_result"
    }
   ],
   "source": [
    "X_train['Age'].isnull().sum()"
   ]
  },
  {
   "cell_type": "code",
   "execution_count": 38,
   "id": "a47989f5",
   "metadata": {},
   "outputs": [
    {
     "name": "stdout",
     "output_type": "stream",
     "text": [
      "Original Age variable variance:  210.2517072477438\n",
      "\n",
      "Age Variance after median imputation:  169.20731007048096\n",
      "Age Variance after mean imputation:  168.8519336687225\n",
      "\n",
      "Age Variance after 99 wala imputation:  932.9665366701436\n",
      "Age Variance after -1 wala imputation:  315.99550362600644\n",
      "\n",
      "Variance after random imputation:  202.81215410404712\n"
     ]
    }
   ],
   "source": [
    "print('Original Age variable variance: ', X_train['Age'].var())\n",
    "print()\n",
    "# replacing the 'Mean' and 'Median' values\n",
    "print('Age Variance after median imputation: ', X_train['Age_median'].var())\n",
    "print('Age Variance after mean imputation: ', X_train['Age_mean'].var())\n",
    "print()\n",
    "# replacing the Orbitary Columns\n",
    "\n",
    "print('Age Variance after 99 wala imputation: ', X_train['Age_99'].var())\n",
    "print('Age Variance after -1 wala imputation: ', X_train['Age_minus1'].var())\n",
    "print()\n",
    "\n",
    "#replacing Random Samples in the data\n",
    "print('Variance after random imputation: ', X_train['Age_imputed'].var())"
   ]
  },
  {
   "cell_type": "code",
   "execution_count": 39,
   "id": "9af04f03",
   "metadata": {},
   "outputs": [
    {
     "data": {
      "text/plain": [
       "<matplotlib.legend.Legend at 0x24e9dc8bd60>"
      ]
     },
     "execution_count": 39,
     "metadata": {},
     "output_type": "execute_result"
    },
    {
     "data": {
      "image/png": "[encoded data removed]",
      "text/plain": [
       "<Figure size 720x216 with 1 Axes>"
      ]
     },
     "metadata": {},
     "output_type": "display_data"
    }
   ],
   "source": [
    "fig = plt.figure()\n",
    "ax= fig.add_subplot(111)\n",
    "\n",
    "# Original variable distribution\n",
    "X_train['Age'].plot(kind = 'kde' , ax = ax)\n",
    "\n",
    "# replacing the Random values in the age column\n",
    "X_train['Age_imputed'].plot(kind = 'kde',ax=ax)\n",
    "\n",
    "\n",
    "# add legends\n",
    "lines, labels = ax.get_legend_handles_labels()\n",
    "ax.legend(lines, labels, loc='best')"
   ]
  },
  {
   "cell_type": "code",
   "execution_count": 40,
   "id": "864a7b0f",
   "metadata": {},
   "outputs": [
    {
     "data": {
      "text/plain": [
       "<AxesSubplot:>"
      ]
     },
     "execution_count": 40,
     "metadata": {},
     "output_type": "execute_result"
    },
    {
     "data": {
      "image/png": "[encoded data removed]",
      "text/plain": [
       "<Figure size 720x216 with 1 Axes>"
      ]
     },
     "metadata": {},
     "output_type": "display_data"
    }
   ],
   "source": [
    "X_train[['Age','Age_mean','Age_median','Age_99','Age_minus1','Age_imputed']].boxplot()"
   ]
  },
  {
   "cell_type": "code",
   "execution_count": 41,
   "id": "77e8da28",
   "metadata": {},
   "outputs": [
    {
     "data": {
      "text/html": [
       "<div>\n",
       "<style scoped>\n",
       "    .dataframe tbody tr th:only-of-type {\n",
       "        vertical-align: middle;\n",
       "    }\n",
       "\n",
       "    .dataframe tbody tr th {\n",
       "        vertical-align: top;\n",
       "    }\n",
       "\n",
       "    .dataframe thead th {\n",
       "        text-align: right;\n",
       "    }\n",
       "</style>\n",
       "<table border=\"1\" class=\"dataframe\">\n",
       "  <thead>\n",
       "    <tr style=\"text-align: right;\">\n",
       "      <th></th>\n",
       "      <th>Age</th>\n",
       "      <th>Fare</th>\n",
       "      <th>Age_median</th>\n",
       "      <th>Age_mean</th>\n",
       "      <th>Age_99</th>\n",
       "      <th>Age_minus1</th>\n",
       "      <th>Age_imputed</th>\n",
       "    </tr>\n",
       "  </thead>\n",
       "  <tbody>\n",
       "    <tr>\n",
       "      <th>331</th>\n",
       "      <td>45.5</td>\n",
       "      <td>28.5000</td>\n",
       "      <td>45.5</td>\n",
       "      <td>45.500000</td>\n",
       "      <td>45.5</td>\n",
       "      <td>45.5</td>\n",
       "      <td>45.5</td>\n",
       "    </tr>\n",
       "    <tr>\n",
       "      <th>733</th>\n",
       "      <td>23.0</td>\n",
       "      <td>13.0000</td>\n",
       "      <td>23.0</td>\n",
       "      <td>23.000000</td>\n",
       "      <td>23.0</td>\n",
       "      <td>23.0</td>\n",
       "      <td>23.0</td>\n",
       "    </tr>\n",
       "    <tr>\n",
       "      <th>382</th>\n",
       "      <td>32.0</td>\n",
       "      <td>7.9250</td>\n",
       "      <td>32.0</td>\n",
       "      <td>32.000000</td>\n",
       "      <td>32.0</td>\n",
       "      <td>32.0</td>\n",
       "      <td>32.0</td>\n",
       "    </tr>\n",
       "    <tr>\n",
       "      <th>704</th>\n",
       "      <td>26.0</td>\n",
       "      <td>7.8542</td>\n",
       "      <td>26.0</td>\n",
       "      <td>26.000000</td>\n",
       "      <td>26.0</td>\n",
       "      <td>26.0</td>\n",
       "      <td>26.0</td>\n",
       "    </tr>\n",
       "    <tr>\n",
       "      <th>813</th>\n",
       "      <td>6.0</td>\n",
       "      <td>31.2750</td>\n",
       "      <td>6.0</td>\n",
       "      <td>6.000000</td>\n",
       "      <td>6.0</td>\n",
       "      <td>6.0</td>\n",
       "      <td>6.0</td>\n",
       "    </tr>\n",
       "    <tr>\n",
       "      <th>...</th>\n",
       "      <td>...</td>\n",
       "      <td>...</td>\n",
       "      <td>...</td>\n",
       "      <td>...</td>\n",
       "      <td>...</td>\n",
       "      <td>...</td>\n",
       "      <td>...</td>\n",
       "    </tr>\n",
       "    <tr>\n",
       "      <th>106</th>\n",
       "      <td>21.0</td>\n",
       "      <td>7.6500</td>\n",
       "      <td>21.0</td>\n",
       "      <td>21.000000</td>\n",
       "      <td>21.0</td>\n",
       "      <td>21.0</td>\n",
       "      <td>21.0</td>\n",
       "    </tr>\n",
       "    <tr>\n",
       "      <th>270</th>\n",
       "      <td>NaN</td>\n",
       "      <td>31.0000</td>\n",
       "      <td>28.0</td>\n",
       "      <td>29.498846</td>\n",
       "      <td>99.0</td>\n",
       "      <td>-1.0</td>\n",
       "      <td>58.0</td>\n",
       "    </tr>\n",
       "    <tr>\n",
       "      <th>860</th>\n",
       "      <td>41.0</td>\n",
       "      <td>14.1083</td>\n",
       "      <td>41.0</td>\n",
       "      <td>41.000000</td>\n",
       "      <td>41.0</td>\n",
       "      <td>41.0</td>\n",
       "      <td>41.0</td>\n",
       "    </tr>\n",
       "    <tr>\n",
       "      <th>435</th>\n",
       "      <td>14.0</td>\n",
       "      <td>120.0000</td>\n",
       "      <td>14.0</td>\n",
       "      <td>14.000000</td>\n",
       "      <td>14.0</td>\n",
       "      <td>14.0</td>\n",
       "      <td>14.0</td>\n",
       "    </tr>\n",
       "    <tr>\n",
       "      <th>102</th>\n",
       "      <td>21.0</td>\n",
       "      <td>77.2875</td>\n",
       "      <td>21.0</td>\n",
       "      <td>21.000000</td>\n",
       "      <td>21.0</td>\n",
       "      <td>21.0</td>\n",
       "      <td>21.0</td>\n",
       "    </tr>\n",
       "  </tbody>\n",
       "</table>\n",
       "<p>712 rows × 7 columns</p>\n",
       "</div>"
      ],
      "text/plain": [
       "      Age      Fare  Age_median   Age_mean  Age_99  Age_minus1  Age_imputed\n",
       "331  45.5   28.5000        45.5  45.500000    45.5        45.5         45.5\n",
       "733  23.0   13.0000        23.0  23.000000    23.0        23.0         23.0\n",
       "382  32.0    7.9250        32.0  32.000000    32.0        32.0         32.0\n",
       "704  26.0    7.8542        26.0  26.000000    26.0        26.0         26.0\n",
       "813   6.0   31.2750         6.0   6.000000     6.0         6.0          6.0\n",
       "..    ...       ...         ...        ...     ...         ...          ...\n",
       "106  21.0    7.6500        21.0  21.000000    21.0        21.0         21.0\n",
       "270   NaN   31.0000        28.0  29.498846    99.0        -1.0         58.0\n",
       "860  41.0   14.1083        41.0  41.000000    41.0        41.0         41.0\n",
       "435  14.0  120.0000        14.0  14.000000    14.0        14.0         14.0\n",
       "102  21.0   77.2875        21.0  21.000000    21.0        21.0         21.0\n",
       "\n",
       "[712 rows x 7 columns]"
      ]
     },
     "execution_count": 41,
     "metadata": {},
     "output_type": "execute_result"
    }
   ],
   "source": [
    "X_train"
   ]
  },
  {
   "cell_type": "markdown",
   "id": "801f7586",
   "metadata": {},
   "source": [
    "# 4.Replacing for Numeric values Knn_Imputator"
   ]
  },
  {
   "cell_type": "code",
   "execution_count": 42,
   "id": "9a93cd81",
   "metadata": {},
   "outputs": [],
   "source": [
    "from sklearn.impute import KNNImputer,SimpleImputer"
   ]
  },
  {
   "cell_type": "code",
   "execution_count": 43,
   "id": "57e8a1b5",
   "metadata": {},
   "outputs": [],
   "source": [
    "# Here distance is b/w the column numbers\n",
    "knn = KNNImputer(n_neighbors=3,weights='distance')\n",
    "\n",
    "X_train_trf = knn.fit_transform(X_train[['Age']])\n",
    "X_test_trf = knn.transform(X_test[['Age']])"
   ]
  },
  {
   "cell_type": "code",
   "execution_count": 44,
   "id": "3097a2c7",
   "metadata": {},
   "outputs": [
    {
     "data": {
      "text/plain": [
       "(712, 1)"
      ]
     },
     "execution_count": 44,
     "metadata": {},
     "output_type": "execute_result"
    }
   ],
   "source": [
    "X_train_trf.shape"
   ]
  },
  {
   "cell_type": "code",
   "execution_count": 45,
   "id": "5a1169b5",
   "metadata": {},
   "outputs": [
    {
     "data": {
      "text/plain": [
       "(179, 1)"
      ]
     },
     "execution_count": 45,
     "metadata": {},
     "output_type": "execute_result"
    }
   ],
   "source": [
    "X_test_trf.shape"
   ]
  },
  {
   "cell_type": "markdown",
   "id": "2c335a6d",
   "metadata": {},
   "source": [
    "# Comparision with Simple Imputer --> mean"
   ]
  },
  {
   "cell_type": "code",
   "execution_count": 46,
   "id": "aa8b7b17",
   "metadata": {},
   "outputs": [],
   "source": [
    "\n",
    "si = SimpleImputer()\n",
    "\n",
    "X_train_trf2 = si.fit_transform(X_train[['Age']])\n",
    "X_test_trf2 = si.transform(X_test[['Age']])"
   ]
  },
  {
   "cell_type": "code",
   "execution_count": 47,
   "id": "2e71a8f4",
   "metadata": {},
   "outputs": [
    {
     "data": {
      "text/plain": [
       "array([[45.5       ],\n",
       "       [23.        ],\n",
       "       [32.        ],\n",
       "       [26.        ],\n",
       "       [ 6.        ],\n",
       "       [24.        ],\n",
       "       [45.        ],\n",
       "       [29.        ],\n",
       "       [29.49884615],\n",
       "       [29.49884615],\n",
       "       [42.        ],\n",
       "       [36.        ],\n",
       "       [33.        ],\n",
       "       [17.        ],\n",
       "       [29.        ],\n",
       "       [50.        ],\n",
       "       [35.        ],\n",
       "       [38.        ],\n",
       "       [34.        ],\n",
       "       [17.        ],\n",
       "       [11.        ],\n",
       "       [61.        ],\n",
       "       [30.        ],\n",
       "       [ 7.        ],\n",
       "       [63.        ],\n",
       "       [20.        ],\n",
       "       [29.49884615],\n",
       "       [29.        ],\n",
       "       [36.        ],\n",
       "       [29.49884615],\n",
       "       [50.        ],\n",
       "       [27.        ],\n",
       "       [30.        ],\n",
       "       [33.        ],\n",
       "       [29.49884615],\n",
       "       [29.49884615],\n",
       "       [ 2.        ],\n",
       "       [25.        ],\n",
       "       [51.        ],\n",
       "       [25.        ],\n",
       "       [29.49884615],\n",
       "       [29.49884615],\n",
       "       [24.        ],\n",
       "       [18.        ],\n",
       "       [29.49884615],\n",
       "       [25.        ],\n",
       "       [24.        ],\n",
       "       [22.        ],\n",
       "       [ 0.92      ],\n",
       "       [24.        ],\n",
       "       [26.        ],\n",
       "       [34.        ],\n",
       "       [21.        ],\n",
       "       [29.49884615],\n",
       "       [29.49884615],\n",
       "       [29.49884615],\n",
       "       [22.        ],\n",
       "       [62.        ],\n",
       "       [18.        ],\n",
       "       [42.        ],\n",
       "       [57.        ],\n",
       "       [19.        ],\n",
       "       [42.        ],\n",
       "       [29.49884615],\n",
       "       [20.        ],\n",
       "       [34.5       ],\n",
       "       [28.        ],\n",
       "       [29.49884615],\n",
       "       [23.        ],\n",
       "       [22.        ],\n",
       "       [52.        ],\n",
       "       [30.        ],\n",
       "       [36.5       ],\n",
       "       [29.49884615],\n",
       "       [22.        ],\n",
       "       [50.        ],\n",
       "       [27.        ],\n",
       "       [22.        ],\n",
       "       [51.        ],\n",
       "       [36.        ],\n",
       "       [29.        ],\n",
       "       [22.        ],\n",
       "       [50.        ],\n",
       "       [40.        ],\n",
       "       [27.        ],\n",
       "       [29.49884615],\n",
       "       [65.        ],\n",
       "       [17.        ],\n",
       "       [28.        ],\n",
       "       [ 4.        ],\n",
       "       [29.49884615],\n",
       "       [ 1.        ],\n",
       "       [36.        ],\n",
       "       [43.        ],\n",
       "       [38.        ],\n",
       "       [31.        ],\n",
       "       [29.        ],\n",
       "       [18.        ],\n",
       "       [29.49884615],\n",
       "       [39.        ],\n",
       "       [39.        ],\n",
       "       [26.        ],\n",
       "       [20.        ],\n",
       "       [29.49884615],\n",
       "       [49.        ],\n",
       "       [23.        ],\n",
       "       [ 1.        ],\n",
       "       [29.49884615],\n",
       "       [29.49884615],\n",
       "       [ 3.        ],\n",
       "       [ 4.        ],\n",
       "       [19.        ],\n",
       "       [40.5       ],\n",
       "       [ 1.        ],\n",
       "       [29.49884615],\n",
       "       [21.        ],\n",
       "       [54.        ],\n",
       "       [29.49884615],\n",
       "       [25.        ],\n",
       "       [26.        ],\n",
       "       [22.        ],\n",
       "       [31.        ],\n",
       "       [49.        ],\n",
       "       [19.        ],\n",
       "       [24.        ],\n",
       "       [16.        ],\n",
       "       [25.        ],\n",
       "       [39.        ],\n",
       "       [47.        ],\n",
       "       [60.        ],\n",
       "       [24.        ],\n",
       "       [29.49884615],\n",
       "       [27.        ],\n",
       "       [29.49884615],\n",
       "       [38.        ],\n",
       "       [44.        ],\n",
       "       [21.        ],\n",
       "       [24.        ],\n",
       "       [45.        ],\n",
       "       [ 8.        ],\n",
       "       [ 8.        ],\n",
       "       [29.49884615],\n",
       "       [32.        ],\n",
       "       [50.        ],\n",
       "       [21.        ],\n",
       "       [50.        ],\n",
       "       [23.        ],\n",
       "       [32.        ],\n",
       "       [29.49884615],\n",
       "       [21.        ],\n",
       "       [29.49884615],\n",
       "       [25.        ],\n",
       "       [15.        ],\n",
       "       [31.        ],\n",
       "       [25.        ],\n",
       "       [54.        ],\n",
       "       [28.        ],\n",
       "       [38.        ],\n",
       "       [41.        ],\n",
       "       [33.        ],\n",
       "       [52.        ],\n",
       "       [16.        ],\n",
       "       [20.        ],\n",
       "       [ 9.        ],\n",
       "       [29.49884615],\n",
       "       [29.49884615],\n",
       "       [29.49884615],\n",
       "       [54.        ],\n",
       "       [26.        ],\n",
       "       [60.        ],\n",
       "       [29.49884615],\n",
       "       [44.        ],\n",
       "       [20.        ],\n",
       "       [29.49884615],\n",
       "       [16.        ],\n",
       "       [43.        ],\n",
       "       [17.        ],\n",
       "       [37.        ],\n",
       "       [62.        ],\n",
       "       [ 8.        ],\n",
       "       [32.        ],\n",
       "       [20.        ],\n",
       "       [28.        ],\n",
       "       [21.        ],\n",
       "       [37.        ],\n",
       "       [17.        ],\n",
       "       [29.49884615],\n",
       "       [46.        ],\n",
       "       [29.49884615],\n",
       "       [24.        ],\n",
       "       [29.        ],\n",
       "       [56.        ],\n",
       "       [31.        ],\n",
       "       [29.49884615],\n",
       "       [32.        ],\n",
       "       [33.        ],\n",
       "       [59.        ],\n",
       "       [58.        ],\n",
       "       [29.49884615],\n",
       "       [ 3.        ],\n",
       "       [29.49884615],\n",
       "       [16.        ],\n",
       "       [45.        ],\n",
       "       [43.        ],\n",
       "       [30.        ],\n",
       "       [28.5       ],\n",
       "       [24.        ],\n",
       "       [30.        ],\n",
       "       [36.        ],\n",
       "       [25.        ],\n",
       "       [29.49884615],\n",
       "       [50.        ],\n",
       "       [ 0.75      ],\n",
       "       [24.        ],\n",
       "       [24.        ],\n",
       "       [35.        ],\n",
       "       [30.        ],\n",
       "       [23.        ],\n",
       "       [29.49884615],\n",
       "       [27.        ],\n",
       "       [55.        ],\n",
       "       [35.        ],\n",
       "       [29.49884615],\n",
       "       [29.49884615],\n",
       "       [29.49884615],\n",
       "       [23.        ],\n",
       "       [29.49884615],\n",
       "       [23.        ],\n",
       "       [51.        ],\n",
       "       [33.        ],\n",
       "       [29.        ],\n",
       "       [29.49884615],\n",
       "       [29.49884615],\n",
       "       [ 2.        ],\n",
       "       [14.        ],\n",
       "       [54.        ],\n",
       "       [15.        ],\n",
       "       [22.        ],\n",
       "       [27.        ],\n",
       "       [29.49884615],\n",
       "       [29.49884615],\n",
       "       [28.        ],\n",
       "       [39.        ],\n",
       "       [ 2.        ],\n",
       "       [24.        ],\n",
       "       [32.        ],\n",
       "       [45.5       ],\n",
       "       [ 8.        ],\n",
       "       [26.        ],\n",
       "       [29.        ],\n",
       "       [45.        ],\n",
       "       [36.        ],\n",
       "       [29.49884615],\n",
       "       [ 4.        ],\n",
       "       [16.        ],\n",
       "       [58.        ],\n",
       "       [40.5       ],\n",
       "       [25.        ],\n",
       "       [29.49884615],\n",
       "       [51.        ],\n",
       "       [29.49884615],\n",
       "       [17.        ],\n",
       "       [29.49884615],\n",
       "       [40.        ],\n",
       "       [25.        ],\n",
       "       [47.        ],\n",
       "       [29.49884615],\n",
       "       [44.        ],\n",
       "       [23.        ],\n",
       "       [18.        ],\n",
       "       [29.        ],\n",
       "       [12.        ],\n",
       "       [11.        ],\n",
       "       [22.        ],\n",
       "       [19.        ],\n",
       "       [22.        ],\n",
       "       [33.        ],\n",
       "       [56.        ],\n",
       "       [ 1.        ],\n",
       "       [22.        ],\n",
       "       [29.49884615],\n",
       "       [29.49884615],\n",
       "       [ 7.        ],\n",
       "       [ 4.        ],\n",
       "       [70.5       ],\n",
       "       [18.        ],\n",
       "       [20.        ],\n",
       "       [24.        ],\n",
       "       [29.49884615],\n",
       "       [34.        ],\n",
       "       [29.49884615],\n",
       "       [31.        ],\n",
       "       [30.        ],\n",
       "       [18.        ],\n",
       "       [ 9.        ],\n",
       "       [39.        ],\n",
       "       [33.        ],\n",
       "       [70.        ],\n",
       "       [24.        ],\n",
       "       [58.        ],\n",
       "       [21.        ],\n",
       "       [17.        ],\n",
       "       [28.        ],\n",
       "       [24.        ],\n",
       "       [29.49884615],\n",
       "       [29.49884615],\n",
       "       [42.        ],\n",
       "       [18.        ],\n",
       "       [ 2.        ],\n",
       "       [34.        ],\n",
       "       [ 3.        ],\n",
       "       [58.        ],\n",
       "       [32.        ],\n",
       "       [31.        ],\n",
       "       [29.49884615],\n",
       "       [27.        ],\n",
       "       [11.        ],\n",
       "       [23.        ],\n",
       "       [40.        ],\n",
       "       [29.49884615],\n",
       "       [28.        ],\n",
       "       [28.        ],\n",
       "       [29.49884615],\n",
       "       [19.        ],\n",
       "       [30.        ],\n",
       "       [20.        ],\n",
       "       [28.        ],\n",
       "       [36.        ],\n",
       "       [29.49884615],\n",
       "       [24.        ],\n",
       "       [28.5       ],\n",
       "       [24.        ],\n",
       "       [42.        ],\n",
       "       [54.        ],\n",
       "       [25.        ],\n",
       "       [ 7.        ],\n",
       "       [25.        ],\n",
       "       [27.        ],\n",
       "       [24.        ],\n",
       "       [29.49884615],\n",
       "       [28.        ],\n",
       "       [19.        ],\n",
       "       [22.        ],\n",
       "       [29.49884615],\n",
       "       [29.49884615],\n",
       "       [42.        ],\n",
       "       [50.        ],\n",
       "       [ 3.        ],\n",
       "       [29.49884615],\n",
       "       [18.        ],\n",
       "       [18.        ],\n",
       "       [44.        ],\n",
       "       [29.49884615],\n",
       "       [29.49884615],\n",
       "       [29.49884615],\n",
       "       [16.        ],\n",
       "       [29.49884615],\n",
       "       [22.        ],\n",
       "       [ 4.        ],\n",
       "       [29.49884615],\n",
       "       [24.        ],\n",
       "       [30.        ],\n",
       "       [29.        ],\n",
       "       [24.        ],\n",
       "       [45.        ],\n",
       "       [32.        ],\n",
       "       [21.        ],\n",
       "       [35.        ],\n",
       "       [29.49884615],\n",
       "       [29.49884615],\n",
       "       [36.        ],\n",
       "       [41.        ],\n",
       "       [23.        ],\n",
       "       [34.        ],\n",
       "       [29.49884615],\n",
       "       [29.49884615],\n",
       "       [15.        ],\n",
       "       [29.49884615],\n",
       "       [18.        ],\n",
       "       [30.        ],\n",
       "       [32.        ],\n",
       "       [ 4.        ],\n",
       "       [ 2.        ],\n",
       "       [29.49884615],\n",
       "       [29.49884615],\n",
       "       [48.        ],\n",
       "       [31.        ],\n",
       "       [47.        ],\n",
       "       [26.        ],\n",
       "       [ 9.        ],\n",
       "       [19.        ],\n",
       "       [29.49884615],\n",
       "       [22.        ],\n",
       "       [29.49884615],\n",
       "       [28.        ],\n",
       "       [24.        ],\n",
       "       [17.        ],\n",
       "       [29.49884615],\n",
       "       [29.49884615],\n",
       "       [21.        ],\n",
       "       [51.        ],\n",
       "       [ 3.        ],\n",
       "       [ 0.75      ],\n",
       "       [29.49884615],\n",
       "       [34.        ],\n",
       "       [18.        ],\n",
       "       [44.        ],\n",
       "       [29.49884615],\n",
       "       [29.49884615],\n",
       "       [37.        ],\n",
       "       [21.        ],\n",
       "       [36.        ],\n",
       "       [32.        ],\n",
       "       [29.49884615],\n",
       "       [26.        ],\n",
       "       [80.        ],\n",
       "       [55.5       ],\n",
       "       [60.        ],\n",
       "       [29.49884615],\n",
       "       [18.        ],\n",
       "       [14.5       ],\n",
       "       [19.        ],\n",
       "       [ 4.        ],\n",
       "       [33.        ],\n",
       "       [21.        ],\n",
       "       [10.        ],\n",
       "       [47.        ],\n",
       "       [ 2.        ],\n",
       "       [29.        ],\n",
       "       [22.        ],\n",
       "       [28.        ],\n",
       "       [29.49884615],\n",
       "       [26.        ],\n",
       "       [33.        ],\n",
       "       [27.        ],\n",
       "       [27.        ],\n",
       "       [34.        ],\n",
       "       [29.49884615],\n",
       "       [30.        ],\n",
       "       [30.        ],\n",
       "       [29.49884615],\n",
       "       [29.49884615],\n",
       "       [53.        ],\n",
       "       [32.        ],\n",
       "       [52.        ],\n",
       "       [52.        ],\n",
       "       [39.        ],\n",
       "       [ 2.        ],\n",
       "       [44.        ],\n",
       "       [51.        ],\n",
       "       [39.        ],\n",
       "       [46.        ],\n",
       "       [17.        ],\n",
       "       [30.        ],\n",
       "       [ 9.        ],\n",
       "       [27.        ],\n",
       "       [21.        ],\n",
       "       [29.49884615],\n",
       "       [26.        ],\n",
       "       [ 3.        ],\n",
       "       [48.        ],\n",
       "       [36.        ],\n",
       "       [29.49884615],\n",
       "       [32.5       ],\n",
       "       [33.        ],\n",
       "       [22.        ],\n",
       "       [19.        ],\n",
       "       [74.        ],\n",
       "       [42.        ],\n",
       "       [40.        ],\n",
       "       [35.        ],\n",
       "       [24.        ],\n",
       "       [39.        ],\n",
       "       [32.5       ],\n",
       "       [ 1.        ],\n",
       "       [34.        ],\n",
       "       [64.        ],\n",
       "       [25.        ],\n",
       "       [29.49884615],\n",
       "       [ 1.        ],\n",
       "       [45.        ],\n",
       "       [31.        ],\n",
       "       [21.        ],\n",
       "       [25.        ],\n",
       "       [15.        ],\n",
       "       [26.        ],\n",
       "       [30.        ],\n",
       "       [24.        ],\n",
       "       [35.        ],\n",
       "       [70.        ],\n",
       "       [29.49884615],\n",
       "       [21.        ],\n",
       "       [18.        ],\n",
       "       [29.49884615],\n",
       "       [ 1.        ],\n",
       "       [29.49884615],\n",
       "       [26.        ],\n",
       "       [25.        ],\n",
       "       [29.49884615],\n",
       "       [20.        ],\n",
       "       [54.        ],\n",
       "       [22.        ],\n",
       "       [59.        ],\n",
       "       [54.        ],\n",
       "       [27.        ],\n",
       "       [31.        ],\n",
       "       [22.        ],\n",
       "       [33.        ],\n",
       "       [ 6.        ],\n",
       "       [ 5.        ],\n",
       "       [39.        ],\n",
       "       [24.5       ],\n",
       "       [54.        ],\n",
       "       [29.49884615],\n",
       "       [29.49884615],\n",
       "       [30.        ],\n",
       "       [29.49884615],\n",
       "       [35.        ],\n",
       "       [21.        ],\n",
       "       [32.        ],\n",
       "       [16.        ],\n",
       "       [22.        ],\n",
       "       [29.49884615],\n",
       "       [38.        ],\n",
       "       [29.49884615],\n",
       "       [25.        ],\n",
       "       [33.        ],\n",
       "       [29.49884615],\n",
       "       [18.        ],\n",
       "       [29.49884615],\n",
       "       [29.49884615],\n",
       "       [ 2.        ],\n",
       "       [ 0.42      ],\n",
       "       [26.        ],\n",
       "       [41.        ],\n",
       "       [48.        ],\n",
       "       [48.        ],\n",
       "       [48.        ],\n",
       "       [ 4.        ],\n",
       "       [39.        ],\n",
       "       [33.        ],\n",
       "       [29.        ],\n",
       "       [49.        ],\n",
       "       [29.49884615],\n",
       "       [29.49884615],\n",
       "       [42.        ],\n",
       "       [36.        ],\n",
       "       [61.        ],\n",
       "       [18.        ],\n",
       "       [18.        ],\n",
       "       [ 0.67      ],\n",
       "       [32.        ],\n",
       "       [29.49884615],\n",
       "       [29.49884615],\n",
       "       [29.49884615],\n",
       "       [16.        ],\n",
       "       [31.        ],\n",
       "       [48.        ],\n",
       "       [22.        ],\n",
       "       [13.        ],\n",
       "       [32.        ],\n",
       "       [28.        ],\n",
       "       [46.        ],\n",
       "       [28.        ],\n",
       "       [42.        ],\n",
       "       [35.        ],\n",
       "       [ 2.        ],\n",
       "       [31.        ],\n",
       "       [29.49884615],\n",
       "       [29.49884615],\n",
       "       [19.        ],\n",
       "       [20.        ],\n",
       "       [14.        ],\n",
       "       [34.        ],\n",
       "       [29.49884615],\n",
       "       [29.49884615],\n",
       "       [51.        ],\n",
       "       [29.49884615],\n",
       "       [29.49884615],\n",
       "       [29.49884615],\n",
       "       [28.        ],\n",
       "       [25.        ],\n",
       "       [19.        ],\n",
       "       [35.        ],\n",
       "       [35.        ],\n",
       "       [ 9.        ],\n",
       "       [20.        ],\n",
       "       [42.        ],\n",
       "       [30.        ],\n",
       "       [29.49884615],\n",
       "       [21.        ],\n",
       "       [47.        ],\n",
       "       [25.        ],\n",
       "       [16.        ],\n",
       "       [45.        ],\n",
       "       [38.        ],\n",
       "       [56.        ],\n",
       "       [29.49884615],\n",
       "       [31.        ],\n",
       "       [30.        ],\n",
       "       [29.49884615],\n",
       "       [14.        ],\n",
       "       [16.        ],\n",
       "       [40.        ],\n",
       "       [55.        ],\n",
       "       [19.        ],\n",
       "       [45.        ],\n",
       "       [36.        ],\n",
       "       [27.        ],\n",
       "       [49.        ],\n",
       "       [41.        ],\n",
       "       [19.        ],\n",
       "       [33.        ],\n",
       "       [27.        ],\n",
       "       [29.49884615],\n",
       "       [35.        ],\n",
       "       [29.        ],\n",
       "       [30.        ],\n",
       "       [34.        ],\n",
       "       [29.        ],\n",
       "       [19.        ],\n",
       "       [35.        ],\n",
       "       [29.49884615],\n",
       "       [40.        ],\n",
       "       [62.        ],\n",
       "       [25.        ],\n",
       "       [26.        ],\n",
       "       [18.        ],\n",
       "       [34.        ],\n",
       "       [48.        ],\n",
       "       [28.        ],\n",
       "       [24.        ],\n",
       "       [17.        ],\n",
       "       [38.        ],\n",
       "       [29.49884615],\n",
       "       [40.        ],\n",
       "       [22.        ],\n",
       "       [ 2.        ],\n",
       "       [28.        ],\n",
       "       [18.        ],\n",
       "       [28.        ],\n",
       "       [19.        ],\n",
       "       [29.49884615],\n",
       "       [60.        ],\n",
       "       [20.        ],\n",
       "       [45.        ],\n",
       "       [29.49884615],\n",
       "       [24.        ],\n",
       "       [29.49884615],\n",
       "       [29.49884615],\n",
       "       [39.        ],\n",
       "       [26.        ],\n",
       "       [24.        ],\n",
       "       [36.        ],\n",
       "       [37.        ],\n",
       "       [29.49884615],\n",
       "       [28.        ],\n",
       "       [19.        ],\n",
       "       [43.        ],\n",
       "       [25.        ],\n",
       "       [47.        ],\n",
       "       [16.        ],\n",
       "       [ 0.83      ],\n",
       "       [22.        ],\n",
       "       [19.        ],\n",
       "       [28.        ],\n",
       "       [14.        ],\n",
       "       [36.        ],\n",
       "       [29.        ],\n",
       "       [42.        ],\n",
       "       [29.49884615],\n",
       "       [27.        ],\n",
       "       [29.        ],\n",
       "       [ 5.        ],\n",
       "       [22.        ],\n",
       "       [29.49884615],\n",
       "       [30.        ],\n",
       "       [62.        ],\n",
       "       [34.        ],\n",
       "       [28.        ],\n",
       "       [29.49884615],\n",
       "       [44.        ],\n",
       "       [45.        ],\n",
       "       [19.        ],\n",
       "       [18.        ],\n",
       "       [31.        ],\n",
       "       [29.49884615],\n",
       "       [21.        ],\n",
       "       [25.        ],\n",
       "       [32.        ],\n",
       "       [30.        ],\n",
       "       [40.        ],\n",
       "       [33.        ],\n",
       "       [36.        ],\n",
       "       [47.        ],\n",
       "       [34.        ],\n",
       "       [19.        ],\n",
       "       [29.49884615],\n",
       "       [50.        ],\n",
       "       [29.49884615],\n",
       "       [29.49884615],\n",
       "       [29.49884615],\n",
       "       [29.49884615],\n",
       "       [35.        ],\n",
       "       [35.        ],\n",
       "       [18.        ],\n",
       "       [16.        ],\n",
       "       [21.        ],\n",
       "       [29.49884615],\n",
       "       [41.        ],\n",
       "       [14.        ],\n",
       "       [21.        ]])"
      ]
     },
     "execution_count": 47,
     "metadata": {},
     "output_type": "execute_result"
    }
   ],
   "source": [
    "X_train_trf2"
   ]
  },
  {
   "cell_type": "markdown",
   "id": "32ce2765",
   "metadata": {},
   "source": [
    "* We go wiht Age column with 'Mean' or \"Age Imputed\""
   ]
  },
  {
   "cell_type": "code",
   "execution_count": 48,
   "id": "5d4c6710",
   "metadata": {},
   "outputs": [
    {
     "name": "stdout",
     "output_type": "stream",
     "text": [
      "<class 'pandas.core.frame.DataFrame'>\n",
      "RangeIndex: 891 entries, 0 to 890\n",
      "Data columns (total 12 columns):\n",
      " #   Column       Non-Null Count  Dtype  \n",
      "---  ------       --------------  -----  \n",
      " 0   PassengerId  891 non-null    int64  \n",
      " 1   Survived     891 non-null    int64  \n",
      " 2   Pclass       891 non-null    int64  \n",
      " 3   Name         891 non-null    object \n",
      " 4   Sex          891 non-null    object \n",
      " 5   Age          714 non-null    float64\n",
      " 6   SibSp        891 non-null    int64  \n",
      " 7   Parch        891 non-null    int64  \n",
      " 8   Ticket       891 non-null    object \n",
      " 9   Fare         891 non-null    float64\n",
      " 10  Cabin        204 non-null    object \n",
      " 11  Embarked     889 non-null    object \n",
      "dtypes: float64(2), int64(5), object(5)\n",
      "memory usage: 83.7+ KB\n"
     ]
    }
   ],
   "source": [
    "train.info()"
   ]
  },
  {
   "cell_type": "code",
   "execution_count": 50,
   "id": "40413c5b",
   "metadata": {},
   "outputs": [
    {
     "data": {
      "text/html": [
       "<div>\n",
       "<style scoped>\n",
       "    .dataframe tbody tr th:only-of-type {\n",
       "        vertical-align: middle;\n",
       "    }\n",
       "\n",
       "    .dataframe tbody tr th {\n",
       "        vertical-align: top;\n",
       "    }\n",
       "\n",
       "    .dataframe thead th {\n",
       "        text-align: right;\n",
       "    }\n",
       "</style>\n",
       "<table border=\"1\" class=\"dataframe\">\n",
       "  <thead>\n",
       "    <tr style=\"text-align: right;\">\n",
       "      <th></th>\n",
       "      <th>PassengerId</th>\n",
       "      <th>Survived</th>\n",
       "      <th>Pclass</th>\n",
       "      <th>Age</th>\n",
       "      <th>SibSp</th>\n",
       "      <th>Parch</th>\n",
       "      <th>Fare</th>\n",
       "    </tr>\n",
       "  </thead>\n",
       "  <tbody>\n",
       "    <tr>\n",
       "      <th>count</th>\n",
       "      <td>891.000000</td>\n",
       "      <td>891.000000</td>\n",
       "      <td>891.000000</td>\n",
       "      <td>714.000000</td>\n",
       "      <td>891.000000</td>\n",
       "      <td>891.000000</td>\n",
       "      <td>891.000000</td>\n",
       "    </tr>\n",
       "    <tr>\n",
       "      <th>mean</th>\n",
       "      <td>446.000000</td>\n",
       "      <td>0.383838</td>\n",
       "      <td>2.308642</td>\n",
       "      <td>29.699118</td>\n",
       "      <td>0.523008</td>\n",
       "      <td>0.381594</td>\n",
       "      <td>32.204208</td>\n",
       "    </tr>\n",
       "    <tr>\n",
       "      <th>std</th>\n",
       "      <td>257.353842</td>\n",
       "      <td>0.486592</td>\n",
       "      <td>0.836071</td>\n",
       "      <td>14.526497</td>\n",
       "      <td>1.102743</td>\n",
       "      <td>0.806057</td>\n",
       "      <td>49.693429</td>\n",
       "    </tr>\n",
       "    <tr>\n",
       "      <th>min</th>\n",
       "      <td>1.000000</td>\n",
       "      <td>0.000000</td>\n",
       "      <td>1.000000</td>\n",
       "      <td>0.420000</td>\n",
       "      <td>0.000000</td>\n",
       "      <td>0.000000</td>\n",
       "      <td>0.000000</td>\n",
       "    </tr>\n",
       "    <tr>\n",
       "      <th>25%</th>\n",
       "      <td>223.500000</td>\n",
       "      <td>0.000000</td>\n",
       "      <td>2.000000</td>\n",
       "      <td>20.125000</td>\n",
       "      <td>0.000000</td>\n",
       "      <td>0.000000</td>\n",
       "      <td>7.910400</td>\n",
       "    </tr>\n",
       "    <tr>\n",
       "      <th>50%</th>\n",
       "      <td>446.000000</td>\n",
       "      <td>0.000000</td>\n",
       "      <td>3.000000</td>\n",
       "      <td>28.000000</td>\n",
       "      <td>0.000000</td>\n",
       "      <td>0.000000</td>\n",
       "      <td>14.454200</td>\n",
       "    </tr>\n",
       "    <tr>\n",
       "      <th>75%</th>\n",
       "      <td>668.500000</td>\n",
       "      <td>1.000000</td>\n",
       "      <td>3.000000</td>\n",
       "      <td>38.000000</td>\n",
       "      <td>1.000000</td>\n",
       "      <td>0.000000</td>\n",
       "      <td>31.000000</td>\n",
       "    </tr>\n",
       "    <tr>\n",
       "      <th>max</th>\n",
       "      <td>891.000000</td>\n",
       "      <td>1.000000</td>\n",
       "      <td>3.000000</td>\n",
       "      <td>80.000000</td>\n",
       "      <td>8.000000</td>\n",
       "      <td>6.000000</td>\n",
       "      <td>512.329200</td>\n",
       "    </tr>\n",
       "  </tbody>\n",
       "</table>\n",
       "</div>"
      ],
      "text/plain": [
       "       PassengerId    Survived      Pclass         Age       SibSp  \\\n",
       "count   891.000000  891.000000  891.000000  714.000000  891.000000   \n",
       "mean    446.000000    0.383838    2.308642   29.699118    0.523008   \n",
       "std     257.353842    0.486592    0.836071   14.526497    1.102743   \n",
       "min       1.000000    0.000000    1.000000    0.420000    0.000000   \n",
       "25%     223.500000    0.000000    2.000000   20.125000    0.000000   \n",
       "50%     446.000000    0.000000    3.000000   28.000000    0.000000   \n",
       "75%     668.500000    1.000000    3.000000   38.000000    1.000000   \n",
       "max     891.000000    1.000000    3.000000   80.000000    8.000000   \n",
       "\n",
       "            Parch        Fare  \n",
       "count  891.000000  891.000000  \n",
       "mean     0.381594   32.204208  \n",
       "std      0.806057   49.693429  \n",
       "min      0.000000    0.000000  \n",
       "25%      0.000000    7.910400  \n",
       "50%      0.000000   14.454200  \n",
       "75%      0.000000   31.000000  \n",
       "max      6.000000  512.329200  "
      ]
     },
     "execution_count": 50,
     "metadata": {},
     "output_type": "execute_result"
    }
   ],
   "source": [
    "train.describe()"
   ]
  },
  {
   "cell_type": "code",
   "execution_count": 54,
   "id": "5c08d67f",
   "metadata": {},
   "outputs": [
    {
     "data": {
      "text/html": [
       "<div>\n",
       "<style scoped>\n",
       "    .dataframe tbody tr th:only-of-type {\n",
       "        vertical-align: middle;\n",
       "    }\n",
       "\n",
       "    .dataframe tbody tr th {\n",
       "        vertical-align: top;\n",
       "    }\n",
       "\n",
       "    .dataframe thead th {\n",
       "        text-align: right;\n",
       "    }\n",
       "</style>\n",
       "<table border=\"1\" class=\"dataframe\">\n",
       "  <thead>\n",
       "    <tr style=\"text-align: right;\">\n",
       "      <th></th>\n",
       "      <th>PassengerId</th>\n",
       "      <th>Survived</th>\n",
       "      <th>Pclass</th>\n",
       "      <th>Age</th>\n",
       "      <th>SibSp</th>\n",
       "      <th>Parch</th>\n",
       "      <th>Fare</th>\n",
       "    </tr>\n",
       "  </thead>\n",
       "  <tbody>\n",
       "    <tr>\n",
       "      <th>PassengerId</th>\n",
       "      <td>1.000000</td>\n",
       "      <td>-0.005007</td>\n",
       "      <td>-0.035144</td>\n",
       "      <td>0.036847</td>\n",
       "      <td>-0.057527</td>\n",
       "      <td>-0.001652</td>\n",
       "      <td>0.012658</td>\n",
       "    </tr>\n",
       "    <tr>\n",
       "      <th>Survived</th>\n",
       "      <td>-0.005007</td>\n",
       "      <td>1.000000</td>\n",
       "      <td>-0.338481</td>\n",
       "      <td>-0.077221</td>\n",
       "      <td>-0.035322</td>\n",
       "      <td>0.081629</td>\n",
       "      <td>0.257307</td>\n",
       "    </tr>\n",
       "    <tr>\n",
       "      <th>Pclass</th>\n",
       "      <td>-0.035144</td>\n",
       "      <td>-0.338481</td>\n",
       "      <td>1.000000</td>\n",
       "      <td>-0.369226</td>\n",
       "      <td>0.083081</td>\n",
       "      <td>0.018443</td>\n",
       "      <td>-0.549500</td>\n",
       "    </tr>\n",
       "    <tr>\n",
       "      <th>Age</th>\n",
       "      <td>0.036847</td>\n",
       "      <td>-0.077221</td>\n",
       "      <td>-0.369226</td>\n",
       "      <td>1.000000</td>\n",
       "      <td>-0.308247</td>\n",
       "      <td>-0.189119</td>\n",
       "      <td>0.096067</td>\n",
       "    </tr>\n",
       "    <tr>\n",
       "      <th>SibSp</th>\n",
       "      <td>-0.057527</td>\n",
       "      <td>-0.035322</td>\n",
       "      <td>0.083081</td>\n",
       "      <td>-0.308247</td>\n",
       "      <td>1.000000</td>\n",
       "      <td>0.414838</td>\n",
       "      <td>0.159651</td>\n",
       "    </tr>\n",
       "    <tr>\n",
       "      <th>Parch</th>\n",
       "      <td>-0.001652</td>\n",
       "      <td>0.081629</td>\n",
       "      <td>0.018443</td>\n",
       "      <td>-0.189119</td>\n",
       "      <td>0.414838</td>\n",
       "      <td>1.000000</td>\n",
       "      <td>0.216225</td>\n",
       "    </tr>\n",
       "    <tr>\n",
       "      <th>Fare</th>\n",
       "      <td>0.012658</td>\n",
       "      <td>0.257307</td>\n",
       "      <td>-0.549500</td>\n",
       "      <td>0.096067</td>\n",
       "      <td>0.159651</td>\n",
       "      <td>0.216225</td>\n",
       "      <td>1.000000</td>\n",
       "    </tr>\n",
       "  </tbody>\n",
       "</table>\n",
       "</div>"
      ],
      "text/plain": [
       "             PassengerId  Survived    Pclass       Age     SibSp     Parch  \\\n",
       "PassengerId     1.000000 -0.005007 -0.035144  0.036847 -0.057527 -0.001652   \n",
       "Survived       -0.005007  1.000000 -0.338481 -0.077221 -0.035322  0.081629   \n",
       "Pclass         -0.035144 -0.338481  1.000000 -0.369226  0.083081  0.018443   \n",
       "Age             0.036847 -0.077221 -0.369226  1.000000 -0.308247 -0.189119   \n",
       "SibSp          -0.057527 -0.035322  0.083081 -0.308247  1.000000  0.414838   \n",
       "Parch          -0.001652  0.081629  0.018443 -0.189119  0.414838  1.000000   \n",
       "Fare            0.012658  0.257307 -0.549500  0.096067  0.159651  0.216225   \n",
       "\n",
       "                 Fare  \n",
       "PassengerId  0.012658  \n",
       "Survived     0.257307  \n",
       "Pclass      -0.549500  \n",
       "Age          0.096067  \n",
       "SibSp        0.159651  \n",
       "Parch        0.216225  \n",
       "Fare         1.000000  "
      ]
     },
     "execution_count": 54,
     "metadata": {},
     "output_type": "execute_result"
    }
   ],
   "source": [
    "train.corr()"
   ]
  },
  {
   "cell_type": "code",
   "execution_count": 52,
   "id": "5007eb4b",
   "metadata": {},
   "outputs": [
    {
     "name": "stdout",
     "output_type": "stream",
     "text": [
      "<class 'pandas.core.frame.DataFrame'>\n",
      "RangeIndex: 891 entries, 0 to 890\n",
      "Data columns (total 12 columns):\n",
      " #   Column       Non-Null Count  Dtype  \n",
      "---  ------       --------------  -----  \n",
      " 0   PassengerId  891 non-null    int64  \n",
      " 1   Survived     891 non-null    int64  \n",
      " 2   Pclass       891 non-null    int64  \n",
      " 3   Name         891 non-null    object \n",
      " 4   Sex          891 non-null    object \n",
      " 5   Age          714 non-null    float64\n",
      " 6   SibSp        891 non-null    int64  \n",
      " 7   Parch        891 non-null    int64  \n",
      " 8   Ticket       891 non-null    object \n",
      " 9   Fare         891 non-null    float64\n",
      " 10  Cabin        204 non-null    object \n",
      " 11  Embarked     889 non-null    object \n",
      "dtypes: float64(2), int64(5), object(5)\n",
      "memory usage: 83.7+ KB\n"
     ]
    }
   ],
   "source": [
    "train.info()"
   ]
  },
  {
   "cell_type": "code",
   "execution_count": 56,
   "id": "62c70104",
   "metadata": {},
   "outputs": [
    {
     "data": {
      "text/plain": [
       "3    491\n",
       "1    216\n",
       "2    184\n",
       "Name: Pclass, dtype: int64"
      ]
     },
     "execution_count": 56,
     "metadata": {},
     "output_type": "execute_result"
    }
   ],
   "source": [
    "train['Pclass'].value_counts()"
   ]
  },
  {
   "cell_type": "code",
   "execution_count": 59,
   "id": "4a4c9843",
   "metadata": {},
   "outputs": [
    {
     "data": {
      "text/plain": [
       "0"
      ]
     },
     "execution_count": 59,
     "metadata": {},
     "output_type": "execute_result"
    }
   ],
   "source": [
    "train['Pclass'].isnull().sum()"
   ]
  },
  {
   "cell_type": "code",
   "execution_count": 66,
   "id": "4ceb5acc",
   "metadata": {},
   "outputs": [
    {
     "data": {
      "text/plain": [
       "<seaborn.axisgrid.FacetGrid at 0x24e9e63f430>"
      ]
     },
     "execution_count": 66,
     "metadata": {},
     "output_type": "execute_result"
    },
    {
     "data": {
      "image/png": "[encoded data removed]",
      "text/plain": [
       "<Figure size 360x360 with 1 Axes>"
      ]
     },
     "metadata": {},
     "output_type": "display_data"
    }
   ],
   "source": [
    "sns.displot(train.Age)"
   ]
  },
  {
   "cell_type": "code",
   "execution_count": 61,
   "id": "014dc3f8",
   "metadata": {},
   "outputs": [
    {
     "data": {
      "text/plain": [
       "<matplotlib.legend.Legend at 0x24e9e3946d0>"
      ]
     },
     "execution_count": 61,
     "metadata": {},
     "output_type": "execute_result"
    },
    {
     "data": {
      "image/png": "[encoded data removed]",
      "text/plain": [
       "<Figure size 720x216 with 1 Axes>"
      ]
     },
     "metadata": {},
     "output_type": "display_data"
    }
   ],
   "source": [
    "fig = plt.figure()\n",
    "ax= fig.add_subplot(111)\n",
    "\n",
    "\n",
    "# replacing the Random values in the age column\n",
    "train['Pclass'].plot(kind = 'kde',ax=ax)\n",
    "\n",
    "\n",
    "# add legends\n",
    "lines, labels = ax.get_legend_handles_labels()\n",
    "ax.legend(lines, labels, loc='best')"
   ]
  },
  {
   "cell_type": "markdown",
   "id": "ff6cd033",
   "metadata": {},
   "source": [
    "* Its a left skew data"
   ]
  },
  {
   "cell_type": "code",
   "execution_count": 64,
   "id": "4e542d8b",
   "metadata": {},
   "outputs": [
    {
     "data": {
      "text/plain": [
       "<AxesSubplot:>"
      ]
     },
     "execution_count": 64,
     "metadata": {},
     "output_type": "execute_result"
    },
    {
     "data": {
      "image/png": "[encoded data removed]",
      "text/plain": [
       "<Figure size 720x216 with 1 Axes>"
      ]
     },
     "metadata": {},
     "output_type": "display_data"
    }
   ],
   "source": [
    "train[['Pclass']].boxplot()"
   ]
  },
  {
   "cell_type": "code",
   "execution_count": 65,
   "id": "ad7138ba",
   "metadata": {},
   "outputs": [
    {
     "name": "stderr",
     "output_type": "stream",
     "text": [
      "C:\\Users\\user\\anaconda3\\lib\\site-packages\\seaborn\\distributions.py:2557: FutureWarning: `distplot` is a deprecated function and will be removed in a future version. Please adapt your code to use either `displot` (a figure-level function with similar flexibility) or `histplot` (an axes-level function for histograms).\n",
      "  warnings.warn(msg, FutureWarning)\n"
     ]
    },
    {
     "data": {
      "text/plain": [
       "<AxesSubplot:xlabel='Pclass', ylabel='Density'>"
      ]
     },
     "execution_count": 65,
     "metadata": {},
     "output_type": "execute_result"
    },
    {
     "data": {
      "image/png": "[encoded data removed]",
      "text/plain": [
       "<Figure size 720x216 with 1 Axes>"
      ]
     },
     "metadata": {},
     "output_type": "display_data"
    }
   ],
   "source": [
    "sns.distplot(train.Pclass)"
   ]
  },
  {
   "cell_type": "markdown",
   "id": "9eff250b",
   "metadata": {},
   "source": [
    "### Feature: Pclass\n",
    "\n",
    "Description: The ticket class of the passenger.\n",
    "    \n",
    "Key: 1 = 1st, 2 = 2nd, 3 = 3rd"
   ]
  },
  {
   "cell_type": "markdown",
   "id": "0d3967e7",
   "metadata": {},
   "source": [
    "#### Let's plot the distribution\n",
    "We will look at the distribution of each feature first if we can to understand what kind of spread there is across the dataset.\n",
    "\n",
    "For example, if there are values which are completely outside of the distribution, we may not want to include them in our model."
   ]
  },
  {
   "cell_type": "markdown",
   "id": "4319af70",
   "metadata": {},
   "source": [
    "We can see with this feature, the values are numerical (1, 2 and 3) but they are categories.\n",
    "\n",
    "How do we know this? Because a passenger in Class 3 doesn't necessarily equal a passenger in Class 2 + a passenger in Class 1."
   ]
  },
  {
   "cell_type": "code",
   "execution_count": 67,
   "id": "3dc7ea6c",
   "metadata": {},
   "outputs": [
    {
     "name": "stdout",
     "output_type": "stream",
     "text": [
      "<class 'pandas.core.frame.DataFrame'>\n",
      "RangeIndex: 891 entries, 0 to 890\n",
      "Data columns (total 12 columns):\n",
      " #   Column       Non-Null Count  Dtype  \n",
      "---  ------       --------------  -----  \n",
      " 0   PassengerId  891 non-null    int64  \n",
      " 1   Survived     891 non-null    int64  \n",
      " 2   Pclass       891 non-null    int64  \n",
      " 3   Name         891 non-null    object \n",
      " 4   Sex          891 non-null    object \n",
      " 5   Age          714 non-null    float64\n",
      " 6   SibSp        891 non-null    int64  \n",
      " 7   Parch        891 non-null    int64  \n",
      " 8   Ticket       891 non-null    object \n",
      " 9   Fare         891 non-null    float64\n",
      " 10  Cabin        204 non-null    object \n",
      " 11  Embarked     889 non-null    object \n",
      "dtypes: float64(2), int64(5), object(5)\n",
      "memory usage: 83.7+ KB\n"
     ]
    }
   ],
   "source": [
    "train.info()"
   ]
  },
  {
   "cell_type": "markdown",
   "id": "2447f43e",
   "metadata": {},
   "source": [
    "# Passenger Id not imported column"
   ]
  },
  {
   "cell_type": "code",
   "execution_count": 70,
   "id": "7757f10e",
   "metadata": {},
   "outputs": [
    {
     "data": {
      "text/plain": [
       "0"
      ]
     },
     "execution_count": 70,
     "metadata": {},
     "output_type": "execute_result"
    }
   ],
   "source": [
    "train['PassengerId'].isnull().sum()"
   ]
  },
  {
   "cell_type": "code",
   "execution_count": 71,
   "id": "ca9e7c35",
   "metadata": {},
   "outputs": [
    {
     "data": {
      "text/plain": [
       "<bound method Series.unique of 0        1\n",
       "1        2\n",
       "2        3\n",
       "3        4\n",
       "4        5\n",
       "      ... \n",
       "886    887\n",
       "887    888\n",
       "888    889\n",
       "889    890\n",
       "890    891\n",
       "Name: PassengerId, Length: 891, dtype: int64>"
      ]
     },
     "execution_count": 71,
     "metadata": {},
     "output_type": "execute_result"
    }
   ],
   "source": [
    "train['PassengerId'].unique"
   ]
  },
  {
   "cell_type": "code",
   "execution_count": null,
   "id": "abc69c32",
   "metadata": {},
   "outputs": [],
   "source": []
  }
 ],
 "metadata": {
  "kernelspec": {
   "display_name": "Python 3",
   "language": "python",
   "name": "python3"
  },
  "language_info": {
   "codemirror_mode": {
    "name": "ipython",
    "version": 3
   },
   "file_extension": ".py",
   "mimetype": "text/x-python",
   "name": "python",
   "nbconvert_exporter": "python",
   "pygments_lexer": "ipython3",
   "version": "3.8.8"
  }
 },
 "nbformat": 4,
 "nbformat_minor": 5
}
