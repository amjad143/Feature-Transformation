{
 "cells": [
  {
   "cell_type": "markdown",
   "id": "ee6fd5fe",
   "metadata": {},
   "source": [
    "# Overview\n",
    "* Understanding the shape of the data(histograms,box plot.etc..)\n",
    "* Data Cleaning\n",
    "* Data Exploration\n",
    "* Feature Engineering\n",
    "* Data Processing for Model\n",
    "* Basic Model Building\n",
    "* Model Tuning\n",
    "* Ensemble Model Building\n",
    "* Result"
   ]
  },
  {
   "cell_type": "raw",
   "id": "0499357a",
   "metadata": {},
   "source": [
    "# Project Planing\n",
    "* When starting any project,i like to outline the steps that ,plan to take ,below is the rough outline that i crated for this project using commented cells\n",
    "* Understanding nature of the data .info.describe()\n",
    "* Value counts\n",
    "* Missing data\n",
    "* Correlation b/w the 'Metrics\"\n",
    "* Explore intresting themes\n",
    "    ### Wealthy survive?\n",
    "    ### By location\n",
    "    ### Age Scatterplot with ticket prices\n",
    "    ### Young and wealthy variable\n",
    "    ### Total spent\n",
    "* Feature Engineering\n",
    "* Preprocess data together or use a transformer?\n",
    "    ### Use Label for train and test\n",
    "* Scaling\n",
    "* Model Baseline\n",
    "* Model Comparision with cv"
   ]
  },
  {
   "cell_type": "code",
   "execution_count": 1,
   "id": "1ac8a77b",
   "metadata": {},
   "outputs": [],
   "source": [
    "import pandas as pd"
   ]
  },
  {
   "cell_type": "code",
   "execution_count": 2,
   "id": "62e99962",
   "metadata": {},
   "outputs": [
    {
     "data": {
      "text/html": [
       "<div>\n",
       "<style scoped>\n",
       "    .dataframe tbody tr th:only-of-type {\n",
       "        vertical-align: middle;\n",
       "    }\n",
       "\n",
       "    .dataframe tbody tr th {\n",
       "        vertical-align: top;\n",
       "    }\n",
       "\n",
       "    .dataframe thead th {\n",
       "        text-align: right;\n",
       "    }\n",
       "</style>\n",
       "<table border=\"1\" class=\"dataframe\">\n",
       "  <thead>\n",
       "    <tr style=\"text-align: right;\">\n",
       "      <th></th>\n",
       "      <th>PassengerId</th>\n",
       "      <th>Survived</th>\n",
       "      <th>Pclass</th>\n",
       "      <th>Name</th>\n",
       "      <th>Sex</th>\n",
       "      <th>Age</th>\n",
       "      <th>SibSp</th>\n",
       "      <th>Parch</th>\n",
       "      <th>Ticket</th>\n",
       "      <th>Fare</th>\n",
       "      <th>Cabin</th>\n",
       "      <th>Embarked</th>\n",
       "    </tr>\n",
       "  </thead>\n",
       "  <tbody>\n",
       "    <tr>\n",
       "      <th>0</th>\n",
       "      <td>1</td>\n",
       "      <td>0</td>\n",
       "      <td>3</td>\n",
       "      <td>Braund, Mr. Owen Harris</td>\n",
       "      <td>male</td>\n",
       "      <td>22.0</td>\n",
       "      <td>1</td>\n",
       "      <td>0</td>\n",
       "      <td>A/5 21171</td>\n",
       "      <td>7.2500</td>\n",
       "      <td>NaN</td>\n",
       "      <td>S</td>\n",
       "    </tr>\n",
       "    <tr>\n",
       "      <th>1</th>\n",
       "      <td>2</td>\n",
       "      <td>1</td>\n",
       "      <td>1</td>\n",
       "      <td>Cumings, Mrs. John Bradley (Florence Briggs Th...</td>\n",
       "      <td>female</td>\n",
       "      <td>38.0</td>\n",
       "      <td>1</td>\n",
       "      <td>0</td>\n",
       "      <td>PC 17599</td>\n",
       "      <td>71.2833</td>\n",
       "      <td>C85</td>\n",
       "      <td>C</td>\n",
       "    </tr>\n",
       "    <tr>\n",
       "      <th>2</th>\n",
       "      <td>3</td>\n",
       "      <td>1</td>\n",
       "      <td>3</td>\n",
       "      <td>Heikkinen, Miss. Laina</td>\n",
       "      <td>female</td>\n",
       "      <td>26.0</td>\n",
       "      <td>0</td>\n",
       "      <td>0</td>\n",
       "      <td>STON/O2. 3101282</td>\n",
       "      <td>7.9250</td>\n",
       "      <td>NaN</td>\n",
       "      <td>S</td>\n",
       "    </tr>\n",
       "    <tr>\n",
       "      <th>3</th>\n",
       "      <td>4</td>\n",
       "      <td>1</td>\n",
       "      <td>1</td>\n",
       "      <td>Futrelle, Mrs. Jacques Heath (Lily May Peel)</td>\n",
       "      <td>female</td>\n",
       "      <td>35.0</td>\n",
       "      <td>1</td>\n",
       "      <td>0</td>\n",
       "      <td>113803</td>\n",
       "      <td>53.1000</td>\n",
       "      <td>C123</td>\n",
       "      <td>S</td>\n",
       "    </tr>\n",
       "    <tr>\n",
       "      <th>4</th>\n",
       "      <td>5</td>\n",
       "      <td>0</td>\n",
       "      <td>3</td>\n",
       "      <td>Allen, Mr. William Henry</td>\n",
       "      <td>male</td>\n",
       "      <td>35.0</td>\n",
       "      <td>0</td>\n",
       "      <td>0</td>\n",
       "      <td>373450</td>\n",
       "      <td>8.0500</td>\n",
       "      <td>NaN</td>\n",
       "      <td>S</td>\n",
       "    </tr>\n",
       "  </tbody>\n",
       "</table>\n",
       "</div>"
      ],
      "text/plain": [
       "   PassengerId  Survived  Pclass  \\\n",
       "0            1         0       3   \n",
       "1            2         1       1   \n",
       "2            3         1       3   \n",
       "3            4         1       1   \n",
       "4            5         0       3   \n",
       "\n",
       "                                                Name     Sex   Age  SibSp  \\\n",
       "0                            Braund, Mr. Owen Harris    male  22.0      1   \n",
       "1  Cumings, Mrs. John Bradley (Florence Briggs Th...  female  38.0      1   \n",
       "2                             Heikkinen, Miss. Laina  female  26.0      0   \n",
       "3       Futrelle, Mrs. Jacques Heath (Lily May Peel)  female  35.0      1   \n",
       "4                           Allen, Mr. William Henry    male  35.0      0   \n",
       "\n",
       "   Parch            Ticket     Fare Cabin Embarked  \n",
       "0      0         A/5 21171   7.2500   NaN        S  \n",
       "1      0          PC 17599  71.2833   C85        C  \n",
       "2      0  STON/O2. 3101282   7.9250   NaN        S  \n",
       "3      0            113803  53.1000  C123        S  \n",
       "4      0            373450   8.0500   NaN        S  "
      ]
     },
     "execution_count": 2,
     "metadata": {},
     "output_type": "execute_result"
    }
   ],
   "source": [
    "train = pd.read_csv('train.csv')\n",
    "train.head()"
   ]
  },
  {
   "cell_type": "code",
   "execution_count": 3,
   "id": "cf71d185",
   "metadata": {},
   "outputs": [
    {
     "data": {
      "text/plain": [
       "(891, 12)"
      ]
     },
     "execution_count": 3,
     "metadata": {},
     "output_type": "execute_result"
    }
   ],
   "source": [
    "train.shape"
   ]
  },
  {
   "cell_type": "code",
   "execution_count": 4,
   "id": "13654c2f",
   "metadata": {},
   "outputs": [
    {
     "name": "stdout",
     "output_type": "stream",
     "text": [
      "<class 'pandas.core.frame.DataFrame'>\n",
      "RangeIndex: 891 entries, 0 to 890\n",
      "Data columns (total 12 columns):\n",
      " #   Column       Non-Null Count  Dtype  \n",
      "---  ------       --------------  -----  \n",
      " 0   PassengerId  891 non-null    int64  \n",
      " 1   Survived     891 non-null    int64  \n",
      " 2   Pclass       891 non-null    int64  \n",
      " 3   Name         891 non-null    object \n",
      " 4   Sex          891 non-null    object \n",
      " 5   Age          714 non-null    float64\n",
      " 6   SibSp        891 non-null    int64  \n",
      " 7   Parch        891 non-null    int64  \n",
      " 8   Ticket       891 non-null    object \n",
      " 9   Fare         891 non-null    float64\n",
      " 10  Cabin        204 non-null    object \n",
      " 11  Embarked     889 non-null    object \n",
      "dtypes: float64(2), int64(5), object(5)\n",
      "memory usage: 83.7+ KB\n"
     ]
    }
   ],
   "source": [
    "train.info()"
   ]
  },
  {
   "cell_type": "markdown",
   "id": "d59e54b3",
   "metadata": {},
   "source": [
    "# Checking Missing Values in entire data set"
   ]
  },
  {
   "cell_type": "code",
   "execution_count": 5,
   "id": "bcf94357",
   "metadata": {},
   "outputs": [
    {
     "data": {
      "text/plain": [
       "PassengerId      0\n",
       "Survived         0\n",
       "Pclass           0\n",
       "Name             0\n",
       "Sex              0\n",
       "Age            177\n",
       "SibSp            0\n",
       "Parch            0\n",
       "Ticket           0\n",
       "Fare             0\n",
       "Cabin          687\n",
       "Embarked         2\n",
       "dtype: int64"
      ]
     },
     "execution_count": 5,
     "metadata": {},
     "output_type": "execute_result"
    }
   ],
   "source": [
    "train.isnull().sum()"
   ]
  },
  {
   "cell_type": "code",
   "execution_count": 6,
   "id": "199ac11f",
   "metadata": {},
   "outputs": [],
   "source": [
    "# Visaulising the Missing values\n",
    "import missingno"
   ]
  },
  {
   "cell_type": "code",
   "execution_count": 7,
   "id": "1c2f390d",
   "metadata": {},
   "outputs": [
    {
     "data": {
      "text/plain": [
       "<AxesSubplot:>"
      ]
     },
     "execution_count": 7,
     "metadata": {},
     "output_type": "execute_result"
    },
    {
     "data": {
      "image/png": "[encoded data removed]",
      "text/plain": [
       "<Figure size 2160x720 with 2 Axes>"
      ]
     },
     "metadata": {
      "needs_background": "light"
     },
     "output_type": "display_data"
    }
   ],
   "source": [
    "# Plot graphic of missing values\n",
    "missingno.matrix(train, figsize = (30,10))"
   ]
  },
  {
   "cell_type": "code",
   "execution_count": 8,
   "id": "3e9d7c2d",
   "metadata": {},
   "outputs": [],
   "source": [
    "#train['train_test'] = 1\n",
    "#To add a new column in the data set we use this"
   ]
  },
  {
   "cell_type": "markdown",
   "id": "90d72a18",
   "metadata": {},
   "source": [
    "## What datatypes are in the dataframe?\n",
    "\n",
    "As a general rule of thumb, features with a datatype of object could be considered categorical features. And those which are floats or ints (numbers) could be considered numerical features.\n",
    "\n",
    "However, as we dig deeper, we might find features which are numerical may actually be categorical.\n",
    "\n",
    "The goal for the next few steps is to figure out how best to process the data so our machine learning model can learn from it.\n",
    "\n",
    "Ideally, all the features will be encoded into a numerical value of some kind. "
   ]
  },
  {
   "cell_type": "code",
   "execution_count": 9,
   "id": "f2dedeba",
   "metadata": {},
   "outputs": [
    {
     "name": "stdout",
     "output_type": "stream",
     "text": [
      "<class 'pandas.core.frame.DataFrame'>\n",
      "RangeIndex: 891 entries, 0 to 890\n",
      "Data columns (total 12 columns):\n",
      " #   Column       Non-Null Count  Dtype  \n",
      "---  ------       --------------  -----  \n",
      " 0   PassengerId  891 non-null    int64  \n",
      " 1   Survived     891 non-null    int64  \n",
      " 2   Pclass       891 non-null    int64  \n",
      " 3   Name         891 non-null    object \n",
      " 4   Sex          891 non-null    object \n",
      " 5   Age          714 non-null    float64\n",
      " 6   SibSp        891 non-null    int64  \n",
      " 7   Parch        891 non-null    int64  \n",
      " 8   Ticket       891 non-null    object \n",
      " 9   Fare         891 non-null    float64\n",
      " 10  Cabin        204 non-null    object \n",
      " 11  Embarked     889 non-null    object \n",
      "dtypes: float64(2), int64(5), object(5)\n",
      "memory usage: 83.7+ KB\n"
     ]
    }
   ],
   "source": [
    "train.info()"
   ]
  },
  {
   "cell_type": "markdown",
   "id": "a539c2ca",
   "metadata": {},
   "source": [
    "# 1.Numerical Values"
   ]
  },
  {
   "cell_type": "code",
   "execution_count": 10,
   "id": "4bac9371",
   "metadata": {},
   "outputs": [
    {
     "data": {
      "text/plain": [
       "PassengerId      0\n",
       "Pclass           0\n",
       "Age            177\n",
       "SibSp            0\n",
       "Parch            0\n",
       "Fare             0\n",
       "dtype: int64"
      ]
     },
     "execution_count": 10,
     "metadata": {},
     "output_type": "execute_result"
    }
   ],
   "source": [
    "train[['PassengerId','Pclass','Age','SibSp','Parch','Fare']].isnull().sum()"
   ]
  },
  {
   "cell_type": "markdown",
   "id": "0d3ca35b",
   "metadata": {},
   "source": [
    "# 2.Categorical "
   ]
  },
  {
   "cell_type": "code",
   "execution_count": 11,
   "id": "b13cbfb8",
   "metadata": {},
   "outputs": [
    {
     "data": {
      "text/plain": [
       "Name          0\n",
       "Sex           0\n",
       "Ticket        0\n",
       "Cabin       687\n",
       "Embarked      2\n",
       "dtype: int64"
      ]
     },
     "execution_count": 11,
     "metadata": {},
     "output_type": "execute_result"
    }
   ],
   "source": [
    "train[['Name','Sex','Ticket','Cabin','Embarked']].isnull().sum()"
   ]
  },
  {
   "cell_type": "markdown",
   "id": "3a81d9a6",
   "metadata": {},
   "source": [
    "# Checking the missing values by percentage of mean"
   ]
  },
  {
   "cell_type": "code",
   "execution_count": 12,
   "id": "660ba9df",
   "metadata": {},
   "outputs": [
    {
     "data": {
      "text/plain": [
       "PassengerId     0.000000\n",
       "Survived        0.000000\n",
       "Pclass          0.000000\n",
       "Name            0.000000\n",
       "Sex             0.000000\n",
       "Age            19.865320\n",
       "SibSp           0.000000\n",
       "Parch           0.000000\n",
       "Ticket          0.000000\n",
       "Fare            0.000000\n",
       "Cabin          77.104377\n",
       "Embarked        0.224467\n",
       "dtype: float64"
      ]
     },
     "execution_count": 12,
     "metadata": {},
     "output_type": "execute_result"
    }
   ],
   "source": [
    "train.isnull().mean()*100"
   ]
  },
  {
   "cell_type": "code",
   "execution_count": 13,
   "id": "adef8d8d",
   "metadata": {},
   "outputs": [
    {
     "data": {
      "text/plain": [
       "(891, 12)"
      ]
     },
     "execution_count": 13,
     "metadata": {},
     "output_type": "execute_result"
    }
   ],
   "source": [
    "train.shape"
   ]
  },
  {
   "cell_type": "code",
   "execution_count": 14,
   "id": "d8fb37ff",
   "metadata": {},
   "outputs": [
    {
     "data": {
      "text/plain": [
       "['Embarked']"
      ]
     },
     "execution_count": 14,
     "metadata": {},
     "output_type": "execute_result"
    }
   ],
   "source": [
    "# Checking the values inthe data set which having less than 5% missing values\n",
    "low_miss = [val for val in train.columns if train[val].isnull().mean() < 0.05 and train[val].isnull().mean() > 0]\n",
    "low_miss"
   ]
  },
  {
   "cell_type": "code",
   "execution_count": 15,
   "id": "46baa31a",
   "metadata": {},
   "outputs": [
    {
     "data": {
      "text/html": [
       "<div>\n",
       "<style scoped>\n",
       "    .dataframe tbody tr th:only-of-type {\n",
       "        vertical-align: middle;\n",
       "    }\n",
       "\n",
       "    .dataframe tbody tr th {\n",
       "        vertical-align: top;\n",
       "    }\n",
       "\n",
       "    .dataframe thead th {\n",
       "        text-align: right;\n",
       "    }\n",
       "</style>\n",
       "<table border=\"1\" class=\"dataframe\">\n",
       "  <thead>\n",
       "    <tr style=\"text-align: right;\">\n",
       "      <th></th>\n",
       "      <th>Embarked</th>\n",
       "    </tr>\n",
       "  </thead>\n",
       "  <tbody>\n",
       "    <tr>\n",
       "      <th>141</th>\n",
       "      <td>S</td>\n",
       "    </tr>\n",
       "    <tr>\n",
       "      <th>427</th>\n",
       "      <td>S</td>\n",
       "    </tr>\n",
       "    <tr>\n",
       "      <th>670</th>\n",
       "      <td>S</td>\n",
       "    </tr>\n",
       "    <tr>\n",
       "      <th>161</th>\n",
       "      <td>S</td>\n",
       "    </tr>\n",
       "    <tr>\n",
       "      <th>858</th>\n",
       "      <td>C</td>\n",
       "    </tr>\n",
       "  </tbody>\n",
       "</table>\n",
       "</div>"
      ],
      "text/plain": [
       "    Embarked\n",
       "141        S\n",
       "427        S\n",
       "670        S\n",
       "161        S\n",
       "858        C"
      ]
     },
     "execution_count": 15,
     "metadata": {},
     "output_type": "execute_result"
    }
   ],
   "source": [
    "# Its a Categorical data\n",
    "train[low_miss].sample(5)"
   ]
  },
  {
   "cell_type": "code",
   "execution_count": 16,
   "id": "b5881fea",
   "metadata": {},
   "outputs": [
    {
     "data": {
      "text/plain": [
       "S    644\n",
       "C    168\n",
       "Q     77\n",
       "Name: Embarked, dtype: int64"
      ]
     },
     "execution_count": 16,
     "metadata": {},
     "output_type": "execute_result"
    }
   ],
   "source": [
    "train['Embarked'].value_counts()"
   ]
  },
  {
   "cell_type": "markdown",
   "id": "b4cb0b4f",
   "metadata": {},
   "source": [
    "# Checking the Percentage of the data is remained"
   ]
  },
  {
   "cell_type": "code",
   "execution_count": 17,
   "id": "af23f721",
   "metadata": {},
   "outputs": [
    {
     "data": {
      "text/plain": [
       "0.9977553310886644"
      ]
     },
     "execution_count": 17,
     "metadata": {},
     "output_type": "execute_result"
    }
   ],
   "source": [
    "len(train[low_miss].dropna())/len(train)"
   ]
  },
  {
   "cell_type": "markdown",
   "id": "ae8fa9fb",
   "metadata": {},
   "source": [
    "# Visualising Old and New dataframe"
   ]
  },
  {
   "cell_type": "code",
   "execution_count": 18,
   "id": "20dfc913",
   "metadata": {},
   "outputs": [
    {
     "data": {
      "text/plain": [
       "(889, 1)"
      ]
     },
     "execution_count": 18,
     "metadata": {},
     "output_type": "execute_result"
    }
   ],
   "source": [
    "new_train = train[low_miss].dropna()\n",
    "new_train.shape"
   ]
  },
  {
   "cell_type": "code",
   "execution_count": 19,
   "id": "209c6e1d",
   "metadata": {},
   "outputs": [
    {
     "data": {
      "text/plain": [
       "(891, 12)"
      ]
     },
     "execution_count": 19,
     "metadata": {},
     "output_type": "execute_result"
    }
   ],
   "source": [
    "train.shape"
   ]
  },
  {
   "cell_type": "code",
   "execution_count": 20,
   "id": "4f07e8e9",
   "metadata": {},
   "outputs": [],
   "source": [
    "import matplotlib.pyplot as plt"
   ]
  },
  {
   "cell_type": "code",
   "execution_count": 21,
   "id": "7e52a290",
   "metadata": {},
   "outputs": [
    {
     "data": {
      "text/plain": [
       "<AxesSubplot:xlabel='Embarked'>"
      ]
     },
     "execution_count": 21,
     "metadata": {},
     "output_type": "execute_result"
    },
    {
     "data": {
      "image/png": "[encoded data removed]",
      "text/plain": [
       "<Figure size 432x288 with 1 Axes>"
      ]
     },
     "metadata": {
      "needs_background": "light"
     },
     "output_type": "display_data"
    }
   ],
   "source": [
    "new_train.value_counts().plot(kind='bar')"
   ]
  },
  {
   "cell_type": "raw",
   "id": "4548d192",
   "metadata": {},
   "source": [
    "### Feature: Embarked\n",
    "\n",
    "Description: The port where the passenger boarded the Titanic.\n",
    "    \n",
    "Key: C = Cherbourg, Q = Queenstown, S = Southampton"
   ]
  },
  {
   "cell_type": "markdown",
   "id": "e45e5883",
   "metadata": {},
   "source": [
    "# 1.Mode value to 'Embarked' Column"
   ]
  },
  {
   "cell_type": "code",
   "execution_count": 25,
   "id": "be2b26e0",
   "metadata": {},
   "outputs": [
    {
     "data": {
      "text/plain": [
       "0    S\n",
       "dtype: object"
      ]
     },
     "execution_count": 25,
     "metadata": {},
     "output_type": "execute_result"
    }
   ],
   "source": [
    "train['Embarked'].mode()"
   ]
  },
  {
   "cell_type": "code",
   "execution_count": 26,
   "id": "6ed3ff96",
   "metadata": {},
   "outputs": [],
   "source": [
    "train['Embarked'].fillna('S',inplace = True)"
   ]
  },
  {
   "cell_type": "code",
   "execution_count": 27,
   "id": "cf49a765",
   "metadata": {},
   "outputs": [],
   "source": [
    "temporary = train[train['Embarked'] == 'S']['Survived']"
   ]
  },
  {
   "cell_type": "code",
   "execution_count": 28,
   "id": "2d87d136",
   "metadata": {},
   "outputs": [
    {
     "data": {
      "text/plain": [
       "Text(0.5, 1.0, 'Embarked')"
      ]
     },
     "execution_count": 28,
     "metadata": {},
     "output_type": "execute_result"
    },
    {
     "data": {
      "image/png": "[encoded data removed]",
      "text/plain": [
       "<Figure size 432x288 with 1 Axes>"
      ]
     },
     "metadata": {
      "needs_background": "light"
     },
     "output_type": "display_data"
    }
   ],
   "source": [
    "fig = plt.figure()\n",
    "axes = fig.add_subplot(111)\n",
    "\n",
    "temporary.plot(kind = 'kde', ax= axes)\n",
    "\n",
    "train[train['Embarked'] == 'S']['Survived'].plot(kind= 'kde',ax=axes,color = 'red')\n",
    "\n",
    "lines, labels = axes.get_legend_handles_labels()\n",
    "labels = ['Original varable' , 'imputed varable']\n",
    "axes.legend(lines , labels,loc= 'best')\n",
    "\n",
    "plt.title('Embarked')"
   ]
  },
  {
   "cell_type": "code",
   "execution_count": 29,
   "id": "de6dc0e7",
   "metadata": {},
   "outputs": [
    {
     "data": {
      "text/plain": [
       "(891, 12)"
      ]
     },
     "execution_count": 29,
     "metadata": {},
     "output_type": "execute_result"
    }
   ],
   "source": [
    "train.shape"
   ]
  },
  {
   "cell_type": "code",
   "execution_count": 30,
   "id": "8a27f15e",
   "metadata": {},
   "outputs": [
    {
     "data": {
      "text/plain": [
       "PassengerId      0\n",
       "Survived         0\n",
       "Pclass           0\n",
       "Name             0\n",
       "Sex              0\n",
       "Age            177\n",
       "SibSp            0\n",
       "Parch            0\n",
       "Ticket           0\n",
       "Fare             0\n",
       "Cabin          687\n",
       "Embarked         0\n",
       "dtype: int64"
      ]
     },
     "execution_count": 30,
     "metadata": {},
     "output_type": "execute_result"
    }
   ],
   "source": [
    "train.isnull().sum()"
   ]
  },
  {
   "cell_type": "markdown",
   "id": "803a0e74",
   "metadata": {},
   "source": [
    "# 2.Cabin Collumn"
   ]
  },
  {
   "cell_type": "code",
   "execution_count": 31,
   "id": "d1636b5c",
   "metadata": {},
   "outputs": [
    {
     "data": {
      "text/plain": [
       "0       NaN\n",
       "1       C85\n",
       "2       NaN\n",
       "3      C123\n",
       "4       NaN\n",
       "       ... \n",
       "886     NaN\n",
       "887     B42\n",
       "888     NaN\n",
       "889    C148\n",
       "890     NaN\n",
       "Name: Cabin, Length: 891, dtype: object"
      ]
     },
     "execution_count": 31,
     "metadata": {},
     "output_type": "execute_result"
    }
   ],
   "source": [
    "train['Cabin']"
   ]
  },
  {
   "cell_type": "code",
   "execution_count": 32,
   "id": "6faa62d5",
   "metadata": {},
   "outputs": [
    {
     "data": {
      "text/plain": [
       "687"
      ]
     },
     "execution_count": 32,
     "metadata": {},
     "output_type": "execute_result"
    }
   ],
   "source": [
    "train['Cabin'].isnull().sum()"
   ]
  },
  {
   "cell_type": "code",
   "execution_count": 33,
   "id": "05dc3eda",
   "metadata": {},
   "outputs": [
    {
     "data": {
      "text/plain": [
       "C23 C25 C27    4\n",
       "G6             4\n",
       "B96 B98        4\n",
       "E101           3\n",
       "C22 C26        3\n",
       "              ..\n",
       "F E69          1\n",
       "C110           1\n",
       "E17            1\n",
       "D45            1\n",
       "B50            1\n",
       "Name: Cabin, Length: 147, dtype: int64"
      ]
     },
     "execution_count": 33,
     "metadata": {},
     "output_type": "execute_result"
    }
   ],
   "source": [
    "train['Cabin'].value_counts()"
   ]
  },
  {
   "cell_type": "code",
   "execution_count": 34,
   "id": "14ae13cd",
   "metadata": {},
   "outputs": [
    {
     "data": {
      "text/plain": [
       "array([4, 3, 2, 1], dtype=int64)"
      ]
     },
     "execution_count": 34,
     "metadata": {},
     "output_type": "execute_result"
    }
   ],
   "source": [
    "train['Cabin'].value_counts().unique()"
   ]
  },
  {
   "cell_type": "code",
   "execution_count": 35,
   "id": "497bd6b3",
   "metadata": {},
   "outputs": [
    {
     "data": {
      "text/plain": [
       "0        B96 B98\n",
       "1    C23 C25 C27\n",
       "2             G6\n",
       "dtype: object"
      ]
     },
     "execution_count": 35,
     "metadata": {},
     "output_type": "execute_result"
    }
   ],
   "source": [
    "train['Cabin'].mode()"
   ]
  },
  {
   "cell_type": "markdown",
   "id": "0aa2dac5",
   "metadata": {},
   "source": [
    "### If we use this kind of equation still we get null values so we replace with index number"
   ]
  },
  {
   "cell_type": "code",
   "execution_count": 36,
   "id": "47bbc859",
   "metadata": {},
   "outputs": [],
   "source": [
    "#train['Cabin'].fillna(train['Cabin'].mode()).isnull().sum()"
   ]
  },
  {
   "cell_type": "code",
   "execution_count": 37,
   "id": "0b025cdc",
   "metadata": {},
   "outputs": [],
   "source": [
    "# So we use this method\n",
    "new_cabin = train['Cabin'].fillna(train['Cabin'].mode()[0])"
   ]
  },
  {
   "cell_type": "code",
   "execution_count": 38,
   "id": "295a420e",
   "metadata": {},
   "outputs": [
    {
     "data": {
      "text/plain": [
       "0"
      ]
     },
     "execution_count": 38,
     "metadata": {},
     "output_type": "execute_result"
    }
   ],
   "source": [
    "new_cabin.isnull().sum()"
   ]
  },
  {
   "cell_type": "code",
   "execution_count": 39,
   "id": "187b69f5",
   "metadata": {},
   "outputs": [
    {
     "data": {
      "text/plain": [
       "B96 B98        691\n",
       "C23 C25 C27      4\n",
       "G6               4\n",
       "E101             3\n",
       "C22 C26          3\n",
       "              ... \n",
       "F E69            1\n",
       "C110             1\n",
       "E17              1\n",
       "D45              1\n",
       "B50              1\n",
       "Name: Cabin, Length: 147, dtype: int64"
      ]
     },
     "execution_count": 39,
     "metadata": {},
     "output_type": "execute_result"
    }
   ],
   "source": [
    "new_cabin.value_counts()"
   ]
  },
  {
   "cell_type": "code",
   "execution_count": 40,
   "id": "d303bcb6",
   "metadata": {},
   "outputs": [
    {
     "data": {
      "text/plain": [
       "(891,)"
      ]
     },
     "execution_count": 40,
     "metadata": {},
     "output_type": "execute_result"
    }
   ],
   "source": [
    "new_cabin.shape"
   ]
  },
  {
   "cell_type": "markdown",
   "id": "8d3899d6",
   "metadata": {},
   "source": [
    "* Still we can change another method"
   ]
  },
  {
   "cell_type": "code",
   "execution_count": 41,
   "id": "8ab5b8c6",
   "metadata": {},
   "outputs": [
    {
     "data": {
      "text/plain": [
       "0       NaN\n",
       "1       C85\n",
       "2       NaN\n",
       "3      C123\n",
       "4       NaN\n",
       "       ... \n",
       "886     NaN\n",
       "887     B42\n",
       "888     NaN\n",
       "889    C148\n",
       "890     NaN\n",
       "Name: Cabin, Length: 891, dtype: object"
      ]
     },
     "execution_count": 41,
     "metadata": {},
     "output_type": "execute_result"
    }
   ],
   "source": [
    "train['Cabin']"
   ]
  },
  {
   "cell_type": "code",
   "execution_count": 42,
   "id": "ec5302ab",
   "metadata": {},
   "outputs": [
    {
     "data": {
      "text/plain": [
       "687"
      ]
     },
     "execution_count": 42,
     "metadata": {},
     "output_type": "execute_result"
    }
   ],
   "source": [
    "train.Cabin.isnull().sum()"
   ]
  },
  {
   "cell_type": "code",
   "execution_count": 43,
   "id": "e9de3a61",
   "metadata": {},
   "outputs": [
    {
     "data": {
      "text/plain": [
       "0      0\n",
       "1      1\n",
       "2      0\n",
       "3      1\n",
       "4      0\n",
       "      ..\n",
       "886    0\n",
       "887    1\n",
       "888    0\n",
       "889    1\n",
       "890    0\n",
       "Name: Cabin, Length: 891, dtype: int64"
      ]
     },
     "execution_count": 43,
     "metadata": {},
     "output_type": "execute_result"
    }
   ],
   "source": [
    "train.Cabin.apply(lambda x: 0 if pd.isna(x) else len(x.split(' ')))"
   ]
  },
  {
   "cell_type": "code",
   "execution_count": 44,
   "id": "448415f2",
   "metadata": {},
   "outputs": [
    {
     "data": {
      "text/plain": [
       "0    687\n",
       "1    180\n",
       "2     16\n",
       "3      6\n",
       "4      2\n",
       "Name: Cabin, dtype: int64"
      ]
     },
     "execution_count": 44,
     "metadata": {},
     "output_type": "execute_result"
    }
   ],
   "source": [
    "train.Cabin.apply(lambda x: 0 if pd.isna(x) else len(x.split(' '))).value_counts()"
   ]
  },
  {
   "cell_type": "code",
   "execution_count": 45,
   "id": "78c16173",
   "metadata": {},
   "outputs": [
    {
     "data": {
      "text/plain": [
       "array([687, 180,  16,   6,   2], dtype=int64)"
      ]
     },
     "execution_count": 45,
     "metadata": {},
     "output_type": "execute_result"
    }
   ],
   "source": [
    "train.Cabin.apply(lambda x: 0 if pd.isna(x) else len(x.split(' '))).value_counts().unique()"
   ]
  },
  {
   "cell_type": "code",
   "execution_count": 46,
   "id": "51e5df67",
   "metadata": {},
   "outputs": [],
   "source": [
    "train['Cabin'] = train.Cabin.apply(lambda x: 0 if pd.isna(x) else len(x.split(' '))).isnull().sum()"
   ]
  },
  {
   "cell_type": "code",
   "execution_count": 47,
   "id": "2f63824b",
   "metadata": {},
   "outputs": [
    {
     "data": {
      "text/plain": [
       "0"
      ]
     },
     "execution_count": 47,
     "metadata": {},
     "output_type": "execute_result"
    }
   ],
   "source": [
    "train['Cabin'].isnull().sum()"
   ]
  },
  {
   "cell_type": "code",
   "execution_count": 48,
   "id": "4342773e",
   "metadata": {},
   "outputs": [
    {
     "data": {
      "text/plain": [
       "PassengerId      0\n",
       "Survived         0\n",
       "Pclass           0\n",
       "Name             0\n",
       "Sex              0\n",
       "Age            177\n",
       "SibSp            0\n",
       "Parch            0\n",
       "Ticket           0\n",
       "Fare             0\n",
       "Cabin            0\n",
       "Embarked         0\n",
       "dtype: int64"
      ]
     },
     "execution_count": 48,
     "metadata": {},
     "output_type": "execute_result"
    }
   ],
   "source": [
    "train.isnull().sum()"
   ]
  },
  {
   "cell_type": "code",
   "execution_count": 49,
   "id": "5c99a0fc",
   "metadata": {},
   "outputs": [
    {
     "data": {
      "text/plain": [
       "(891, 12)"
      ]
     },
     "execution_count": 49,
     "metadata": {},
     "output_type": "execute_result"
    }
   ],
   "source": [
    "train.shape"
   ]
  },
  {
   "cell_type": "code",
   "execution_count": 50,
   "id": "1d1d28ed",
   "metadata": {},
   "outputs": [
    {
     "data": {
      "text/html": [
       "<div>\n",
       "<style scoped>\n",
       "    .dataframe tbody tr th:only-of-type {\n",
       "        vertical-align: middle;\n",
       "    }\n",
       "\n",
       "    .dataframe tbody tr th {\n",
       "        vertical-align: top;\n",
       "    }\n",
       "\n",
       "    .dataframe thead th {\n",
       "        text-align: right;\n",
       "    }\n",
       "</style>\n",
       "<table border=\"1\" class=\"dataframe\">\n",
       "  <thead>\n",
       "    <tr style=\"text-align: right;\">\n",
       "      <th></th>\n",
       "      <th>PassengerId</th>\n",
       "      <th>Survived</th>\n",
       "      <th>Pclass</th>\n",
       "      <th>Name</th>\n",
       "      <th>Sex</th>\n",
       "      <th>Age</th>\n",
       "      <th>SibSp</th>\n",
       "      <th>Parch</th>\n",
       "      <th>Ticket</th>\n",
       "      <th>Fare</th>\n",
       "      <th>Cabin</th>\n",
       "      <th>Embarked</th>\n",
       "    </tr>\n",
       "  </thead>\n",
       "  <tbody>\n",
       "    <tr>\n",
       "      <th>0</th>\n",
       "      <td>1</td>\n",
       "      <td>0</td>\n",
       "      <td>3</td>\n",
       "      <td>Braund, Mr. Owen Harris</td>\n",
       "      <td>male</td>\n",
       "      <td>22.0</td>\n",
       "      <td>1</td>\n",
       "      <td>0</td>\n",
       "      <td>A/5 21171</td>\n",
       "      <td>7.2500</td>\n",
       "      <td>0</td>\n",
       "      <td>S</td>\n",
       "    </tr>\n",
       "    <tr>\n",
       "      <th>1</th>\n",
       "      <td>2</td>\n",
       "      <td>1</td>\n",
       "      <td>1</td>\n",
       "      <td>Cumings, Mrs. John Bradley (Florence Briggs Th...</td>\n",
       "      <td>female</td>\n",
       "      <td>38.0</td>\n",
       "      <td>1</td>\n",
       "      <td>0</td>\n",
       "      <td>PC 17599</td>\n",
       "      <td>71.2833</td>\n",
       "      <td>0</td>\n",
       "      <td>C</td>\n",
       "    </tr>\n",
       "    <tr>\n",
       "      <th>2</th>\n",
       "      <td>3</td>\n",
       "      <td>1</td>\n",
       "      <td>3</td>\n",
       "      <td>Heikkinen, Miss. Laina</td>\n",
       "      <td>female</td>\n",
       "      <td>26.0</td>\n",
       "      <td>0</td>\n",
       "      <td>0</td>\n",
       "      <td>STON/O2. 3101282</td>\n",
       "      <td>7.9250</td>\n",
       "      <td>0</td>\n",
       "      <td>S</td>\n",
       "    </tr>\n",
       "    <tr>\n",
       "      <th>3</th>\n",
       "      <td>4</td>\n",
       "      <td>1</td>\n",
       "      <td>1</td>\n",
       "      <td>Futrelle, Mrs. Jacques Heath (Lily May Peel)</td>\n",
       "      <td>female</td>\n",
       "      <td>35.0</td>\n",
       "      <td>1</td>\n",
       "      <td>0</td>\n",
       "      <td>113803</td>\n",
       "      <td>53.1000</td>\n",
       "      <td>0</td>\n",
       "      <td>S</td>\n",
       "    </tr>\n",
       "    <tr>\n",
       "      <th>4</th>\n",
       "      <td>5</td>\n",
       "      <td>0</td>\n",
       "      <td>3</td>\n",
       "      <td>Allen, Mr. William Henry</td>\n",
       "      <td>male</td>\n",
       "      <td>35.0</td>\n",
       "      <td>0</td>\n",
       "      <td>0</td>\n",
       "      <td>373450</td>\n",
       "      <td>8.0500</td>\n",
       "      <td>0</td>\n",
       "      <td>S</td>\n",
       "    </tr>\n",
       "  </tbody>\n",
       "</table>\n",
       "</div>"
      ],
      "text/plain": [
       "   PassengerId  Survived  Pclass  \\\n",
       "0            1         0       3   \n",
       "1            2         1       1   \n",
       "2            3         1       3   \n",
       "3            4         1       1   \n",
       "4            5         0       3   \n",
       "\n",
       "                                                Name     Sex   Age  SibSp  \\\n",
       "0                            Braund, Mr. Owen Harris    male  22.0      1   \n",
       "1  Cumings, Mrs. John Bradley (Florence Briggs Th...  female  38.0      1   \n",
       "2                             Heikkinen, Miss. Laina  female  26.0      0   \n",
       "3       Futrelle, Mrs. Jacques Heath (Lily May Peel)  female  35.0      1   \n",
       "4                           Allen, Mr. William Henry    male  35.0      0   \n",
       "\n",
       "   Parch            Ticket     Fare  Cabin Embarked  \n",
       "0      0         A/5 21171   7.2500      0        S  \n",
       "1      0          PC 17599  71.2833      0        C  \n",
       "2      0  STON/O2. 3101282   7.9250      0        S  \n",
       "3      0            113803  53.1000      0        S  \n",
       "4      0            373450   8.0500      0        S  "
      ]
     },
     "execution_count": 50,
     "metadata": {},
     "output_type": "execute_result"
    }
   ],
   "source": [
    "train.head()"
   ]
  },
  {
   "cell_type": "markdown",
   "id": "2cce338f",
   "metadata": {},
   "source": [
    "# 2.Numeric values : 'Age' Column is a \"NumericData\""
   ]
  },
  {
   "cell_type": "code",
   "execution_count": 51,
   "id": "5c1fa581",
   "metadata": {},
   "outputs": [
    {
     "data": {
      "text/plain": [
       "177"
      ]
     },
     "execution_count": 51,
     "metadata": {},
     "output_type": "execute_result"
    }
   ],
   "source": [
    "train['Age'].isnull().sum()"
   ]
  },
  {
   "cell_type": "code",
   "execution_count": 52,
   "id": "8cb58b9b",
   "metadata": {},
   "outputs": [
    {
     "data": {
      "text/plain": [
       "24.00    30\n",
       "22.00    27\n",
       "18.00    26\n",
       "28.00    25\n",
       "19.00    25\n",
       "         ..\n",
       "55.50     1\n",
       "74.00     1\n",
       "0.92      1\n",
       "70.50     1\n",
       "12.00     1\n",
       "Name: Age, Length: 88, dtype: int64"
      ]
     },
     "execution_count": 52,
     "metadata": {},
     "output_type": "execute_result"
    }
   ],
   "source": [
    "train['Age'].value_counts()"
   ]
  },
  {
   "cell_type": "code",
   "execution_count": 53,
   "id": "5ff18533",
   "metadata": {},
   "outputs": [
    {
     "data": {
      "text/plain": [
       "array([30, 27, 26, 25, 24, 23, 22, 20, 18, 17, 15, 14, 13, 12, 11, 10,  9,\n",
       "        8,  7,  6,  5,  4,  3,  2,  1], dtype=int64)"
      ]
     },
     "execution_count": 53,
     "metadata": {},
     "output_type": "execute_result"
    }
   ],
   "source": [
    "train['Age'].value_counts().unique()"
   ]
  },
  {
   "cell_type": "markdown",
   "id": "fc92e4c2",
   "metadata": {},
   "source": [
    "# 1.Filling missing values with Mean and Meadian"
   ]
  },
  {
   "cell_type": "code",
   "execution_count": 57,
   "id": "0df48e94",
   "metadata": {},
   "outputs": [],
   "source": [
    "from sklearn.model_selection import train_test_split\n",
    "from sklearn.impute import SimpleImputer\n",
    "from sklearn.compose import ColumnTransformer"
   ]
  },
  {
   "cell_type": "code",
   "execution_count": 59,
   "id": "afda9390",
   "metadata": {},
   "outputs": [],
   "source": [
    "X_train,X_test,y_train,y_test = train_test_split(X,y,test_size=0.2,random_state=2)"
   ]
  },
  {
   "cell_type": "code",
   "execution_count": 58,
   "id": "9c60f2fa",
   "metadata": {},
   "outputs": [],
   "source": [
    "X = train.drop(columns = 'Survived')\n",
    "y = train['Survived']"
   ]
  },
  {
   "cell_type": "code",
   "execution_count": 60,
   "id": "de405be9",
   "metadata": {},
   "outputs": [
    {
     "data": {
      "text/plain": [
       "((712, 11), (179, 11))"
      ]
     },
     "execution_count": 60,
     "metadata": {},
     "output_type": "execute_result"
    }
   ],
   "source": [
    "X_train.shape, X_test.shape"
   ]
  },
  {
   "cell_type": "code",
   "execution_count": 61,
   "id": "78b854e4",
   "metadata": {},
   "outputs": [
    {
     "data": {
      "text/plain": [
       "PassengerId    0.000000\n",
       "Pclass         0.000000\n",
       "Name           0.000000\n",
       "Sex            0.000000\n",
       "Age            0.207865\n",
       "SibSp          0.000000\n",
       "Parch          0.000000\n",
       "Ticket         0.000000\n",
       "Fare           0.000000\n",
       "Cabin          0.000000\n",
       "Embarked       0.000000\n",
       "dtype: float64"
      ]
     },
     "execution_count": 61,
     "metadata": {},
     "output_type": "execute_result"
    }
   ],
   "source": [
    "X_train.isnull().mean()"
   ]
  },
  {
   "cell_type": "code",
   "execution_count": 62,
   "id": "a641c3b6",
   "metadata": {},
   "outputs": [],
   "source": [
    "mean_age = X_train['Age'].mean()\n",
    "median_age = X_train['Age'].median()"
   ]
  },
  {
   "cell_type": "code",
   "execution_count": 63,
   "id": "99653623",
   "metadata": {},
   "outputs": [
    {
     "data": {
      "text/plain": [
       "29.78590425531915"
      ]
     },
     "execution_count": 63,
     "metadata": {},
     "output_type": "execute_result"
    }
   ],
   "source": [
    "mean_age"
   ]
  },
  {
   "cell_type": "code",
   "execution_count": 64,
   "id": "afc4d9fa",
   "metadata": {},
   "outputs": [
    {
     "data": {
      "text/plain": [
       "28.75"
      ]
     },
     "execution_count": 64,
     "metadata": {},
     "output_type": "execute_result"
    }
   ],
   "source": [
    "median_age"
   ]
  },
  {
   "cell_type": "markdown",
   "id": "bded2c80",
   "metadata": {},
   "source": [
    "* Replacing wiht \"Mean\" and \"Median\" values"
   ]
  },
  {
   "cell_type": "code",
   "execution_count": 83,
   "id": "eb6081f6",
   "metadata": {},
   "outputs": [
    {
     "name": "stderr",
     "output_type": "stream",
     "text": [
      "<ipython-input-83-e42c49c78a55>:1: SettingWithCopyWarning: \n",
      "A value is trying to be set on a copy of a slice from a DataFrame.\n",
      "Try using .loc[row_indexer,col_indexer] = value instead\n",
      "\n",
      "See the caveats in the documentation: https://pandas.pydata.org/pandas-docs/stable/user_guide/indexing.html#returning-a-view-versus-a-copy\n",
      "  X_train['Age_median'] = X_train['Age'].fillna(median_age)\n",
      "<ipython-input-83-e42c49c78a55>:2: SettingWithCopyWarning: \n",
      "A value is trying to be set on a copy of a slice from a DataFrame.\n",
      "Try using .loc[row_indexer,col_indexer] = value instead\n",
      "\n",
      "See the caveats in the documentation: https://pandas.pydata.org/pandas-docs/stable/user_guide/indexing.html#returning-a-view-versus-a-copy\n",
      "  X_train['Age_mean'] = X_train['Age'].fillna(mean_age)\n"
     ]
    }
   ],
   "source": [
    "X_train['Age_median'] = X_train['Age'].fillna(median_age)\n",
    "X_train['Age_mean'] = X_train['Age'].fillna(mean_age)"
   ]
  },
  {
   "cell_type": "markdown",
   "id": "dd7b09ae",
   "metadata": {},
   "source": [
    "* Replacing wiht Orbitary values"
   ]
  },
  {
   "cell_type": "markdown",
   "id": "762afe66",
   "metadata": {},
   "source": [
    "# 2.Replacing Orbitary values "
   ]
  },
  {
   "cell_type": "code",
   "execution_count": 84,
   "id": "d95bc157",
   "metadata": {},
   "outputs": [
    {
     "name": "stderr",
     "output_type": "stream",
     "text": [
      "<ipython-input-84-9c7dfee22c3c>:1: SettingWithCopyWarning: \n",
      "A value is trying to be set on a copy of a slice from a DataFrame.\n",
      "Try using .loc[row_indexer,col_indexer] = value instead\n",
      "\n",
      "See the caveats in the documentation: https://pandas.pydata.org/pandas-docs/stable/user_guide/indexing.html#returning-a-view-versus-a-copy\n",
      "  X_train['Age_99'] = X_train['Age'].fillna(99)\n",
      "<ipython-input-84-9c7dfee22c3c>:2: SettingWithCopyWarning: \n",
      "A value is trying to be set on a copy of a slice from a DataFrame.\n",
      "Try using .loc[row_indexer,col_indexer] = value instead\n",
      "\n",
      "See the caveats in the documentation: https://pandas.pydata.org/pandas-docs/stable/user_guide/indexing.html#returning-a-view-versus-a-copy\n",
      "  X_train['Age_minus1'] = X_train['Age'].fillna(-1)\n"
     ]
    }
   ],
   "source": [
    "X_train['Age_99'] = X_train['Age'].fillna(99)\n",
    "X_train['Age_minus1'] = X_train['Age'].fillna(-1)"
   ]
  },
  {
   "cell_type": "markdown",
   "id": "a9252ac9",
   "metadata": {},
   "source": [
    "# 3.Replacing the Random Values"
   ]
  },
  {
   "cell_type": "code",
   "execution_count": 97,
   "id": "f0edc353",
   "metadata": {},
   "outputs": [
    {
     "name": "stderr",
     "output_type": "stream",
     "text": [
      "<ipython-input-97-486dc8508d78>:1: SettingWithCopyWarning: \n",
      "A value is trying to be set on a copy of a slice from a DataFrame.\n",
      "Try using .loc[row_indexer,col_indexer] = value instead\n",
      "\n",
      "See the caveats in the documentation: https://pandas.pydata.org/pandas-docs/stable/user_guide/indexing.html#returning-a-view-versus-a-copy\n",
      "  X_train['Age_imputed'] = X_train['Age']\n"
     ]
    }
   ],
   "source": [
    "X_train['Age_imputed'] = X_train['Age']"
   ]
  },
  {
   "cell_type": "code",
   "execution_count": 99,
   "id": "48087872",
   "metadata": {},
   "outputs": [
    {
     "data": {
      "text/plain": [
       "77    NaN\n",
       "868   NaN\n",
       "334   NaN\n",
       "295   NaN\n",
       "792   NaN\n",
       "       ..\n",
       "674   NaN\n",
       "466   NaN\n",
       "584   NaN\n",
       "527   NaN\n",
       "168   NaN\n",
       "Name: Age_imputed, Length: 148, dtype: float64"
      ]
     },
     "execution_count": 99,
     "metadata": {},
     "output_type": "execute_result"
    }
   ],
   "source": [
    "# Finding Null values in the data set\n",
    "X_train['Age_imputed'][X_train['Age_imputed'].isnull()]"
   ]
  },
  {
   "cell_type": "code",
   "execution_count": 101,
   "id": "0d0b566f",
   "metadata": {},
   "outputs": [
    {
     "name": "stderr",
     "output_type": "stream",
     "text": [
      "<ipython-input-101-ce7a27a5ec7b>:2: SettingWithCopyWarning: \n",
      "A value is trying to be set on a copy of a slice from a DataFrame\n",
      "\n",
      "See the caveats in the documentation: https://pandas.pydata.org/pandas-docs/stable/user_guide/indexing.html#returning-a-view-versus-a-copy\n",
      "  X_train['Age_imputed'][X_train['Age_imputed'].isnull()] =X_train['Age'].dropna().sample(X_train['Age'].isnull().sum()).values\n",
      "C:\\Users\\user\\anaconda3\\lib\\site-packages\\pandas\\core\\series.py:992: SettingWithCopyWarning: \n",
      "A value is trying to be set on a copy of a slice from a DataFrame\n",
      "\n",
      "See the caveats in the documentation: https://pandas.pydata.org/pandas-docs/stable/user_guide/indexing.html#returning-a-view-versus-a-copy\n",
      "  self._where(~key, value, inplace=True)\n"
     ]
    }
   ],
   "source": [
    "# Filling Missing values with sample Orginal values\n",
    "X_train['Age_imputed'][X_train['Age_imputed'].isnull()] =X_train['Age'].dropna().sample(X_train['Age'].isnull().sum()).values\n"
   ]
  },
  {
   "cell_type": "code",
   "execution_count": 103,
   "id": "765e72c7",
   "metadata": {},
   "outputs": [
    {
     "data": {
      "text/plain": [
       "array([16.  , 17.  ,  2.  , 40.  , 24.  ,  0.83, 26.  ,  6.  , 39.  ,\n",
       "       48.  , 32.  , 29.  , 35.  , 29.  , 28.  , 18.  , 21.  , 24.  ,\n",
       "       57.  , 18.  , 23.  , 20.  , 33.  , 22.  , 32.  , 30.  , 50.  ,\n",
       "       16.  , 48.  , 47.  , 61.  , 65.  , 36.  , 22.  , 18.  , 39.  ,\n",
       "       13.  , 28.  ,  9.  , 11.  , 27.  , 27.  , 32.  , 27.  , 33.  ,\n",
       "       16.  , 42.  , 26.  , 33.  , 19.  , 38.  , 28.  , 24.  , 10.  ,\n",
       "       19.  , 18.  , 28.  , 28.  , 28.  , 30.  ,  4.  , 32.  ,  8.  ,\n",
       "       33.  , 29.  , 18.  , 37.  , 25.  , 14.  , 26.  , 18.  , 26.  ,\n",
       "       26.  , 21.  , 38.  , 21.  , 31.  , 23.  , 27.  , 34.  , 21.  ,\n",
       "       33.  , 25.  , 16.  , 20.  , 26.  , 45.  , 51.  , 30.5 ,  7.  ,\n",
       "       39.  , 20.  , 47.  ,  4.  , 49.  , 41.  , 42.  , 16.  , 40.  ,\n",
       "       16.  , 18.  , 22.  , 32.  , 25.  , 23.  , 26.  , 25.  , 36.  ,\n",
       "       14.5 , 52.  , 24.  ,  1.  , 16.  , 24.  ,  6.  , 25.  , 32.  ,\n",
       "       14.  , 22.  , 33.  , 21.  ,  5.  , 36.  , 20.  , 27.  , 20.  ,\n",
       "        9.  , 39.  , 22.  , 45.5 , 50.  , 24.  , 29.  , 35.  , 62.  ,\n",
       "       24.  , 47.  , 28.  , 37.  , 23.  , 40.  , 34.  , 28.  , 16.  ,\n",
       "       19.  , 21.  , 24.  , 36.  ])"
      ]
     },
     "execution_count": 103,
     "metadata": {},
     "output_type": "execute_result"
    }
   ],
   "source": [
    "X_train['Age'].dropna().sample(X_train['Age'].isnull().sum()).values"
   ]
  },
  {
   "cell_type": "code",
   "execution_count": 104,
   "id": "d40a5717",
   "metadata": {},
   "outputs": [
    {
     "data": {
      "text/plain": [
       "148"
      ]
     },
     "execution_count": 104,
     "metadata": {},
     "output_type": "execute_result"
    }
   ],
   "source": [
    "X_train['Age'].isnull().sum()"
   ]
  },
  {
   "cell_type": "code",
   "execution_count": 114,
   "id": "3ae009e9",
   "metadata": {},
   "outputs": [
    {
     "data": {
      "text/html": [
       "<div>\n",
       "<style scoped>\n",
       "    .dataframe tbody tr th:only-of-type {\n",
       "        vertical-align: middle;\n",
       "    }\n",
       "\n",
       "    .dataframe tbody tr th {\n",
       "        vertical-align: top;\n",
       "    }\n",
       "\n",
       "    .dataframe thead th {\n",
       "        text-align: right;\n",
       "    }\n",
       "</style>\n",
       "<table border=\"1\" class=\"dataframe\">\n",
       "  <thead>\n",
       "    <tr style=\"text-align: right;\">\n",
       "      <th></th>\n",
       "      <th>PassengerId</th>\n",
       "      <th>Pclass</th>\n",
       "      <th>Name</th>\n",
       "      <th>Sex</th>\n",
       "      <th>Age</th>\n",
       "      <th>SibSp</th>\n",
       "      <th>Parch</th>\n",
       "      <th>Ticket</th>\n",
       "      <th>Fare</th>\n",
       "      <th>Cabin</th>\n",
       "      <th>Embarked</th>\n",
       "      <th>Age_median</th>\n",
       "      <th>Age_mean</th>\n",
       "      <th>Age_99</th>\n",
       "      <th>Age_minus1</th>\n",
       "      <th>Age_imputed</th>\n",
       "    </tr>\n",
       "  </thead>\n",
       "  <tbody>\n",
       "    <tr>\n",
       "      <th>30</th>\n",
       "      <td>31</td>\n",
       "      <td>1</td>\n",
       "      <td>Uruchurtu, Don. Manuel E</td>\n",
       "      <td>male</td>\n",
       "      <td>40.0</td>\n",
       "      <td>0</td>\n",
       "      <td>0</td>\n",
       "      <td>PC 17601</td>\n",
       "      <td>27.7208</td>\n",
       "      <td>0</td>\n",
       "      <td>C</td>\n",
       "      <td>40.0</td>\n",
       "      <td>40.0</td>\n",
       "      <td>40.0</td>\n",
       "      <td>40.0</td>\n",
       "      <td>40.0</td>\n",
       "    </tr>\n",
       "    <tr>\n",
       "      <th>10</th>\n",
       "      <td>11</td>\n",
       "      <td>3</td>\n",
       "      <td>Sandstrom, Miss. Marguerite Rut</td>\n",
       "      <td>female</td>\n",
       "      <td>4.0</td>\n",
       "      <td>1</td>\n",
       "      <td>1</td>\n",
       "      <td>PP 9549</td>\n",
       "      <td>16.7000</td>\n",
       "      <td>0</td>\n",
       "      <td>S</td>\n",
       "      <td>4.0</td>\n",
       "      <td>4.0</td>\n",
       "      <td>4.0</td>\n",
       "      <td>4.0</td>\n",
       "      <td>4.0</td>\n",
       "    </tr>\n",
       "    <tr>\n",
       "      <th>873</th>\n",
       "      <td>874</td>\n",
       "      <td>3</td>\n",
       "      <td>Vander Cruyssen, Mr. Victor</td>\n",
       "      <td>male</td>\n",
       "      <td>47.0</td>\n",
       "      <td>0</td>\n",
       "      <td>0</td>\n",
       "      <td>345765</td>\n",
       "      <td>9.0000</td>\n",
       "      <td>0</td>\n",
       "      <td>S</td>\n",
       "      <td>47.0</td>\n",
       "      <td>47.0</td>\n",
       "      <td>47.0</td>\n",
       "      <td>47.0</td>\n",
       "      <td>47.0</td>\n",
       "    </tr>\n",
       "    <tr>\n",
       "      <th>182</th>\n",
       "      <td>183</td>\n",
       "      <td>3</td>\n",
       "      <td>Asplund, Master. Clarence Gustaf Hugo</td>\n",
       "      <td>male</td>\n",
       "      <td>9.0</td>\n",
       "      <td>4</td>\n",
       "      <td>2</td>\n",
       "      <td>347077</td>\n",
       "      <td>31.3875</td>\n",
       "      <td>0</td>\n",
       "      <td>S</td>\n",
       "      <td>9.0</td>\n",
       "      <td>9.0</td>\n",
       "      <td>9.0</td>\n",
       "      <td>9.0</td>\n",
       "      <td>9.0</td>\n",
       "    </tr>\n",
       "    <tr>\n",
       "      <th>876</th>\n",
       "      <td>877</td>\n",
       "      <td>3</td>\n",
       "      <td>Gustafsson, Mr. Alfred Ossian</td>\n",
       "      <td>male</td>\n",
       "      <td>20.0</td>\n",
       "      <td>0</td>\n",
       "      <td>0</td>\n",
       "      <td>7534</td>\n",
       "      <td>9.8458</td>\n",
       "      <td>0</td>\n",
       "      <td>S</td>\n",
       "      <td>20.0</td>\n",
       "      <td>20.0</td>\n",
       "      <td>20.0</td>\n",
       "      <td>20.0</td>\n",
       "      <td>20.0</td>\n",
       "    </tr>\n",
       "  </tbody>\n",
       "</table>\n",
       "</div>"
      ],
      "text/plain": [
       "     PassengerId  Pclass                                   Name     Sex   Age  \\\n",
       "30            31       1               Uruchurtu, Don. Manuel E    male  40.0   \n",
       "10            11       3        Sandstrom, Miss. Marguerite Rut  female   4.0   \n",
       "873          874       3            Vander Cruyssen, Mr. Victor    male  47.0   \n",
       "182          183       3  Asplund, Master. Clarence Gustaf Hugo    male   9.0   \n",
       "876          877       3          Gustafsson, Mr. Alfred Ossian    male  20.0   \n",
       "\n",
       "     SibSp  Parch    Ticket     Fare  Cabin Embarked  Age_median  Age_mean  \\\n",
       "30       0      0  PC 17601  27.7208      0        C        40.0      40.0   \n",
       "10       1      1   PP 9549  16.7000      0        S         4.0       4.0   \n",
       "873      0      0    345765   9.0000      0        S        47.0      47.0   \n",
       "182      4      2    347077  31.3875      0        S         9.0       9.0   \n",
       "876      0      0      7534   9.8458      0        S        20.0      20.0   \n",
       "\n",
       "     Age_99  Age_minus1  Age_imputed  \n",
       "30     40.0        40.0         40.0  \n",
       "10      4.0         4.0          4.0  \n",
       "873    47.0        47.0         47.0  \n",
       "182     9.0         9.0          9.0  \n",
       "876    20.0        20.0         20.0  "
      ]
     },
     "execution_count": 114,
     "metadata": {},
     "output_type": "execute_result"
    }
   ],
   "source": [
    "X_train.head()"
   ]
  },
  {
   "cell_type": "markdown",
   "id": "b6295029",
   "metadata": {},
   "source": [
    "# 4.Replacing for Numeric values Knn_Imputator"
   ]
  },
  {
   "cell_type": "code",
   "execution_count": 115,
   "id": "4c0e8652",
   "metadata": {},
   "outputs": [],
   "source": [
    "from sklearn.impute import KNNImputer,SimpleImputer"
   ]
  },
  {
   "cell_type": "raw",
   "id": "1a7f7e21",
   "metadata": {},
   "source": [
    "# Here distance is b/w the column numbers\n",
    "knn = KNNImputer(n_neighbors=3,weights='distance')\n",
    "\n",
    "X_train_trf = knn.fit_transform(X_train['Age']).reshape(-1,1)"
   ]
  },
  {
   "cell_type": "code",
   "execution_count": null,
   "id": "ce2d6fbd",
   "metadata": {},
   "outputs": [],
   "source": []
  },
  {
   "cell_type": "code",
   "execution_count": null,
   "id": "8efb5e12",
   "metadata": {},
   "outputs": [],
   "source": []
  },
  {
   "cell_type": "code",
   "execution_count": 107,
   "id": "8f1c02b9",
   "metadata": {},
   "outputs": [
    {
     "data": {
      "text/html": [
       "<div>\n",
       "<style scoped>\n",
       "    .dataframe tbody tr th:only-of-type {\n",
       "        vertical-align: middle;\n",
       "    }\n",
       "\n",
       "    .dataframe tbody tr th {\n",
       "        vertical-align: top;\n",
       "    }\n",
       "\n",
       "    .dataframe thead th {\n",
       "        text-align: right;\n",
       "    }\n",
       "</style>\n",
       "<table border=\"1\" class=\"dataframe\">\n",
       "  <thead>\n",
       "    <tr style=\"text-align: right;\">\n",
       "      <th></th>\n",
       "      <th>PassengerId</th>\n",
       "      <th>Pclass</th>\n",
       "      <th>Name</th>\n",
       "      <th>Sex</th>\n",
       "      <th>Age</th>\n",
       "      <th>SibSp</th>\n",
       "      <th>Parch</th>\n",
       "      <th>Ticket</th>\n",
       "      <th>Fare</th>\n",
       "      <th>Cabin</th>\n",
       "      <th>Embarked</th>\n",
       "      <th>Age_median</th>\n",
       "      <th>Age_mean</th>\n",
       "      <th>Age_99</th>\n",
       "      <th>Age_minus1</th>\n",
       "      <th>Age_imputed</th>\n",
       "    </tr>\n",
       "  </thead>\n",
       "  <tbody>\n",
       "    <tr>\n",
       "      <th>659</th>\n",
       "      <td>660</td>\n",
       "      <td>1</td>\n",
       "      <td>Newell, Mr. Arthur Webster</td>\n",
       "      <td>male</td>\n",
       "      <td>58.0</td>\n",
       "      <td>0</td>\n",
       "      <td>2</td>\n",
       "      <td>35273</td>\n",
       "      <td>113.275</td>\n",
       "      <td>0</td>\n",
       "      <td>C</td>\n",
       "      <td>58.00</td>\n",
       "      <td>58.000000</td>\n",
       "      <td>58.0</td>\n",
       "      <td>58.0</td>\n",
       "      <td>58.0</td>\n",
       "    </tr>\n",
       "    <tr>\n",
       "      <th>166</th>\n",
       "      <td>167</td>\n",
       "      <td>1</td>\n",
       "      <td>Chibnall, Mrs. (Edith Martha Bowerman)</td>\n",
       "      <td>female</td>\n",
       "      <td>NaN</td>\n",
       "      <td>0</td>\n",
       "      <td>1</td>\n",
       "      <td>113505</td>\n",
       "      <td>55.000</td>\n",
       "      <td>0</td>\n",
       "      <td>S</td>\n",
       "      <td>28.75</td>\n",
       "      <td>29.785904</td>\n",
       "      <td>99.0</td>\n",
       "      <td>-1.0</td>\n",
       "      <td>26.0</td>\n",
       "    </tr>\n",
       "    <tr>\n",
       "      <th>724</th>\n",
       "      <td>725</td>\n",
       "      <td>1</td>\n",
       "      <td>Chambers, Mr. Norman Campbell</td>\n",
       "      <td>male</td>\n",
       "      <td>27.0</td>\n",
       "      <td>1</td>\n",
       "      <td>0</td>\n",
       "      <td>113806</td>\n",
       "      <td>53.100</td>\n",
       "      <td>0</td>\n",
       "      <td>S</td>\n",
       "      <td>27.00</td>\n",
       "      <td>27.000000</td>\n",
       "      <td>27.0</td>\n",
       "      <td>27.0</td>\n",
       "      <td>27.0</td>\n",
       "    </tr>\n",
       "    <tr>\n",
       "      <th>214</th>\n",
       "      <td>215</td>\n",
       "      <td>3</td>\n",
       "      <td>Kiernan, Mr. Philip</td>\n",
       "      <td>male</td>\n",
       "      <td>NaN</td>\n",
       "      <td>1</td>\n",
       "      <td>0</td>\n",
       "      <td>367229</td>\n",
       "      <td>7.750</td>\n",
       "      <td>0</td>\n",
       "      <td>Q</td>\n",
       "      <td>28.75</td>\n",
       "      <td>29.785904</td>\n",
       "      <td>99.0</td>\n",
       "      <td>-1.0</td>\n",
       "      <td>30.0</td>\n",
       "    </tr>\n",
       "    <tr>\n",
       "      <th>181</th>\n",
       "      <td>182</td>\n",
       "      <td>2</td>\n",
       "      <td>Pernot, Mr. Rene</td>\n",
       "      <td>male</td>\n",
       "      <td>NaN</td>\n",
       "      <td>0</td>\n",
       "      <td>0</td>\n",
       "      <td>SC/PARIS 2131</td>\n",
       "      <td>15.050</td>\n",
       "      <td>0</td>\n",
       "      <td>C</td>\n",
       "      <td>28.75</td>\n",
       "      <td>29.785904</td>\n",
       "      <td>99.0</td>\n",
       "      <td>-1.0</td>\n",
       "      <td>40.0</td>\n",
       "    </tr>\n",
       "  </tbody>\n",
       "</table>\n",
       "</div>"
      ],
      "text/plain": [
       "     PassengerId  Pclass                                    Name     Sex  \\\n",
       "659          660       1              Newell, Mr. Arthur Webster    male   \n",
       "166          167       1  Chibnall, Mrs. (Edith Martha Bowerman)  female   \n",
       "724          725       1           Chambers, Mr. Norman Campbell    male   \n",
       "214          215       3                     Kiernan, Mr. Philip    male   \n",
       "181          182       2                        Pernot, Mr. Rene    male   \n",
       "\n",
       "      Age  SibSp  Parch         Ticket     Fare  Cabin Embarked  Age_median  \\\n",
       "659  58.0      0      2          35273  113.275      0        C       58.00   \n",
       "166   NaN      0      1         113505   55.000      0        S       28.75   \n",
       "724  27.0      1      0         113806   53.100      0        S       27.00   \n",
       "214   NaN      1      0         367229    7.750      0        Q       28.75   \n",
       "181   NaN      0      0  SC/PARIS 2131   15.050      0        C       28.75   \n",
       "\n",
       "      Age_mean  Age_99  Age_minus1  Age_imputed  \n",
       "659  58.000000    58.0        58.0         58.0  \n",
       "166  29.785904    99.0        -1.0         26.0  \n",
       "724  27.000000    27.0        27.0         27.0  \n",
       "214  29.785904    99.0        -1.0         30.0  \n",
       "181  29.785904    99.0        -1.0         40.0  "
      ]
     },
     "execution_count": 107,
     "metadata": {},
     "output_type": "execute_result"
    }
   ],
   "source": [
    "X_train.sample(5)"
   ]
  },
  {
   "cell_type": "markdown",
   "id": "c112b194",
   "metadata": {},
   "source": [
    "# Checking \" Variance\" of the Age Column"
   ]
  },
  {
   "cell_type": "code",
   "execution_count": 108,
   "id": "4fa9a6fa",
   "metadata": {},
   "outputs": [
    {
     "name": "stdout",
     "output_type": "stream",
     "text": [
      "Original Age variable variance:  204.3495133904614\n",
      "\n",
      "Age Variance after median imputation:  161.9895663346054\n",
      "Age Variance after mean imputation:  161.81262452718673\n",
      "\n",
      "Age Variance after 99 wala imputation:  951.7275570187172\n",
      "Age Variance after -1 wala imputation:  318.0896202624484\n",
      "\n",
      "Variance after random imputation:  211.96170897454155\n"
     ]
    }
   ],
   "source": [
    "print('Original Age variable variance: ', X_train['Age'].var())\n",
    "print()\n",
    "# replacing the 'Mean' and 'Median' values\n",
    "print('Age Variance after median imputation: ', X_train['Age_median'].var())\n",
    "print('Age Variance after mean imputation: ', X_train['Age_mean'].var())\n",
    "print()\n",
    "# replacing the Orbitary Columns\n",
    "\n",
    "print('Age Variance after 99 wala imputation: ', X_train['Age_99'].var())\n",
    "print('Age Variance after -1 wala imputation: ', X_train['Age_minus1'].var())\n",
    "print()\n",
    "\n",
    "#replacing Random Samples in the data\n",
    "print('Variance after random imputation: ', X_train['Age_imputed'].var())"
   ]
  },
  {
   "cell_type": "markdown",
   "id": "4541ef9c",
   "metadata": {},
   "source": [
    "* There is so much diffrence b/w Original and after appling mean and median we will check further"
   ]
  },
  {
   "cell_type": "code",
   "execution_count": 91,
   "id": "47e7a6a4",
   "metadata": {},
   "outputs": [
    {
     "data": {
      "text/plain": [
       "<matplotlib.legend.Legend at 0x20baa86aee0>"
      ]
     },
     "execution_count": 91,
     "metadata": {},
     "output_type": "execute_result"
    },
    {
     "data": {
      "image/png": "[encoded data removed]",
      "text/plain": [
       "<Figure size 432x288 with 1 Axes>"
      ]
     },
     "metadata": {
      "needs_background": "light"
     },
     "output_type": "display_data"
    }
   ],
   "source": [
    "fig = plt.figure()\n",
    "ax= fig.add_subplot(111)\n",
    "\n",
    "# Original variable distribution\n",
    "X_train['Age'].plot(kind = 'kde' , ax = ax)\n",
    "\n",
    "#Variable imputed with mean\n",
    "X_train['Age_mean'].plot(kind='kde',ax=ax,color = 'red')\n",
    "\n",
    "#Variable imputed with Median\n",
    "X_train['Age_median'].plot(kind='kde',ax=ax,color = 'green')\n",
    "\n",
    "# add legends\n",
    "lines, labels = ax.get_legend_handles_labels()\n",
    "ax.legend(lines, labels, loc='best')"
   ]
  },
  {
   "cell_type": "markdown",
   "id": "7f4b2da7",
   "metadata": {},
   "source": [
    "* Replacing the 'Mean' and 'Medain' values"
   ]
  },
  {
   "cell_type": "code",
   "execution_count": 92,
   "id": "e66c32f4",
   "metadata": {},
   "outputs": [
    {
     "data": {
      "text/plain": [
       "<matplotlib.legend.Legend at 0x20baa7c48e0>"
      ]
     },
     "execution_count": 92,
     "metadata": {},
     "output_type": "execute_result"
    },
    {
     "data": {
      "image/png": "[encoded data removed]",
      "text/plain": [
       "<Figure size 432x288 with 1 Axes>"
      ]
     },
     "metadata": {
      "needs_background": "light"
     },
     "output_type": "display_data"
    }
   ],
   "source": [
    "fig = plt.figure()\n",
    "ax= fig.add_subplot(111)\n",
    "\n",
    "# Original variable distribution\n",
    "X_train['Age'].plot(kind = 'kde' , ax = ax)\n",
    "\n",
    "# variable imputed with the median\n",
    "X_train['Age_99'].plot(kind='kde', ax=ax, color='black')\n",
    "\n",
    "# variable imputed with the mean\n",
    "X_train['Age_minus1'].plot(kind='kde', ax=ax, color='yellow')\n",
    "\n",
    "# add legends\n",
    "lines, labels = ax.get_legend_handles_labels()\n",
    "ax.legend(lines, labels, loc='best')"
   ]
  },
  {
   "cell_type": "markdown",
   "id": "be0f1b8d",
   "metadata": {},
   "source": [
    "* There is lot more diffrence in the data by replacing the 'Orbitary' values"
   ]
  },
  {
   "cell_type": "code",
   "execution_count": 109,
   "id": "ead46a5e",
   "metadata": {},
   "outputs": [
    {
     "data": {
      "text/plain": [
       "<matplotlib.legend.Legend at 0x20babcb3550>"
      ]
     },
     "execution_count": 109,
     "metadata": {},
     "output_type": "execute_result"
    },
    {
     "data": {
      "image/png": "[encoded data removed]",
      "text/plain": [
       "<Figure size 432x288 with 1 Axes>"
      ]
     },
     "metadata": {
      "needs_background": "light"
     },
     "output_type": "display_data"
    }
   ],
   "source": [
    "fig = plt.figure()\n",
    "ax= fig.add_subplot(111)\n",
    "\n",
    "# Original variable distribution\n",
    "X_train['Age'].plot(kind = 'kde' , ax = ax)\n",
    "\n",
    "# replacing the Random values in the age column\n",
    "X_train['Age_imputed'].plot(kind = 'kde',ax=ax)\n",
    "\n",
    "\n",
    "# add legends\n",
    "lines, labels = ax.get_legend_handles_labels()\n",
    "ax.legend(lines, labels, loc='best')"
   ]
  },
  {
   "cell_type": "markdown",
   "id": "e68897cc",
   "metadata": {},
   "source": [
    "* Almost similar to the data but slightly higher than the 'Original"
   ]
  },
  {
   "cell_type": "markdown",
   "id": "7fa2a0d4",
   "metadata": {},
   "source": [
    "# Checking the Co_Varience"
   ]
  },
  {
   "cell_type": "code",
   "execution_count": 111,
   "id": "aaa6175e",
   "metadata": {},
   "outputs": [
    {
     "data": {
      "text/html": [
       "<div>\n",
       "<style scoped>\n",
       "    .dataframe tbody tr th:only-of-type {\n",
       "        vertical-align: middle;\n",
       "    }\n",
       "\n",
       "    .dataframe tbody tr th {\n",
       "        vertical-align: top;\n",
       "    }\n",
       "\n",
       "    .dataframe thead th {\n",
       "        text-align: right;\n",
       "    }\n",
       "</style>\n",
       "<table border=\"1\" class=\"dataframe\">\n",
       "  <thead>\n",
       "    <tr style=\"text-align: right;\">\n",
       "      <th></th>\n",
       "      <th>PassengerId</th>\n",
       "      <th>Pclass</th>\n",
       "      <th>Age</th>\n",
       "      <th>SibSp</th>\n",
       "      <th>Parch</th>\n",
       "      <th>Fare</th>\n",
       "      <th>Cabin</th>\n",
       "      <th>Age_median</th>\n",
       "      <th>Age_mean</th>\n",
       "      <th>Age_99</th>\n",
       "      <th>Age_minus1</th>\n",
       "      <th>Age_imputed</th>\n",
       "    </tr>\n",
       "  </thead>\n",
       "  <tbody>\n",
       "    <tr>\n",
       "      <th>PassengerId</th>\n",
       "      <td>67083.511868</td>\n",
       "      <td>-1.530927</td>\n",
       "      <td>44.696863</td>\n",
       "      <td>-19.213776</td>\n",
       "      <td>2.116239</td>\n",
       "      <td>288.248615</td>\n",
       "      <td>0.0</td>\n",
       "      <td>37.097298</td>\n",
       "      <td>35.392875</td>\n",
       "      <td>-78.488425</td>\n",
       "      <td>86.046412</td>\n",
       "      <td>22.811154</td>\n",
       "    </tr>\n",
       "    <tr>\n",
       "      <th>Pclass</th>\n",
       "      <td>-1.530927</td>\n",
       "      <td>0.702784</td>\n",
       "      <td>-4.566284</td>\n",
       "      <td>0.099283</td>\n",
       "      <td>0.023681</td>\n",
       "      <td>-22.791180</td>\n",
       "      <td>0.0</td>\n",
       "      <td>-3.680637</td>\n",
       "      <td>-3.615778</td>\n",
       "      <td>0.717828</td>\n",
       "      <td>-5.543333</td>\n",
       "      <td>-3.696311</td>\n",
       "    </tr>\n",
       "    <tr>\n",
       "      <th>Age</th>\n",
       "      <td>44.696863</td>\n",
       "      <td>-4.566284</td>\n",
       "      <td>204.349513</td>\n",
       "      <td>-4.165283</td>\n",
       "      <td>-2.333618</td>\n",
       "      <td>71.512440</td>\n",
       "      <td>0.0</td>\n",
       "      <td>204.349513</td>\n",
       "      <td>204.349513</td>\n",
       "      <td>204.349513</td>\n",
       "      <td>204.349513</td>\n",
       "      <td>204.349513</td>\n",
       "    </tr>\n",
       "    <tr>\n",
       "      <th>SibSp</th>\n",
       "      <td>-19.213776</td>\n",
       "      <td>0.099283</td>\n",
       "      <td>-4.165283</td>\n",
       "      <td>1.267996</td>\n",
       "      <td>0.379281</td>\n",
       "      <td>8.567003</td>\n",
       "      <td>0.0</td>\n",
       "      <td>-3.311738</td>\n",
       "      <td>-3.298248</td>\n",
       "      <td>-2.396963</td>\n",
       "      <td>-3.699133</td>\n",
       "      <td>-3.124633</td>\n",
       "    </tr>\n",
       "    <tr>\n",
       "      <th>Parch</th>\n",
       "      <td>2.116239</td>\n",
       "      <td>0.023681</td>\n",
       "      <td>-2.333618</td>\n",
       "      <td>0.379281</td>\n",
       "      <td>0.708695</td>\n",
       "      <td>8.280261</td>\n",
       "      <td>0.0</td>\n",
       "      <td>-1.800826</td>\n",
       "      <td>-1.847858</td>\n",
       "      <td>-4.990324</td>\n",
       "      <td>-0.450113</td>\n",
       "      <td>-1.856043</td>\n",
       "    </tr>\n",
       "    <tr>\n",
       "      <th>Fare</th>\n",
       "      <td>288.248615</td>\n",
       "      <td>-22.791180</td>\n",
       "      <td>71.512440</td>\n",
       "      <td>8.567003</td>\n",
       "      <td>8.280261</td>\n",
       "      <td>2368.246832</td>\n",
       "      <td>0.0</td>\n",
       "      <td>58.986531</td>\n",
       "      <td>56.626587</td>\n",
       "      <td>-101.053412</td>\n",
       "      <td>126.761454</td>\n",
       "      <td>54.283177</td>\n",
       "    </tr>\n",
       "    <tr>\n",
       "      <th>Cabin</th>\n",
       "      <td>0.000000</td>\n",
       "      <td>0.000000</td>\n",
       "      <td>0.000000</td>\n",
       "      <td>0.000000</td>\n",
       "      <td>0.000000</td>\n",
       "      <td>0.000000</td>\n",
       "      <td>0.0</td>\n",
       "      <td>0.000000</td>\n",
       "      <td>0.000000</td>\n",
       "      <td>0.000000</td>\n",
       "      <td>0.000000</td>\n",
       "      <td>0.000000</td>\n",
       "    </tr>\n",
       "    <tr>\n",
       "      <th>Age_median</th>\n",
       "      <td>37.097298</td>\n",
       "      <td>-3.680637</td>\n",
       "      <td>204.349513</td>\n",
       "      <td>-3.311738</td>\n",
       "      <td>-1.800826</td>\n",
       "      <td>58.986531</td>\n",
       "      <td>0.0</td>\n",
       "      <td>161.989566</td>\n",
       "      <td>161.812625</td>\n",
       "      <td>149.990232</td>\n",
       "      <td>167.071135</td>\n",
       "      <td>161.937827</td>\n",
       "    </tr>\n",
       "    <tr>\n",
       "      <th>Age_mean</th>\n",
       "      <td>35.392875</td>\n",
       "      <td>-3.615778</td>\n",
       "      <td>204.349513</td>\n",
       "      <td>-3.298248</td>\n",
       "      <td>-1.847858</td>\n",
       "      <td>56.626587</td>\n",
       "      <td>0.0</td>\n",
       "      <td>161.812625</td>\n",
       "      <td>161.812625</td>\n",
       "      <td>161.812625</td>\n",
       "      <td>161.812625</td>\n",
       "      <td>161.812625</td>\n",
       "    </tr>\n",
       "    <tr>\n",
       "      <th>Age_99</th>\n",
       "      <td>-78.488425</td>\n",
       "      <td>0.717828</td>\n",
       "      <td>204.349513</td>\n",
       "      <td>-2.396963</td>\n",
       "      <td>-4.990324</td>\n",
       "      <td>-101.053412</td>\n",
       "      <td>0.0</td>\n",
       "      <td>149.990232</td>\n",
       "      <td>161.812625</td>\n",
       "      <td>951.727557</td>\n",
       "      <td>-189.535540</td>\n",
       "      <td>153.447179</td>\n",
       "    </tr>\n",
       "    <tr>\n",
       "      <th>Age_minus1</th>\n",
       "      <td>86.046412</td>\n",
       "      <td>-5.543333</td>\n",
       "      <td>204.349513</td>\n",
       "      <td>-3.699133</td>\n",
       "      <td>-0.450113</td>\n",
       "      <td>126.761454</td>\n",
       "      <td>0.0</td>\n",
       "      <td>167.071135</td>\n",
       "      <td>161.812625</td>\n",
       "      <td>-189.535540</td>\n",
       "      <td>318.089620</td>\n",
       "      <td>165.533511</td>\n",
       "    </tr>\n",
       "    <tr>\n",
       "      <th>Age_imputed</th>\n",
       "      <td>22.811154</td>\n",
       "      <td>-3.696311</td>\n",
       "      <td>204.349513</td>\n",
       "      <td>-3.124633</td>\n",
       "      <td>-1.856043</td>\n",
       "      <td>54.283177</td>\n",
       "      <td>0.0</td>\n",
       "      <td>161.937827</td>\n",
       "      <td>161.812625</td>\n",
       "      <td>153.447179</td>\n",
       "      <td>165.533511</td>\n",
       "      <td>211.961709</td>\n",
       "    </tr>\n",
       "  </tbody>\n",
       "</table>\n",
       "</div>"
      ],
      "text/plain": [
       "              PassengerId     Pclass         Age      SibSp     Parch  \\\n",
       "PassengerId  67083.511868  -1.530927   44.696863 -19.213776  2.116239   \n",
       "Pclass          -1.530927   0.702784   -4.566284   0.099283  0.023681   \n",
       "Age             44.696863  -4.566284  204.349513  -4.165283 -2.333618   \n",
       "SibSp          -19.213776   0.099283   -4.165283   1.267996  0.379281   \n",
       "Parch            2.116239   0.023681   -2.333618   0.379281  0.708695   \n",
       "Fare           288.248615 -22.791180   71.512440   8.567003  8.280261   \n",
       "Cabin            0.000000   0.000000    0.000000   0.000000  0.000000   \n",
       "Age_median      37.097298  -3.680637  204.349513  -3.311738 -1.800826   \n",
       "Age_mean        35.392875  -3.615778  204.349513  -3.298248 -1.847858   \n",
       "Age_99         -78.488425   0.717828  204.349513  -2.396963 -4.990324   \n",
       "Age_minus1      86.046412  -5.543333  204.349513  -3.699133 -0.450113   \n",
       "Age_imputed     22.811154  -3.696311  204.349513  -3.124633 -1.856043   \n",
       "\n",
       "                    Fare  Cabin  Age_median    Age_mean      Age_99  \\\n",
       "PassengerId   288.248615    0.0   37.097298   35.392875  -78.488425   \n",
       "Pclass        -22.791180    0.0   -3.680637   -3.615778    0.717828   \n",
       "Age            71.512440    0.0  204.349513  204.349513  204.349513   \n",
       "SibSp           8.567003    0.0   -3.311738   -3.298248   -2.396963   \n",
       "Parch           8.280261    0.0   -1.800826   -1.847858   -4.990324   \n",
       "Fare         2368.246832    0.0   58.986531   56.626587 -101.053412   \n",
       "Cabin           0.000000    0.0    0.000000    0.000000    0.000000   \n",
       "Age_median     58.986531    0.0  161.989566  161.812625  149.990232   \n",
       "Age_mean       56.626587    0.0  161.812625  161.812625  161.812625   \n",
       "Age_99       -101.053412    0.0  149.990232  161.812625  951.727557   \n",
       "Age_minus1    126.761454    0.0  167.071135  161.812625 -189.535540   \n",
       "Age_imputed    54.283177    0.0  161.937827  161.812625  153.447179   \n",
       "\n",
       "             Age_minus1  Age_imputed  \n",
       "PassengerId   86.046412    22.811154  \n",
       "Pclass        -5.543333    -3.696311  \n",
       "Age          204.349513   204.349513  \n",
       "SibSp         -3.699133    -3.124633  \n",
       "Parch         -0.450113    -1.856043  \n",
       "Fare         126.761454    54.283177  \n",
       "Cabin          0.000000     0.000000  \n",
       "Age_median   167.071135   161.937827  \n",
       "Age_mean     161.812625   161.812625  \n",
       "Age_99      -189.535540   153.447179  \n",
       "Age_minus1   318.089620   165.533511  \n",
       "Age_imputed  165.533511   211.961709  "
      ]
     },
     "execution_count": 111,
     "metadata": {},
     "output_type": "execute_result"
    }
   ],
   "source": [
    "# Check only the \"Age\" Column\n",
    "X_train.cov()"
   ]
  },
  {
   "cell_type": "markdown",
   "id": "ac22d866",
   "metadata": {},
   "source": [
    "# Checking the Co_Relation"
   ]
  },
  {
   "cell_type": "code",
   "execution_count": 112,
   "id": "3722d83c",
   "metadata": {},
   "outputs": [
    {
     "data": {
      "text/html": [
       "<div>\n",
       "<style scoped>\n",
       "    .dataframe tbody tr th:only-of-type {\n",
       "        vertical-align: middle;\n",
       "    }\n",
       "\n",
       "    .dataframe tbody tr th {\n",
       "        vertical-align: top;\n",
       "    }\n",
       "\n",
       "    .dataframe thead th {\n",
       "        text-align: right;\n",
       "    }\n",
       "</style>\n",
       "<table border=\"1\" class=\"dataframe\">\n",
       "  <thead>\n",
       "    <tr style=\"text-align: right;\">\n",
       "      <th></th>\n",
       "      <th>PassengerId</th>\n",
       "      <th>Pclass</th>\n",
       "      <th>Age</th>\n",
       "      <th>SibSp</th>\n",
       "      <th>Parch</th>\n",
       "      <th>Fare</th>\n",
       "      <th>Cabin</th>\n",
       "      <th>Age_median</th>\n",
       "      <th>Age_mean</th>\n",
       "      <th>Age_99</th>\n",
       "      <th>Age_minus1</th>\n",
       "      <th>Age_imputed</th>\n",
       "    </tr>\n",
       "  </thead>\n",
       "  <tbody>\n",
       "    <tr>\n",
       "      <th>PassengerId</th>\n",
       "      <td>1.000000</td>\n",
       "      <td>-0.007051</td>\n",
       "      <td>0.011997</td>\n",
       "      <td>-0.065879</td>\n",
       "      <td>0.009706</td>\n",
       "      <td>0.022869</td>\n",
       "      <td>NaN</td>\n",
       "      <td>0.011254</td>\n",
       "      <td>0.010742</td>\n",
       "      <td>-0.009823</td>\n",
       "      <td>0.018627</td>\n",
       "      <td>0.006049</td>\n",
       "    </tr>\n",
       "    <tr>\n",
       "      <th>Pclass</th>\n",
       "      <td>-0.007051</td>\n",
       "      <td>1.000000</td>\n",
       "      <td>-0.380253</td>\n",
       "      <td>0.105173</td>\n",
       "      <td>0.033555</td>\n",
       "      <td>-0.558653</td>\n",
       "      <td>NaN</td>\n",
       "      <td>-0.344960</td>\n",
       "      <td>-0.339066</td>\n",
       "      <td>0.027756</td>\n",
       "      <td>-0.370753</td>\n",
       "      <td>-0.302851</td>\n",
       "    </tr>\n",
       "    <tr>\n",
       "      <th>Age</th>\n",
       "      <td>0.011997</td>\n",
       "      <td>-0.380253</td>\n",
       "      <td>1.000000</td>\n",
       "      <td>-0.309514</td>\n",
       "      <td>-0.182537</td>\n",
       "      <td>0.095814</td>\n",
       "      <td>NaN</td>\n",
       "      <td>1.000000</td>\n",
       "      <td>1.000000</td>\n",
       "      <td>1.000000</td>\n",
       "      <td>1.000000</td>\n",
       "      <td>1.000000</td>\n",
       "    </tr>\n",
       "    <tr>\n",
       "      <th>SibSp</th>\n",
       "      <td>-0.065879</td>\n",
       "      <td>0.105173</td>\n",
       "      <td>-0.309514</td>\n",
       "      <td>1.000000</td>\n",
       "      <td>0.400103</td>\n",
       "      <td>0.156335</td>\n",
       "      <td>NaN</td>\n",
       "      <td>-0.231075</td>\n",
       "      <td>-0.230260</td>\n",
       "      <td>-0.069000</td>\n",
       "      <td>-0.184190</td>\n",
       "      <td>-0.190595</td>\n",
       "    </tr>\n",
       "    <tr>\n",
       "      <th>Parch</th>\n",
       "      <td>0.009706</td>\n",
       "      <td>0.033555</td>\n",
       "      <td>-0.182537</td>\n",
       "      <td>0.400103</td>\n",
       "      <td>1.000000</td>\n",
       "      <td>0.202116</td>\n",
       "      <td>NaN</td>\n",
       "      <td>-0.168073</td>\n",
       "      <td>-0.172557</td>\n",
       "      <td>-0.192151</td>\n",
       "      <td>-0.029979</td>\n",
       "      <td>-0.151436</td>\n",
       "    </tr>\n",
       "    <tr>\n",
       "      <th>Fare</th>\n",
       "      <td>0.022869</td>\n",
       "      <td>-0.558653</td>\n",
       "      <td>0.095814</td>\n",
       "      <td>0.156335</td>\n",
       "      <td>0.202116</td>\n",
       "      <td>1.000000</td>\n",
       "      <td>NaN</td>\n",
       "      <td>0.095235</td>\n",
       "      <td>0.091475</td>\n",
       "      <td>-0.067310</td>\n",
       "      <td>0.146049</td>\n",
       "      <td>0.076617</td>\n",
       "    </tr>\n",
       "    <tr>\n",
       "      <th>Cabin</th>\n",
       "      <td>NaN</td>\n",
       "      <td>NaN</td>\n",
       "      <td>NaN</td>\n",
       "      <td>NaN</td>\n",
       "      <td>NaN</td>\n",
       "      <td>NaN</td>\n",
       "      <td>NaN</td>\n",
       "      <td>NaN</td>\n",
       "      <td>NaN</td>\n",
       "      <td>NaN</td>\n",
       "      <td>NaN</td>\n",
       "      <td>NaN</td>\n",
       "    </tr>\n",
       "    <tr>\n",
       "      <th>Age_median</th>\n",
       "      <td>0.011254</td>\n",
       "      <td>-0.344960</td>\n",
       "      <td>1.000000</td>\n",
       "      <td>-0.231075</td>\n",
       "      <td>-0.168073</td>\n",
       "      <td>0.095235</td>\n",
       "      <td>NaN</td>\n",
       "      <td>1.000000</td>\n",
       "      <td>0.999454</td>\n",
       "      <td>0.382000</td>\n",
       "      <td>0.736009</td>\n",
       "      <td>0.873929</td>\n",
       "    </tr>\n",
       "    <tr>\n",
       "      <th>Age_mean</th>\n",
       "      <td>0.010742</td>\n",
       "      <td>-0.339066</td>\n",
       "      <td>1.000000</td>\n",
       "      <td>-0.230260</td>\n",
       "      <td>-0.172557</td>\n",
       "      <td>0.091475</td>\n",
       "      <td>NaN</td>\n",
       "      <td>0.999454</td>\n",
       "      <td>1.000000</td>\n",
       "      <td>0.412335</td>\n",
       "      <td>0.713233</td>\n",
       "      <td>0.873730</td>\n",
       "    </tr>\n",
       "    <tr>\n",
       "      <th>Age_99</th>\n",
       "      <td>-0.009823</td>\n",
       "      <td>0.027756</td>\n",
       "      <td>1.000000</td>\n",
       "      <td>-0.069000</td>\n",
       "      <td>-0.192151</td>\n",
       "      <td>-0.067310</td>\n",
       "      <td>NaN</td>\n",
       "      <td>0.382000</td>\n",
       "      <td>0.412335</td>\n",
       "      <td>1.000000</td>\n",
       "      <td>-0.344476</td>\n",
       "      <td>0.341644</td>\n",
       "    </tr>\n",
       "    <tr>\n",
       "      <th>Age_minus1</th>\n",
       "      <td>0.018627</td>\n",
       "      <td>-0.370753</td>\n",
       "      <td>1.000000</td>\n",
       "      <td>-0.184190</td>\n",
       "      <td>-0.029979</td>\n",
       "      <td>0.146049</td>\n",
       "      <td>NaN</td>\n",
       "      <td>0.736009</td>\n",
       "      <td>0.713233</td>\n",
       "      <td>-0.344476</td>\n",
       "      <td>1.000000</td>\n",
       "      <td>0.637503</td>\n",
       "    </tr>\n",
       "    <tr>\n",
       "      <th>Age_imputed</th>\n",
       "      <td>0.006049</td>\n",
       "      <td>-0.302851</td>\n",
       "      <td>1.000000</td>\n",
       "      <td>-0.190595</td>\n",
       "      <td>-0.151436</td>\n",
       "      <td>0.076617</td>\n",
       "      <td>NaN</td>\n",
       "      <td>0.873929</td>\n",
       "      <td>0.873730</td>\n",
       "      <td>0.341644</td>\n",
       "      <td>0.637503</td>\n",
       "      <td>1.000000</td>\n",
       "    </tr>\n",
       "  </tbody>\n",
       "</table>\n",
       "</div>"
      ],
      "text/plain": [
       "             PassengerId    Pclass       Age     SibSp     Parch      Fare  \\\n",
       "PassengerId     1.000000 -0.007051  0.011997 -0.065879  0.009706  0.022869   \n",
       "Pclass         -0.007051  1.000000 -0.380253  0.105173  0.033555 -0.558653   \n",
       "Age             0.011997 -0.380253  1.000000 -0.309514 -0.182537  0.095814   \n",
       "SibSp          -0.065879  0.105173 -0.309514  1.000000  0.400103  0.156335   \n",
       "Parch           0.009706  0.033555 -0.182537  0.400103  1.000000  0.202116   \n",
       "Fare            0.022869 -0.558653  0.095814  0.156335  0.202116  1.000000   \n",
       "Cabin                NaN       NaN       NaN       NaN       NaN       NaN   \n",
       "Age_median      0.011254 -0.344960  1.000000 -0.231075 -0.168073  0.095235   \n",
       "Age_mean        0.010742 -0.339066  1.000000 -0.230260 -0.172557  0.091475   \n",
       "Age_99         -0.009823  0.027756  1.000000 -0.069000 -0.192151 -0.067310   \n",
       "Age_minus1      0.018627 -0.370753  1.000000 -0.184190 -0.029979  0.146049   \n",
       "Age_imputed     0.006049 -0.302851  1.000000 -0.190595 -0.151436  0.076617   \n",
       "\n",
       "             Cabin  Age_median  Age_mean    Age_99  Age_minus1  Age_imputed  \n",
       "PassengerId    NaN    0.011254  0.010742 -0.009823    0.018627     0.006049  \n",
       "Pclass         NaN   -0.344960 -0.339066  0.027756   -0.370753    -0.302851  \n",
       "Age            NaN    1.000000  1.000000  1.000000    1.000000     1.000000  \n",
       "SibSp          NaN   -0.231075 -0.230260 -0.069000   -0.184190    -0.190595  \n",
       "Parch          NaN   -0.168073 -0.172557 -0.192151   -0.029979    -0.151436  \n",
       "Fare           NaN    0.095235  0.091475 -0.067310    0.146049     0.076617  \n",
       "Cabin          NaN         NaN       NaN       NaN         NaN          NaN  \n",
       "Age_median     NaN    1.000000  0.999454  0.382000    0.736009     0.873929  \n",
       "Age_mean       NaN    0.999454  1.000000  0.412335    0.713233     0.873730  \n",
       "Age_99         NaN    0.382000  0.412335  1.000000   -0.344476     0.341644  \n",
       "Age_minus1     NaN    0.736009  0.713233 -0.344476    1.000000     0.637503  \n",
       "Age_imputed    NaN    0.873929  0.873730  0.341644    0.637503     1.000000  "
      ]
     },
     "execution_count": 112,
     "metadata": {},
     "output_type": "execute_result"
    }
   ],
   "source": [
    "X_train.corr()"
   ]
  },
  {
   "cell_type": "markdown",
   "id": "f6890c75",
   "metadata": {},
   "source": [
    "# Checking the Outliers for the 'Age' Column"
   ]
  },
  {
   "cell_type": "code",
   "execution_count": 113,
   "id": "34f743e7",
   "metadata": {},
   "outputs": [
    {
     "data": {
      "text/plain": [
       "<AxesSubplot:>"
      ]
     },
     "execution_count": 113,
     "metadata": {},
     "output_type": "execute_result"
    },
    {
     "data": {
      "image/png": "[encoded data removed]",
      "text/plain": [
       "<Figure size 432x288 with 1 Axes>"
      ]
     },
     "metadata": {
      "needs_background": "light"
     },
     "output_type": "display_data"
    }
   ],
   "source": [
    "X_train[['Age','Age_mean','Age_median','Age_99','Age_minus1','Age_imputed']].boxplot()"
   ]
  },
  {
   "cell_type": "markdown",
   "id": "835e79e0",
   "metadata": {},
   "source": [
    "* Here we are getting lot \"Outlier\" in the dataset while appling 'Mean' and 'Median' values\n",
    "* And while appling 'Orbitary' values the data gets vary\n",
    "* While replacing Random values slightly data changes"
   ]
  },
  {
   "cell_type": "code",
   "execution_count": null,
   "id": "4455f3cb",
   "metadata": {},
   "outputs": [],
   "source": []
  }
 ],
 "metadata": {
  "kernelspec": {
   "display_name": "Python 3",
   "language": "python",
   "name": "python3"
  },
  "language_info": {
   "codemirror_mode": {
    "name": "ipython",
    "version": 3
   },
   "file_extension": ".py",
   "mimetype": "text/x-python",
   "name": "python",
   "nbconvert_exporter": "python",
   "pygments_lexer": "ipython3",
   "version": "3.8.8"
  }
 },
 "nbformat": 4,
 "nbformat_minor": 5
}
